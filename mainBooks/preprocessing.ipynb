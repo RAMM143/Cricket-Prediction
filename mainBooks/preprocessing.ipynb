{
 "cells": [
  {
   "cell_type": "code",
   "execution_count": 405,
   "metadata": {},
   "outputs": [],
   "source": [
    "import polars as pl"
   ]
  },
  {
   "cell_type": "code",
   "execution_count": 406,
   "metadata": {},
   "outputs": [
    {
     "data": {
      "text/html": [
       "<div><style>\n",
       ".dataframe > thead > tr,\n",
       ".dataframe > tbody > tr {\n",
       "  text-align: right;\n",
       "  white-space: pre-wrap;\n",
       "}\n",
       "</style>\n",
       "<small>shape: (5, 22)</small><table border=\"1\" class=\"dataframe\"><thead><tr><th>match_id</th><th>season</th><th>start_date</th><th>venue</th><th>innings</th><th>ball</th><th>batting_team</th><th>bowling_team</th><th>striker</th><th>non_striker</th><th>bowler</th><th>runs_off_bat</th><th>extras</th><th>wides</th><th>noballs</th><th>byes</th><th>legbyes</th><th>penalty</th><th>wicket_type</th><th>player_dismissed</th><th>other_wicket_type</th><th>other_player_dismissed</th></tr><tr><td>i64</td><td>str</td><td>str</td><td>str</td><td>i64</td><td>f64</td><td>str</td><td>str</td><td>str</td><td>str</td><td>str</td><td>i64</td><td>i64</td><td>i64</td><td>str</td><td>i64</td><td>i64</td><td>str</td><td>str</td><td>str</td><td>str</td><td>str</td></tr></thead><tbody><tr><td>1001349</td><td>&quot;2016/17&quot;</td><td>&quot;2017-02-17&quot;</td><td>&quot;Melbourne Cricket Ground&quot;</td><td>1</td><td>0.1</td><td>&quot;Australia&quot;</td><td>&quot;Sri Lanka&quot;</td><td>&quot;AJ Finch&quot;</td><td>&quot;M Klinger&quot;</td><td>&quot;SL Malinga&quot;</td><td>0</td><td>0</td><td>null</td><td>null</td><td>null</td><td>null</td><td>null</td><td>null</td><td>null</td><td>null</td><td>null</td></tr><tr><td>1001349</td><td>&quot;2016/17&quot;</td><td>&quot;2017-02-17&quot;</td><td>&quot;Melbourne Cricket Ground&quot;</td><td>1</td><td>0.2</td><td>&quot;Australia&quot;</td><td>&quot;Sri Lanka&quot;</td><td>&quot;AJ Finch&quot;</td><td>&quot;M Klinger&quot;</td><td>&quot;SL Malinga&quot;</td><td>0</td><td>0</td><td>null</td><td>null</td><td>null</td><td>null</td><td>null</td><td>null</td><td>null</td><td>null</td><td>null</td></tr><tr><td>1001349</td><td>&quot;2016/17&quot;</td><td>&quot;2017-02-17&quot;</td><td>&quot;Melbourne Cricket Ground&quot;</td><td>1</td><td>0.3</td><td>&quot;Australia&quot;</td><td>&quot;Sri Lanka&quot;</td><td>&quot;AJ Finch&quot;</td><td>&quot;M Klinger&quot;</td><td>&quot;SL Malinga&quot;</td><td>1</td><td>0</td><td>null</td><td>null</td><td>null</td><td>null</td><td>null</td><td>null</td><td>null</td><td>null</td><td>null</td></tr><tr><td>1001349</td><td>&quot;2016/17&quot;</td><td>&quot;2017-02-17&quot;</td><td>&quot;Melbourne Cricket Ground&quot;</td><td>1</td><td>0.4</td><td>&quot;Australia&quot;</td><td>&quot;Sri Lanka&quot;</td><td>&quot;M Klinger&quot;</td><td>&quot;AJ Finch&quot;</td><td>&quot;SL Malinga&quot;</td><td>2</td><td>0</td><td>null</td><td>null</td><td>null</td><td>null</td><td>null</td><td>null</td><td>null</td><td>null</td><td>null</td></tr><tr><td>1001349</td><td>&quot;2016/17&quot;</td><td>&quot;2017-02-17&quot;</td><td>&quot;Melbourne Cricket Ground&quot;</td><td>1</td><td>0.5</td><td>&quot;Australia&quot;</td><td>&quot;Sri Lanka&quot;</td><td>&quot;M Klinger&quot;</td><td>&quot;AJ Finch&quot;</td><td>&quot;SL Malinga&quot;</td><td>0</td><td>0</td><td>null</td><td>null</td><td>null</td><td>null</td><td>null</td><td>null</td><td>null</td><td>null</td><td>null</td></tr></tbody></table></div>"
      ],
      "text/plain": [
       "shape: (5, 22)\n",
       "┌──────────┬─────────┬────────────┬────────────┬───┬───────────┬───────────┬───────────┬───────────┐\n",
       "│ match_id ┆ season  ┆ start_date ┆ venue      ┆ … ┆ wicket_ty ┆ player_di ┆ other_wic ┆ other_pla │\n",
       "│ ---      ┆ ---     ┆ ---        ┆ ---        ┆   ┆ pe        ┆ smissed   ┆ ket_type  ┆ yer_dismi │\n",
       "│ i64      ┆ str     ┆ str        ┆ str        ┆   ┆ ---       ┆ ---       ┆ ---       ┆ ssed      │\n",
       "│          ┆         ┆            ┆            ┆   ┆ str       ┆ str       ┆ str       ┆ ---       │\n",
       "│          ┆         ┆            ┆            ┆   ┆           ┆           ┆           ┆ str       │\n",
       "╞══════════╪═════════╪════════════╪════════════╪═══╪═══════════╪═══════════╪═══════════╪═══════════╡\n",
       "│ 1001349  ┆ 2016/17 ┆ 2017-02-17 ┆ Melbourne  ┆ … ┆ null      ┆ null      ┆ null      ┆ null      │\n",
       "│          ┆         ┆            ┆ Cricket    ┆   ┆           ┆           ┆           ┆           │\n",
       "│          ┆         ┆            ┆ Ground     ┆   ┆           ┆           ┆           ┆           │\n",
       "│ 1001349  ┆ 2016/17 ┆ 2017-02-17 ┆ Melbourne  ┆ … ┆ null      ┆ null      ┆ null      ┆ null      │\n",
       "│          ┆         ┆            ┆ Cricket    ┆   ┆           ┆           ┆           ┆           │\n",
       "│          ┆         ┆            ┆ Ground     ┆   ┆           ┆           ┆           ┆           │\n",
       "│ 1001349  ┆ 2016/17 ┆ 2017-02-17 ┆ Melbourne  ┆ … ┆ null      ┆ null      ┆ null      ┆ null      │\n",
       "│          ┆         ┆            ┆ Cricket    ┆   ┆           ┆           ┆           ┆           │\n",
       "│          ┆         ┆            ┆ Ground     ┆   ┆           ┆           ┆           ┆           │\n",
       "│ 1001349  ┆ 2016/17 ┆ 2017-02-17 ┆ Melbourne  ┆ … ┆ null      ┆ null      ┆ null      ┆ null      │\n",
       "│          ┆         ┆            ┆ Cricket    ┆   ┆           ┆           ┆           ┆           │\n",
       "│          ┆         ┆            ┆ Ground     ┆   ┆           ┆           ┆           ┆           │\n",
       "│ 1001349  ┆ 2016/17 ┆ 2017-02-17 ┆ Melbourne  ┆ … ┆ null      ┆ null      ┆ null      ┆ null      │\n",
       "│          ┆         ┆            ┆ Cricket    ┆   ┆           ┆           ┆           ┆           │\n",
       "│          ┆         ┆            ┆ Ground     ┆   ┆           ┆           ┆           ┆           │\n",
       "└──────────┴─────────┴────────────┴────────────┴───┴───────────┴───────────┴───────────┴───────────┘"
      ]
     },
     "execution_count": 406,
     "metadata": {},
     "output_type": "execute_result"
    }
   ],
   "source": [
    "deliveries=pl.read_parquet('..\\historical_data\\cricsheetSource\\deliveries.parquet')\n",
    "deliveries.head()"
   ]
  },
  {
   "cell_type": "code",
   "execution_count": 407,
   "metadata": {},
   "outputs": [
    {
     "data": {
      "text/html": [
       "<div><style>\n",
       ".dataframe > thead > tr,\n",
       ".dataframe > tbody > tr {\n",
       "  text-align: right;\n",
       "  white-space: pre-wrap;\n",
       "}\n",
       "</style>\n",
       "<small>shape: (794_009, 16)</small><table border=\"1\" class=\"dataframe\"><thead><tr><th>match_id</th><th>innings</th><th>ball</th><th>batting_team</th><th>bowling_team</th><th>runs_off_bat</th><th>extras</th><th>wides</th><th>noballs</th><th>byes</th><th>legbyes</th><th>penalty</th><th>wicket_type</th><th>player_dismissed</th><th>other_wicket_type</th><th>other_player_dismissed</th></tr><tr><td>i64</td><td>i64</td><td>f64</td><td>str</td><td>str</td><td>i64</td><td>i64</td><td>i64</td><td>str</td><td>i64</td><td>i64</td><td>str</td><td>str</td><td>str</td><td>str</td><td>str</td></tr></thead><tbody><tr><td>1001349</td><td>1</td><td>0.1</td><td>&quot;Australia&quot;</td><td>&quot;Sri Lanka&quot;</td><td>0</td><td>0</td><td>0</td><td>null</td><td>0</td><td>0</td><td>null</td><td>null</td><td>null</td><td>null</td><td>null</td></tr><tr><td>1001349</td><td>1</td><td>0.2</td><td>&quot;Australia&quot;</td><td>&quot;Sri Lanka&quot;</td><td>0</td><td>0</td><td>0</td><td>null</td><td>0</td><td>0</td><td>null</td><td>null</td><td>null</td><td>null</td><td>null</td></tr><tr><td>1001349</td><td>1</td><td>0.3</td><td>&quot;Australia&quot;</td><td>&quot;Sri Lanka&quot;</td><td>1</td><td>0</td><td>0</td><td>null</td><td>0</td><td>0</td><td>null</td><td>null</td><td>null</td><td>null</td><td>null</td></tr><tr><td>1001349</td><td>1</td><td>0.4</td><td>&quot;Australia&quot;</td><td>&quot;Sri Lanka&quot;</td><td>2</td><td>0</td><td>0</td><td>null</td><td>0</td><td>0</td><td>null</td><td>null</td><td>null</td><td>null</td><td>null</td></tr><tr><td>1001349</td><td>1</td><td>0.5</td><td>&quot;Australia&quot;</td><td>&quot;Sri Lanka&quot;</td><td>0</td><td>0</td><td>0</td><td>null</td><td>0</td><td>0</td><td>null</td><td>null</td><td>null</td><td>null</td><td>null</td></tr><tr><td>&hellip;</td><td>&hellip;</td><td>&hellip;</td><td>&hellip;</td><td>&hellip;</td><td>&hellip;</td><td>&hellip;</td><td>&hellip;</td><td>&hellip;</td><td>&hellip;</td><td>&hellip;</td><td>&hellip;</td><td>&hellip;</td><td>&hellip;</td><td>&hellip;</td><td>&hellip;</td></tr><tr><td>995469</td><td>2</td><td>17.1</td><td>&quot;Australia&quot;</td><td>&quot;Sri Lanka&quot;</td><td>1</td><td>0</td><td>0</td><td>null</td><td>0</td><td>0</td><td>null</td><td>null</td><td>null</td><td>null</td><td>null</td></tr><tr><td>995469</td><td>2</td><td>17.2</td><td>&quot;Australia&quot;</td><td>&quot;Sri Lanka&quot;</td><td>3</td><td>0</td><td>0</td><td>null</td><td>0</td><td>0</td><td>null</td><td>null</td><td>null</td><td>null</td><td>null</td></tr><tr><td>995469</td><td>2</td><td>17.3</td><td>&quot;Australia&quot;</td><td>&quot;Sri Lanka&quot;</td><td>0</td><td>0</td><td>0</td><td>null</td><td>0</td><td>0</td><td>null</td><td>null</td><td>null</td><td>null</td><td>null</td></tr><tr><td>995469</td><td>2</td><td>17.4</td><td>&quot;Australia&quot;</td><td>&quot;Sri Lanka&quot;</td><td>0</td><td>0</td><td>0</td><td>null</td><td>0</td><td>0</td><td>null</td><td>null</td><td>null</td><td>null</td><td>null</td></tr><tr><td>995469</td><td>2</td><td>17.5</td><td>&quot;Australia&quot;</td><td>&quot;Sri Lanka&quot;</td><td>6</td><td>0</td><td>0</td><td>null</td><td>0</td><td>0</td><td>null</td><td>null</td><td>null</td><td>null</td><td>null</td></tr></tbody></table></div>"
      ],
      "text/plain": [
       "shape: (794_009, 16)\n",
       "┌──────────┬─────────┬──────┬─────────────┬───┬─────────────┬────────────┬────────────┬────────────┐\n",
       "│ match_id ┆ innings ┆ ball ┆ batting_tea ┆ … ┆ wicket_type ┆ player_dis ┆ other_wick ┆ other_play │\n",
       "│ ---      ┆ ---     ┆ ---  ┆ m           ┆   ┆ ---         ┆ missed     ┆ et_type    ┆ er_dismiss │\n",
       "│ i64      ┆ i64     ┆ f64  ┆ ---         ┆   ┆ str         ┆ ---        ┆ ---        ┆ ed         │\n",
       "│          ┆         ┆      ┆ str         ┆   ┆             ┆ str        ┆ str        ┆ ---        │\n",
       "│          ┆         ┆      ┆             ┆   ┆             ┆            ┆            ┆ str        │\n",
       "╞══════════╪═════════╪══════╪═════════════╪═══╪═════════════╪════════════╪════════════╪════════════╡\n",
       "│ 1001349  ┆ 1       ┆ 0.1  ┆ Australia   ┆ … ┆ null        ┆ null       ┆ null       ┆ null       │\n",
       "│ 1001349  ┆ 1       ┆ 0.2  ┆ Australia   ┆ … ┆ null        ┆ null       ┆ null       ┆ null       │\n",
       "│ 1001349  ┆ 1       ┆ 0.3  ┆ Australia   ┆ … ┆ null        ┆ null       ┆ null       ┆ null       │\n",
       "│ 1001349  ┆ 1       ┆ 0.4  ┆ Australia   ┆ … ┆ null        ┆ null       ┆ null       ┆ null       │\n",
       "│ 1001349  ┆ 1       ┆ 0.5  ┆ Australia   ┆ … ┆ null        ┆ null       ┆ null       ┆ null       │\n",
       "│ …        ┆ …       ┆ …    ┆ …           ┆ … ┆ …           ┆ …          ┆ …          ┆ …          │\n",
       "│ 995469   ┆ 2       ┆ 17.1 ┆ Australia   ┆ … ┆ null        ┆ null       ┆ null       ┆ null       │\n",
       "│ 995469   ┆ 2       ┆ 17.2 ┆ Australia   ┆ … ┆ null        ┆ null       ┆ null       ┆ null       │\n",
       "│ 995469   ┆ 2       ┆ 17.3 ┆ Australia   ┆ … ┆ null        ┆ null       ┆ null       ┆ null       │\n",
       "│ 995469   ┆ 2       ┆ 17.4 ┆ Australia   ┆ … ┆ null        ┆ null       ┆ null       ┆ null       │\n",
       "│ 995469   ┆ 2       ┆ 17.5 ┆ Australia   ┆ … ┆ null        ┆ null       ┆ null       ┆ null       │\n",
       "└──────────┴─────────┴──────┴─────────────┴───┴─────────────┴────────────┴────────────┴────────────┘"
      ]
     },
     "execution_count": 407,
     "metadata": {},
     "output_type": "execute_result"
    }
   ],
   "source": [
    "deliveries=deliveries.fill_null(0).drop(['season','venue','start_date','venue','striker','non_striker','bowler'])\n",
    "deliveries"
   ]
  },
  {
   "cell_type": "code",
   "execution_count": 408,
   "metadata": {},
   "outputs": [],
   "source": [
    "deliveries=deliveries.with_columns(deliveries['noballs'].cast(pl.Int16).fill_null(0))\n",
    "deliveries=deliveries.with_columns(deliveries['penalty'].cast(pl.Int16).fill_null(0))\n",
    "deliveries=deliveries.with_columns(deliveries['player_dismissed'].is_not_null().cast(pl.Int16))\n",
    "deliveries=deliveries.with_columns(deliveries['other_player_dismissed'].is_not_null().cast(pl.Int16))"
   ]
  },
  {
   "cell_type": "code",
   "execution_count": 409,
   "metadata": {},
   "outputs": [
    {
     "data": {
      "text/html": [
       "<div><style>\n",
       ".dataframe > thead > tr,\n",
       ".dataframe > tbody > tr {\n",
       "  text-align: right;\n",
       "  white-space: pre-wrap;\n",
       "}\n",
       "</style>\n",
       "<small>shape: (794_009, 16)</small><table border=\"1\" class=\"dataframe\"><thead><tr><th>match_id</th><th>innings</th><th>ball</th><th>batting_team</th><th>bowling_team</th><th>runs_off_bat</th><th>extras</th><th>wides</th><th>noballs</th><th>byes</th><th>legbyes</th><th>penalty</th><th>wicket_type</th><th>player_dismissed</th><th>other_wicket_type</th><th>other_player_dismissed</th></tr><tr><td>i64</td><td>i64</td><td>f64</td><td>str</td><td>str</td><td>i64</td><td>i64</td><td>i64</td><td>i16</td><td>i64</td><td>i64</td><td>i16</td><td>str</td><td>i16</td><td>str</td><td>i16</td></tr></thead><tbody><tr><td>1001349</td><td>1</td><td>0.1</td><td>&quot;Australia&quot;</td><td>&quot;Sri Lanka&quot;</td><td>0</td><td>0</td><td>0</td><td>0</td><td>0</td><td>0</td><td>0</td><td>null</td><td>0</td><td>null</td><td>0</td></tr><tr><td>1001349</td><td>1</td><td>0.2</td><td>&quot;Australia&quot;</td><td>&quot;Sri Lanka&quot;</td><td>0</td><td>0</td><td>0</td><td>0</td><td>0</td><td>0</td><td>0</td><td>null</td><td>0</td><td>null</td><td>0</td></tr><tr><td>1001349</td><td>1</td><td>0.3</td><td>&quot;Australia&quot;</td><td>&quot;Sri Lanka&quot;</td><td>1</td><td>0</td><td>0</td><td>0</td><td>0</td><td>0</td><td>0</td><td>null</td><td>0</td><td>null</td><td>0</td></tr><tr><td>1001349</td><td>1</td><td>0.4</td><td>&quot;Australia&quot;</td><td>&quot;Sri Lanka&quot;</td><td>2</td><td>0</td><td>0</td><td>0</td><td>0</td><td>0</td><td>0</td><td>null</td><td>0</td><td>null</td><td>0</td></tr><tr><td>1001349</td><td>1</td><td>0.5</td><td>&quot;Australia&quot;</td><td>&quot;Sri Lanka&quot;</td><td>0</td><td>0</td><td>0</td><td>0</td><td>0</td><td>0</td><td>0</td><td>null</td><td>0</td><td>null</td><td>0</td></tr><tr><td>&hellip;</td><td>&hellip;</td><td>&hellip;</td><td>&hellip;</td><td>&hellip;</td><td>&hellip;</td><td>&hellip;</td><td>&hellip;</td><td>&hellip;</td><td>&hellip;</td><td>&hellip;</td><td>&hellip;</td><td>&hellip;</td><td>&hellip;</td><td>&hellip;</td><td>&hellip;</td></tr><tr><td>995469</td><td>2</td><td>17.1</td><td>&quot;Australia&quot;</td><td>&quot;Sri Lanka&quot;</td><td>1</td><td>0</td><td>0</td><td>0</td><td>0</td><td>0</td><td>0</td><td>null</td><td>0</td><td>null</td><td>0</td></tr><tr><td>995469</td><td>2</td><td>17.2</td><td>&quot;Australia&quot;</td><td>&quot;Sri Lanka&quot;</td><td>3</td><td>0</td><td>0</td><td>0</td><td>0</td><td>0</td><td>0</td><td>null</td><td>0</td><td>null</td><td>0</td></tr><tr><td>995469</td><td>2</td><td>17.3</td><td>&quot;Australia&quot;</td><td>&quot;Sri Lanka&quot;</td><td>0</td><td>0</td><td>0</td><td>0</td><td>0</td><td>0</td><td>0</td><td>null</td><td>0</td><td>null</td><td>0</td></tr><tr><td>995469</td><td>2</td><td>17.4</td><td>&quot;Australia&quot;</td><td>&quot;Sri Lanka&quot;</td><td>0</td><td>0</td><td>0</td><td>0</td><td>0</td><td>0</td><td>0</td><td>null</td><td>0</td><td>null</td><td>0</td></tr><tr><td>995469</td><td>2</td><td>17.5</td><td>&quot;Australia&quot;</td><td>&quot;Sri Lanka&quot;</td><td>6</td><td>0</td><td>0</td><td>0</td><td>0</td><td>0</td><td>0</td><td>null</td><td>0</td><td>null</td><td>0</td></tr></tbody></table></div>"
      ],
      "text/plain": [
       "shape: (794_009, 16)\n",
       "┌──────────┬─────────┬──────┬─────────────┬───┬─────────────┬────────────┬────────────┬────────────┐\n",
       "│ match_id ┆ innings ┆ ball ┆ batting_tea ┆ … ┆ wicket_type ┆ player_dis ┆ other_wick ┆ other_play │\n",
       "│ ---      ┆ ---     ┆ ---  ┆ m           ┆   ┆ ---         ┆ missed     ┆ et_type    ┆ er_dismiss │\n",
       "│ i64      ┆ i64     ┆ f64  ┆ ---         ┆   ┆ str         ┆ ---        ┆ ---        ┆ ed         │\n",
       "│          ┆         ┆      ┆ str         ┆   ┆             ┆ i16        ┆ str        ┆ ---        │\n",
       "│          ┆         ┆      ┆             ┆   ┆             ┆            ┆            ┆ i16        │\n",
       "╞══════════╪═════════╪══════╪═════════════╪═══╪═════════════╪════════════╪════════════╪════════════╡\n",
       "│ 1001349  ┆ 1       ┆ 0.1  ┆ Australia   ┆ … ┆ null        ┆ 0          ┆ null       ┆ 0          │\n",
       "│ 1001349  ┆ 1       ┆ 0.2  ┆ Australia   ┆ … ┆ null        ┆ 0          ┆ null       ┆ 0          │\n",
       "│ 1001349  ┆ 1       ┆ 0.3  ┆ Australia   ┆ … ┆ null        ┆ 0          ┆ null       ┆ 0          │\n",
       "│ 1001349  ┆ 1       ┆ 0.4  ┆ Australia   ┆ … ┆ null        ┆ 0          ┆ null       ┆ 0          │\n",
       "│ 1001349  ┆ 1       ┆ 0.5  ┆ Australia   ┆ … ┆ null        ┆ 0          ┆ null       ┆ 0          │\n",
       "│ …        ┆ …       ┆ …    ┆ …           ┆ … ┆ …           ┆ …          ┆ …          ┆ …          │\n",
       "│ 995469   ┆ 2       ┆ 17.1 ┆ Australia   ┆ … ┆ null        ┆ 0          ┆ null       ┆ 0          │\n",
       "│ 995469   ┆ 2       ┆ 17.2 ┆ Australia   ┆ … ┆ null        ┆ 0          ┆ null       ┆ 0          │\n",
       "│ 995469   ┆ 2       ┆ 17.3 ┆ Australia   ┆ … ┆ null        ┆ 0          ┆ null       ┆ 0          │\n",
       "│ 995469   ┆ 2       ┆ 17.4 ┆ Australia   ┆ … ┆ null        ┆ 0          ┆ null       ┆ 0          │\n",
       "│ 995469   ┆ 2       ┆ 17.5 ┆ Australia   ┆ … ┆ null        ┆ 0          ┆ null       ┆ 0          │\n",
       "└──────────┴─────────┴──────┴─────────────┴───┴─────────────┴────────────┴────────────┴────────────┘"
      ]
     },
     "execution_count": 409,
     "metadata": {},
     "output_type": "execute_result"
    }
   ],
   "source": [
    "deliveries"
   ]
  },
  {
   "cell_type": "code",
   "execution_count": 410,
   "metadata": {},
   "outputs": [
    {
     "data": {
      "text/html": [
       "<div><style>\n",
       ".dataframe > thead > tr,\n",
       ".dataframe > tbody > tr {\n",
       "  text-align: right;\n",
       "  white-space: pre-wrap;\n",
       "}\n",
       "</style>\n",
       "<small>shape: (794_009, 7)</small><table border=\"1\" class=\"dataframe\"><thead><tr><th>match_id</th><th>innings</th><th>ball</th><th>batting_team</th><th>bowling_team</th><th>runs</th><th>wickets</th></tr><tr><td>i64</td><td>i64</td><td>f64</td><td>str</td><td>str</td><td>i64</td><td>i16</td></tr></thead><tbody><tr><td>1001349</td><td>1</td><td>0.1</td><td>&quot;Australia&quot;</td><td>&quot;Sri Lanka&quot;</td><td>0</td><td>0</td></tr><tr><td>1001349</td><td>1</td><td>0.2</td><td>&quot;Australia&quot;</td><td>&quot;Sri Lanka&quot;</td><td>0</td><td>0</td></tr><tr><td>1001349</td><td>1</td><td>0.3</td><td>&quot;Australia&quot;</td><td>&quot;Sri Lanka&quot;</td><td>1</td><td>0</td></tr><tr><td>1001349</td><td>1</td><td>0.4</td><td>&quot;Australia&quot;</td><td>&quot;Sri Lanka&quot;</td><td>2</td><td>0</td></tr><tr><td>1001349</td><td>1</td><td>0.5</td><td>&quot;Australia&quot;</td><td>&quot;Sri Lanka&quot;</td><td>0</td><td>0</td></tr><tr><td>&hellip;</td><td>&hellip;</td><td>&hellip;</td><td>&hellip;</td><td>&hellip;</td><td>&hellip;</td><td>&hellip;</td></tr><tr><td>995469</td><td>2</td><td>17.1</td><td>&quot;Australia&quot;</td><td>&quot;Sri Lanka&quot;</td><td>1</td><td>0</td></tr><tr><td>995469</td><td>2</td><td>17.2</td><td>&quot;Australia&quot;</td><td>&quot;Sri Lanka&quot;</td><td>3</td><td>0</td></tr><tr><td>995469</td><td>2</td><td>17.3</td><td>&quot;Australia&quot;</td><td>&quot;Sri Lanka&quot;</td><td>0</td><td>0</td></tr><tr><td>995469</td><td>2</td><td>17.4</td><td>&quot;Australia&quot;</td><td>&quot;Sri Lanka&quot;</td><td>0</td><td>0</td></tr><tr><td>995469</td><td>2</td><td>17.5</td><td>&quot;Australia&quot;</td><td>&quot;Sri Lanka&quot;</td><td>6</td><td>0</td></tr></tbody></table></div>"
      ],
      "text/plain": [
       "shape: (794_009, 7)\n",
       "┌──────────┬─────────┬──────┬──────────────┬──────────────┬──────┬─────────┐\n",
       "│ match_id ┆ innings ┆ ball ┆ batting_team ┆ bowling_team ┆ runs ┆ wickets │\n",
       "│ ---      ┆ ---     ┆ ---  ┆ ---          ┆ ---          ┆ ---  ┆ ---     │\n",
       "│ i64      ┆ i64     ┆ f64  ┆ str          ┆ str          ┆ i64  ┆ i16     │\n",
       "╞══════════╪═════════╪══════╪══════════════╪══════════════╪══════╪═════════╡\n",
       "│ 1001349  ┆ 1       ┆ 0.1  ┆ Australia    ┆ Sri Lanka    ┆ 0    ┆ 0       │\n",
       "│ 1001349  ┆ 1       ┆ 0.2  ┆ Australia    ┆ Sri Lanka    ┆ 0    ┆ 0       │\n",
       "│ 1001349  ┆ 1       ┆ 0.3  ┆ Australia    ┆ Sri Lanka    ┆ 1    ┆ 0       │\n",
       "│ 1001349  ┆ 1       ┆ 0.4  ┆ Australia    ┆ Sri Lanka    ┆ 2    ┆ 0       │\n",
       "│ 1001349  ┆ 1       ┆ 0.5  ┆ Australia    ┆ Sri Lanka    ┆ 0    ┆ 0       │\n",
       "│ …        ┆ …       ┆ …    ┆ …            ┆ …            ┆ …    ┆ …       │\n",
       "│ 995469   ┆ 2       ┆ 17.1 ┆ Australia    ┆ Sri Lanka    ┆ 1    ┆ 0       │\n",
       "│ 995469   ┆ 2       ┆ 17.2 ┆ Australia    ┆ Sri Lanka    ┆ 3    ┆ 0       │\n",
       "│ 995469   ┆ 2       ┆ 17.3 ┆ Australia    ┆ Sri Lanka    ┆ 0    ┆ 0       │\n",
       "│ 995469   ┆ 2       ┆ 17.4 ┆ Australia    ┆ Sri Lanka    ┆ 0    ┆ 0       │\n",
       "│ 995469   ┆ 2       ┆ 17.5 ┆ Australia    ┆ Sri Lanka    ┆ 6    ┆ 0       │\n",
       "└──────────┴─────────┴──────┴──────────────┴──────────────┴──────┴─────────┘"
      ]
     },
     "execution_count": 410,
     "metadata": {},
     "output_type": "execute_result"
    }
   ],
   "source": [
    "deliveries=deliveries.with_columns(deliveries[['runs_off_bat','extras','wides','noballs','byes','legbyes','penalty']].sum_horizontal().alias(\"runs\")).drop(['runs_off_bat','extras','wides','noballs','byes','legbyes','penalty'])\n",
    "deliveries=deliveries.with_columns(deliveries[['player_dismissed','other_player_dismissed']].sum_horizontal().alias(\"wickets\")).drop(['wicket_type','player_dismissed','other_wicket_type','other_player_dismissed'])\n",
    "deliveries"
   ]
  },
  {
   "cell_type": "code",
   "execution_count": 411,
   "metadata": {},
   "outputs": [
    {
     "data": {
      "text/html": [
       "<div><style>\n",
       ".dataframe > thead > tr,\n",
       ".dataframe > tbody > tr {\n",
       "  text-align: right;\n",
       "  white-space: pre-wrap;\n",
       "}\n",
       "</style>\n",
       "<small>shape: (794_009, 7)</small><table border=\"1\" class=\"dataframe\"><thead><tr><th>match_id</th><th>innings</th><th>ball</th><th>batting_team</th><th>bowling_team</th><th>curr_score</th><th>curr_wickets</th></tr><tr><td>i64</td><td>i64</td><td>f64</td><td>str</td><td>str</td><td>i64</td><td>i64</td></tr></thead><tbody><tr><td>1001349</td><td>1</td><td>0.1</td><td>&quot;Australia&quot;</td><td>&quot;Sri Lanka&quot;</td><td>0</td><td>0</td></tr><tr><td>1001349</td><td>1</td><td>0.2</td><td>&quot;Australia&quot;</td><td>&quot;Sri Lanka&quot;</td><td>0</td><td>0</td></tr><tr><td>1001349</td><td>1</td><td>0.3</td><td>&quot;Australia&quot;</td><td>&quot;Sri Lanka&quot;</td><td>1</td><td>0</td></tr><tr><td>1001349</td><td>1</td><td>0.4</td><td>&quot;Australia&quot;</td><td>&quot;Sri Lanka&quot;</td><td>3</td><td>0</td></tr><tr><td>1001349</td><td>1</td><td>0.5</td><td>&quot;Australia&quot;</td><td>&quot;Sri Lanka&quot;</td><td>3</td><td>0</td></tr><tr><td>&hellip;</td><td>&hellip;</td><td>&hellip;</td><td>&hellip;</td><td>&hellip;</td><td>&hellip;</td><td>&hellip;</td></tr><tr><td>995469</td><td>2</td><td>17.1</td><td>&quot;Australia&quot;</td><td>&quot;Sri Lanka&quot;</td><td>126</td><td>6</td></tr><tr><td>995469</td><td>2</td><td>17.2</td><td>&quot;Australia&quot;</td><td>&quot;Sri Lanka&quot;</td><td>129</td><td>6</td></tr><tr><td>995469</td><td>2</td><td>17.3</td><td>&quot;Australia&quot;</td><td>&quot;Sri Lanka&quot;</td><td>129</td><td>6</td></tr><tr><td>995469</td><td>2</td><td>17.4</td><td>&quot;Australia&quot;</td><td>&quot;Sri Lanka&quot;</td><td>129</td><td>6</td></tr><tr><td>995469</td><td>2</td><td>17.5</td><td>&quot;Australia&quot;</td><td>&quot;Sri Lanka&quot;</td><td>135</td><td>6</td></tr></tbody></table></div>"
      ],
      "text/plain": [
       "shape: (794_009, 7)\n",
       "┌──────────┬─────────┬──────┬──────────────┬──────────────┬────────────┬──────────────┐\n",
       "│ match_id ┆ innings ┆ ball ┆ batting_team ┆ bowling_team ┆ curr_score ┆ curr_wickets │\n",
       "│ ---      ┆ ---     ┆ ---  ┆ ---          ┆ ---          ┆ ---        ┆ ---          │\n",
       "│ i64      ┆ i64     ┆ f64  ┆ str          ┆ str          ┆ i64        ┆ i64          │\n",
       "╞══════════╪═════════╪══════╪══════════════╪══════════════╪════════════╪══════════════╡\n",
       "│ 1001349  ┆ 1       ┆ 0.1  ┆ Australia    ┆ Sri Lanka    ┆ 0          ┆ 0            │\n",
       "│ 1001349  ┆ 1       ┆ 0.2  ┆ Australia    ┆ Sri Lanka    ┆ 0          ┆ 0            │\n",
       "│ 1001349  ┆ 1       ┆ 0.3  ┆ Australia    ┆ Sri Lanka    ┆ 1          ┆ 0            │\n",
       "│ 1001349  ┆ 1       ┆ 0.4  ┆ Australia    ┆ Sri Lanka    ┆ 3          ┆ 0            │\n",
       "│ 1001349  ┆ 1       ┆ 0.5  ┆ Australia    ┆ Sri Lanka    ┆ 3          ┆ 0            │\n",
       "│ …        ┆ …       ┆ …    ┆ …            ┆ …            ┆ …          ┆ …            │\n",
       "│ 995469   ┆ 2       ┆ 17.1 ┆ Australia    ┆ Sri Lanka    ┆ 126        ┆ 6            │\n",
       "│ 995469   ┆ 2       ┆ 17.2 ┆ Australia    ┆ Sri Lanka    ┆ 129        ┆ 6            │\n",
       "│ 995469   ┆ 2       ┆ 17.3 ┆ Australia    ┆ Sri Lanka    ┆ 129        ┆ 6            │\n",
       "│ 995469   ┆ 2       ┆ 17.4 ┆ Australia    ┆ Sri Lanka    ┆ 129        ┆ 6            │\n",
       "│ 995469   ┆ 2       ┆ 17.5 ┆ Australia    ┆ Sri Lanka    ┆ 135        ┆ 6            │\n",
       "└──────────┴─────────┴──────┴──────────────┴──────────────┴────────────┴──────────────┘"
      ]
     },
     "execution_count": 411,
     "metadata": {},
     "output_type": "execute_result"
    }
   ],
   "source": [
    "deliveries=deliveries.with_columns(pl.col('runs').cum_sum().over([\"match_id\",'innings']).alias(\"curr_score\")).drop('runs')\n",
    "deliveries=deliveries.with_columns(pl.col('wickets').cum_sum().over([\"match_id\",'innings']).alias(\"curr_wickets\")).drop(\"wickets\")\n",
    "\n",
    "deliveries"
   ]
  },
  {
   "cell_type": "code",
   "execution_count": 412,
   "metadata": {},
   "outputs": [
    {
     "data": {
      "text/html": [
       "<div><style>\n",
       ".dataframe > thead > tr,\n",
       ".dataframe > tbody > tr {\n",
       "  text-align: right;\n",
       "  white-space: pre-wrap;\n",
       "}\n",
       "</style>\n",
       "<small>shape: (3_463, 11)</small><table border=\"1\" class=\"dataframe\"><thead><tr><th>team1</th><th>team2</th><th>gender</th><th>season</th><th>date</th><th>venue</th><th>city</th><th>toss_winner</th><th>toss_decision</th><th>winner</th><th>match_id</th></tr><tr><td>str</td><td>str</td><td>str</td><td>str</td><td>str</td><td>str</td><td>str</td><td>str</td><td>str</td><td>str</td><td>i64</td></tr></thead><tbody><tr><td>&quot;Australia&quot;</td><td>&quot;Sri Lanka&quot;</td><td>&quot;male&quot;</td><td>&quot;2016/17&quot;</td><td>&quot;2017/02/17&quot;</td><td>&quot;Melbourne Cricket Ground&quot;</td><td>null</td><td>&quot;Sri Lanka&quot;</td><td>&quot;field&quot;</td><td>&quot;Sri Lanka&quot;</td><td>1001349</td></tr><tr><td>&quot;Australia&quot;</td><td>&quot;Sri Lanka&quot;</td><td>&quot;male&quot;</td><td>&quot;2016/17&quot;</td><td>&quot;2017/02/19&quot;</td><td>&quot;Simonds Stadium, South Geelong&quot;</td><td>&quot;Victoria&quot;</td><td>&quot;Sri Lanka&quot;</td><td>&quot;field&quot;</td><td>&quot;Sri Lanka&quot;</td><td>1001351</td></tr><tr><td>&quot;Australia&quot;</td><td>&quot;Sri Lanka&quot;</td><td>&quot;male&quot;</td><td>&quot;2016/17&quot;</td><td>&quot;2017/02/22&quot;</td><td>&quot;Adelaide Oval&quot;</td><td>null</td><td>&quot;Sri Lanka&quot;</td><td>&quot;field&quot;</td><td>&quot;Australia&quot;</td><td>1001353</td></tr><tr><td>&quot;Ireland&quot;</td><td>&quot;Hong Kong&quot;</td><td>&quot;male&quot;</td><td>&quot;2016&quot;</td><td>&quot;2016/09/05&quot;</td><td>&quot;Bready Cricket Club, Magherama…</td><td>&quot;Londonderry&quot;</td><td>&quot;Hong Kong&quot;</td><td>&quot;bat&quot;</td><td>&quot;Hong Kong&quot;</td><td>1004729</td></tr><tr><td>&quot;Zimbabwe&quot;</td><td>&quot;India&quot;</td><td>&quot;male&quot;</td><td>&quot;2016&quot;</td><td>&quot;2016/06/18&quot;</td><td>&quot;Harare Sports Club&quot;</td><td>null</td><td>&quot;India&quot;</td><td>&quot;field&quot;</td><td>&quot;Zimbabwe&quot;</td><td>1007655</td></tr><tr><td>&hellip;</td><td>&hellip;</td><td>&hellip;</td><td>&hellip;</td><td>&hellip;</td><td>&hellip;</td><td>&hellip;</td><td>&hellip;</td><td>&hellip;</td><td>&hellip;</td><td>&hellip;</td></tr><tr><td>&quot;Pakistan&quot;</td><td>&quot;Sri Lanka&quot;</td><td>&quot;male&quot;</td><td>&quot;2015/16&quot;</td><td>&quot;2016/03/04&quot;</td><td>&quot;Shere Bangla National Stadium&quot;</td><td>&quot;Mirpur&quot;</td><td>&quot;Pakistan&quot;</td><td>&quot;field&quot;</td><td>&quot;Pakistan&quot;</td><td>966763</td></tr><tr><td>&quot;Bangladesh&quot;</td><td>&quot;India&quot;</td><td>&quot;male&quot;</td><td>&quot;2015/16&quot;</td><td>&quot;2016/03/06&quot;</td><td>&quot;Shere Bangla National Stadium&quot;</td><td>&quot;Mirpur&quot;</td><td>&quot;India&quot;</td><td>&quot;field&quot;</td><td>&quot;India&quot;</td><td>966765</td></tr><tr><td>&quot;United Arab Emirates&quot;</td><td>&quot;Netherlands&quot;</td><td>&quot;male&quot;</td><td>&quot;2015/16&quot;</td><td>&quot;2016/02/03&quot;</td><td>&quot;ICC Academy&quot;</td><td>&quot;Dubai&quot;</td><td>&quot;United Arab Emirates&quot;</td><td>&quot;field&quot;</td><td>&quot;Netherlands&quot;</td><td>967081</td></tr><tr><td>&quot;Sri Lanka&quot;</td><td>&quot;Australia&quot;</td><td>&quot;male&quot;</td><td>&quot;2016&quot;</td><td>&quot;2016/09/06&quot;</td><td>&quot;Pallekele International Cricke…</td><td>null</td><td>&quot;Sri Lanka&quot;</td><td>&quot;field&quot;</td><td>&quot;Australia&quot;</td><td>995467</td></tr><tr><td>&quot;Sri Lanka&quot;</td><td>&quot;Australia&quot;</td><td>&quot;male&quot;</td><td>&quot;2016&quot;</td><td>&quot;2016/09/09&quot;</td><td>&quot;R Premadasa Stadium&quot;</td><td>&quot;Colombo&quot;</td><td>&quot;Sri Lanka&quot;</td><td>&quot;bat&quot;</td><td>&quot;Australia&quot;</td><td>995469</td></tr></tbody></table></div>"
      ],
      "text/plain": [
       "shape: (3_463, 11)\n",
       "┌────────────┬────────────┬────────┬─────────┬───┬────────────┬────────────┬────────────┬──────────┐\n",
       "│ team1      ┆ team2      ┆ gender ┆ season  ┆ … ┆ toss_winne ┆ toss_decis ┆ winner     ┆ match_id │\n",
       "│ ---        ┆ ---        ┆ ---    ┆ ---     ┆   ┆ r          ┆ ion        ┆ ---        ┆ ---      │\n",
       "│ str        ┆ str        ┆ str    ┆ str     ┆   ┆ ---        ┆ ---        ┆ str        ┆ i64      │\n",
       "│            ┆            ┆        ┆         ┆   ┆ str        ┆ str        ┆            ┆          │\n",
       "╞════════════╪════════════╪════════╪═════════╪═══╪════════════╪════════════╪════════════╪══════════╡\n",
       "│ Australia  ┆ Sri Lanka  ┆ male   ┆ 2016/17 ┆ … ┆ Sri Lanka  ┆ field      ┆ Sri Lanka  ┆ 1001349  │\n",
       "│ Australia  ┆ Sri Lanka  ┆ male   ┆ 2016/17 ┆ … ┆ Sri Lanka  ┆ field      ┆ Sri Lanka  ┆ 1001351  │\n",
       "│ Australia  ┆ Sri Lanka  ┆ male   ┆ 2016/17 ┆ … ┆ Sri Lanka  ┆ field      ┆ Australia  ┆ 1001353  │\n",
       "│ Ireland    ┆ Hong Kong  ┆ male   ┆ 2016    ┆ … ┆ Hong Kong  ┆ bat        ┆ Hong Kong  ┆ 1004729  │\n",
       "│ Zimbabwe   ┆ India      ┆ male   ┆ 2016    ┆ … ┆ India      ┆ field      ┆ Zimbabwe   ┆ 1007655  │\n",
       "│ …          ┆ …          ┆ …      ┆ …       ┆ … ┆ …          ┆ …          ┆ …          ┆ …        │\n",
       "│ Pakistan   ┆ Sri Lanka  ┆ male   ┆ 2015/16 ┆ … ┆ Pakistan   ┆ field      ┆ Pakistan   ┆ 966763   │\n",
       "│ Bangladesh ┆ India      ┆ male   ┆ 2015/16 ┆ … ┆ India      ┆ field      ┆ India      ┆ 966765   │\n",
       "│ United     ┆ Netherland ┆ male   ┆ 2015/16 ┆ … ┆ United     ┆ field      ┆ Netherland ┆ 967081   │\n",
       "│ Arab       ┆ s          ┆        ┆         ┆   ┆ Arab       ┆            ┆ s          ┆          │\n",
       "│ Emirates   ┆            ┆        ┆         ┆   ┆ Emirates   ┆            ┆            ┆          │\n",
       "│ Sri Lanka  ┆ Australia  ┆ male   ┆ 2016    ┆ … ┆ Sri Lanka  ┆ field      ┆ Australia  ┆ 995467   │\n",
       "│ Sri Lanka  ┆ Australia  ┆ male   ┆ 2016    ┆ … ┆ Sri Lanka  ┆ bat        ┆ Australia  ┆ 995469   │\n",
       "└────────────┴────────────┴────────┴─────────┴───┴────────────┴────────────┴────────────┴──────────┘"
      ]
     },
     "execution_count": 412,
     "metadata": {},
     "output_type": "execute_result"
    }
   ],
   "source": [
    "matches = pl.read_parquet('..\\historical_data\\cricsheetSource\\matches.parquet')\n",
    "matches"
   ]
  },
  {
   "cell_type": "code",
   "execution_count": 413,
   "metadata": {},
   "outputs": [
    {
     "data": {
      "text/html": [
       "<div><style>\n",
       ".dataframe > thead > tr,\n",
       ".dataframe > tbody > tr {\n",
       "  text-align: right;\n",
       "  white-space: pre-wrap;\n",
       "}\n",
       "</style>\n",
       "<small>shape: (2_288, 2)</small><table border=\"1\" class=\"dataframe\"><thead><tr><th>winner</th><th>match_id</th></tr><tr><td>str</td><td>i64</td></tr></thead><tbody><tr><td>&quot;Sri Lanka&quot;</td><td>1001349</td></tr><tr><td>&quot;Sri Lanka&quot;</td><td>1001351</td></tr><tr><td>&quot;Australia&quot;</td><td>1001353</td></tr><tr><td>&quot;Hong Kong&quot;</td><td>1004729</td></tr><tr><td>&quot;Zimbabwe&quot;</td><td>1007655</td></tr><tr><td>&hellip;</td><td>&hellip;</td></tr><tr><td>&quot;Pakistan&quot;</td><td>966763</td></tr><tr><td>&quot;India&quot;</td><td>966765</td></tr><tr><td>&quot;Netherlands&quot;</td><td>967081</td></tr><tr><td>&quot;Australia&quot;</td><td>995467</td></tr><tr><td>&quot;Australia&quot;</td><td>995469</td></tr></tbody></table></div>"
      ],
      "text/plain": [
       "shape: (2_288, 2)\n",
       "┌─────────────┬──────────┐\n",
       "│ winner      ┆ match_id │\n",
       "│ ---         ┆ ---      │\n",
       "│ str         ┆ i64      │\n",
       "╞═════════════╪══════════╡\n",
       "│ Sri Lanka   ┆ 1001349  │\n",
       "│ Sri Lanka   ┆ 1001351  │\n",
       "│ Australia   ┆ 1001353  │\n",
       "│ Hong Kong   ┆ 1004729  │\n",
       "│ Zimbabwe    ┆ 1007655  │\n",
       "│ …           ┆ …        │\n",
       "│ Pakistan    ┆ 966763   │\n",
       "│ India       ┆ 966765   │\n",
       "│ Netherlands ┆ 967081   │\n",
       "│ Australia   ┆ 995467   │\n",
       "│ Australia   ┆ 995469   │\n",
       "└─────────────┴──────────┘"
      ]
     },
     "execution_count": 413,
     "metadata": {},
     "output_type": "execute_result"
    }
   ],
   "source": [
    "matches=matches.filter(matches['gender']=='male').drop(['team1','team2','gender','season','date','venue','city','toss_winner','toss_decision'])\n",
    "matches"
   ]
  },
  {
   "cell_type": "code",
   "execution_count": 414,
   "metadata": {},
   "outputs": [
    {
     "data": {
      "text/html": [
       "<div><style>\n",
       ".dataframe > thead > tr,\n",
       ".dataframe > tbody > tr {\n",
       "  text-align: right;\n",
       "  white-space: pre-wrap;\n",
       "}\n",
       "</style>\n",
       "<small>shape: (526_918, 8)</small><table border=\"1\" class=\"dataframe\"><thead><tr><th>match_id</th><th>innings</th><th>ball</th><th>batting_team</th><th>bowling_team</th><th>curr_score</th><th>curr_wickets</th><th>winner</th></tr><tr><td>i64</td><td>i64</td><td>f64</td><td>str</td><td>str</td><td>i64</td><td>i64</td><td>str</td></tr></thead><tbody><tr><td>1001349</td><td>1</td><td>0.1</td><td>&quot;Australia&quot;</td><td>&quot;Sri Lanka&quot;</td><td>0</td><td>0</td><td>&quot;Sri Lanka&quot;</td></tr><tr><td>1001349</td><td>1</td><td>0.2</td><td>&quot;Australia&quot;</td><td>&quot;Sri Lanka&quot;</td><td>0</td><td>0</td><td>&quot;Sri Lanka&quot;</td></tr><tr><td>1001349</td><td>1</td><td>0.3</td><td>&quot;Australia&quot;</td><td>&quot;Sri Lanka&quot;</td><td>1</td><td>0</td><td>&quot;Sri Lanka&quot;</td></tr><tr><td>1001349</td><td>1</td><td>0.4</td><td>&quot;Australia&quot;</td><td>&quot;Sri Lanka&quot;</td><td>3</td><td>0</td><td>&quot;Sri Lanka&quot;</td></tr><tr><td>1001349</td><td>1</td><td>0.5</td><td>&quot;Australia&quot;</td><td>&quot;Sri Lanka&quot;</td><td>3</td><td>0</td><td>&quot;Sri Lanka&quot;</td></tr><tr><td>&hellip;</td><td>&hellip;</td><td>&hellip;</td><td>&hellip;</td><td>&hellip;</td><td>&hellip;</td><td>&hellip;</td><td>&hellip;</td></tr><tr><td>995469</td><td>2</td><td>17.1</td><td>&quot;Australia&quot;</td><td>&quot;Sri Lanka&quot;</td><td>126</td><td>6</td><td>&quot;Australia&quot;</td></tr><tr><td>995469</td><td>2</td><td>17.2</td><td>&quot;Australia&quot;</td><td>&quot;Sri Lanka&quot;</td><td>129</td><td>6</td><td>&quot;Australia&quot;</td></tr><tr><td>995469</td><td>2</td><td>17.3</td><td>&quot;Australia&quot;</td><td>&quot;Sri Lanka&quot;</td><td>129</td><td>6</td><td>&quot;Australia&quot;</td></tr><tr><td>995469</td><td>2</td><td>17.4</td><td>&quot;Australia&quot;</td><td>&quot;Sri Lanka&quot;</td><td>129</td><td>6</td><td>&quot;Australia&quot;</td></tr><tr><td>995469</td><td>2</td><td>17.5</td><td>&quot;Australia&quot;</td><td>&quot;Sri Lanka&quot;</td><td>135</td><td>6</td><td>&quot;Australia&quot;</td></tr></tbody></table></div>"
      ],
      "text/plain": [
       "shape: (526_918, 8)\n",
       "┌──────────┬─────────┬──────┬──────────────┬──────────────┬────────────┬──────────────┬───────────┐\n",
       "│ match_id ┆ innings ┆ ball ┆ batting_team ┆ bowling_team ┆ curr_score ┆ curr_wickets ┆ winner    │\n",
       "│ ---      ┆ ---     ┆ ---  ┆ ---          ┆ ---          ┆ ---        ┆ ---          ┆ ---       │\n",
       "│ i64      ┆ i64     ┆ f64  ┆ str          ┆ str          ┆ i64        ┆ i64          ┆ str       │\n",
       "╞══════════╪═════════╪══════╪══════════════╪══════════════╪════════════╪══════════════╪═══════════╡\n",
       "│ 1001349  ┆ 1       ┆ 0.1  ┆ Australia    ┆ Sri Lanka    ┆ 0          ┆ 0            ┆ Sri Lanka │\n",
       "│ 1001349  ┆ 1       ┆ 0.2  ┆ Australia    ┆ Sri Lanka    ┆ 0          ┆ 0            ┆ Sri Lanka │\n",
       "│ 1001349  ┆ 1       ┆ 0.3  ┆ Australia    ┆ Sri Lanka    ┆ 1          ┆ 0            ┆ Sri Lanka │\n",
       "│ 1001349  ┆ 1       ┆ 0.4  ┆ Australia    ┆ Sri Lanka    ┆ 3          ┆ 0            ┆ Sri Lanka │\n",
       "│ 1001349  ┆ 1       ┆ 0.5  ┆ Australia    ┆ Sri Lanka    ┆ 3          ┆ 0            ┆ Sri Lanka │\n",
       "│ …        ┆ …       ┆ …    ┆ …            ┆ …            ┆ …          ┆ …            ┆ …         │\n",
       "│ 995469   ┆ 2       ┆ 17.1 ┆ Australia    ┆ Sri Lanka    ┆ 126        ┆ 6            ┆ Australia │\n",
       "│ 995469   ┆ 2       ┆ 17.2 ┆ Australia    ┆ Sri Lanka    ┆ 129        ┆ 6            ┆ Australia │\n",
       "│ 995469   ┆ 2       ┆ 17.3 ┆ Australia    ┆ Sri Lanka    ┆ 129        ┆ 6            ┆ Australia │\n",
       "│ 995469   ┆ 2       ┆ 17.4 ┆ Australia    ┆ Sri Lanka    ┆ 129        ┆ 6            ┆ Australia │\n",
       "│ 995469   ┆ 2       ┆ 17.5 ┆ Australia    ┆ Sri Lanka    ┆ 135        ┆ 6            ┆ Australia │\n",
       "└──────────┴─────────┴──────┴──────────────┴──────────────┴────────────┴──────────────┴───────────┘"
      ]
     },
     "execution_count": 414,
     "metadata": {},
     "output_type": "execute_result"
    }
   ],
   "source": [
    "data=deliveries.join(matches,on='match_id')\n",
    "data"
   ]
  },
  {
   "cell_type": "code",
   "execution_count": 415,
   "metadata": {},
   "outputs": [],
   "source": [
    "innings1= data.filter(data['innings']==1)\n",
    "innings2= data.filter(data['innings']==2)"
   ]
  },
  {
   "cell_type": "code",
   "execution_count": 416,
   "metadata": {},
   "outputs": [
    {
     "data": {
      "text/plain": [
       "(279413, 247505, 526918)"
      ]
     },
     "execution_count": 416,
     "metadata": {},
     "output_type": "execute_result"
    }
   ],
   "source": [
    "a=len(innings1)\n",
    "b=len(innings2)\n",
    "a,b,a+b"
   ]
  },
  {
   "cell_type": "code",
   "execution_count": 417,
   "metadata": {},
   "outputs": [
    {
     "data": {
      "text/html": [
       "<div><style>\n",
       ".dataframe > thead > tr,\n",
       ".dataframe > tbody > tr {\n",
       "  text-align: right;\n",
       "  white-space: pre-wrap;\n",
       "}\n",
       "</style>\n",
       "<small>shape: (287_668, 12)</small><table border=\"1\" class=\"dataframe\"><thead><tr><th>match_id</th><th>innings</th><th>ball</th><th>batting_team</th><th>bowling_team</th><th>curr_score</th><th>curr_wickets</th><th>winner</th><th>match_id_right</th><th>ball_right</th><th>curr_score_right</th><th>curr_wickets_right</th></tr><tr><td>i64</td><td>i64</td><td>f64</td><td>str</td><td>str</td><td>i64</td><td>i64</td><td>str</td><td>i64</td><td>f64</td><td>i64</td><td>i64</td></tr></thead><tbody><tr><td>1001349</td><td>2</td><td>0.1</td><td>&quot;Sri Lanka&quot;</td><td>&quot;Australia&quot;</td><td>1</td><td>0</td><td>&quot;Sri Lanka&quot;</td><td>1001349</td><td>0.1</td><td>0</td><td>0</td></tr><tr><td>1001349</td><td>2</td><td>0.2</td><td>&quot;Sri Lanka&quot;</td><td>&quot;Australia&quot;</td><td>3</td><td>0</td><td>&quot;Sri Lanka&quot;</td><td>1001349</td><td>0.2</td><td>0</td><td>0</td></tr><tr><td>1001349</td><td>2</td><td>0.3</td><td>&quot;Sri Lanka&quot;</td><td>&quot;Australia&quot;</td><td>3</td><td>0</td><td>&quot;Sri Lanka&quot;</td><td>1001349</td><td>0.3</td><td>1</td><td>0</td></tr><tr><td>1001349</td><td>2</td><td>0.4</td><td>&quot;Sri Lanka&quot;</td><td>&quot;Australia&quot;</td><td>3</td><td>0</td><td>&quot;Sri Lanka&quot;</td><td>1001349</td><td>0.4</td><td>3</td><td>0</td></tr><tr><td>1001349</td><td>2</td><td>0.5</td><td>&quot;Sri Lanka&quot;</td><td>&quot;Australia&quot;</td><td>6</td><td>0</td><td>&quot;Sri Lanka&quot;</td><td>1001349</td><td>0.5</td><td>3</td><td>0</td></tr><tr><td>&hellip;</td><td>&hellip;</td><td>&hellip;</td><td>&hellip;</td><td>&hellip;</td><td>&hellip;</td><td>&hellip;</td><td>&hellip;</td><td>&hellip;</td><td>&hellip;</td><td>&hellip;</td><td>&hellip;</td></tr><tr><td>412701</td><td>2</td><td>4.8</td><td>&quot;England&quot;</td><td>&quot;Sri Lanka&quot;</td><td>44</td><td>0</td><td>&quot;England&quot;</td><td>null</td><td>null</td><td>null</td><td>null</td></tr><tr><td>516205</td><td>2</td><td>18.7</td><td>&quot;Australia&quot;</td><td>&quot;Sri Lanka&quot;</td><td>151</td><td>8</td><td>&quot;Sri Lanka&quot;</td><td>null</td><td>null</td><td>null</td><td>null</td></tr><tr><td>1361772</td><td>2</td><td>0.9</td><td>&quot;Bahrain&quot;</td><td>&quot;Malaysia&quot;</td><td>12</td><td>1</td><td>&quot;Malaysia&quot;</td><td>null</td><td>null</td><td>null</td><td>null</td></tr><tr><td>412680</td><td>2</td><td>8.7</td><td>&quot;Bangladesh&quot;</td><td>&quot;Pakistan&quot;</td><td>66</td><td>2</td><td>&quot;Pakistan&quot;</td><td>null</td><td>null</td><td>null</td><td>null</td></tr><tr><td>565810</td><td>2</td><td>1.7</td><td>&quot;India&quot;</td><td>&quot;England&quot;</td><td>25</td><td>0</td><td>&quot;India&quot;</td><td>null</td><td>null</td><td>null</td><td>null</td></tr></tbody></table></div>"
      ],
      "text/plain": [
       "shape: (287_668, 12)\n",
       "┌──────────┬─────────┬──────┬─────────────┬───┬─────────────┬────────────┬────────────┬────────────┐\n",
       "│ match_id ┆ innings ┆ ball ┆ batting_tea ┆ … ┆ match_id_ri ┆ ball_right ┆ curr_score ┆ curr_wicke │\n",
       "│ ---      ┆ ---     ┆ ---  ┆ m           ┆   ┆ ght         ┆ ---        ┆ _right     ┆ ts_right   │\n",
       "│ i64      ┆ i64     ┆ f64  ┆ ---         ┆   ┆ ---         ┆ f64        ┆ ---        ┆ ---        │\n",
       "│          ┆         ┆      ┆ str         ┆   ┆ i64         ┆            ┆ i64        ┆ i64        │\n",
       "╞══════════╪═════════╪══════╪═════════════╪═══╪═════════════╪════════════╪════════════╪════════════╡\n",
       "│ 1001349  ┆ 2       ┆ 0.1  ┆ Sri Lanka   ┆ … ┆ 1001349     ┆ 0.1        ┆ 0          ┆ 0          │\n",
       "│ 1001349  ┆ 2       ┆ 0.2  ┆ Sri Lanka   ┆ … ┆ 1001349     ┆ 0.2        ┆ 0          ┆ 0          │\n",
       "│ 1001349  ┆ 2       ┆ 0.3  ┆ Sri Lanka   ┆ … ┆ 1001349     ┆ 0.3        ┆ 1          ┆ 0          │\n",
       "│ 1001349  ┆ 2       ┆ 0.4  ┆ Sri Lanka   ┆ … ┆ 1001349     ┆ 0.4        ┆ 3          ┆ 0          │\n",
       "│ 1001349  ┆ 2       ┆ 0.5  ┆ Sri Lanka   ┆ … ┆ 1001349     ┆ 0.5        ┆ 3          ┆ 0          │\n",
       "│ …        ┆ …       ┆ …    ┆ …           ┆ … ┆ …           ┆ …          ┆ …          ┆ …          │\n",
       "│ 412701   ┆ 2       ┆ 4.8  ┆ England     ┆ … ┆ null        ┆ null       ┆ null       ┆ null       │\n",
       "│ 516205   ┆ 2       ┆ 18.7 ┆ Australia   ┆ … ┆ null        ┆ null       ┆ null       ┆ null       │\n",
       "│ 1361772  ┆ 2       ┆ 0.9  ┆ Bahrain     ┆ … ┆ null        ┆ null       ┆ null       ┆ null       │\n",
       "│ 412680   ┆ 2       ┆ 8.7  ┆ Bangladesh  ┆ … ┆ null        ┆ null       ┆ null       ┆ null       │\n",
       "│ 565810   ┆ 2       ┆ 1.7  ┆ India       ┆ … ┆ null        ┆ null       ┆ null       ┆ null       │\n",
       "└──────────┴─────────┴──────┴─────────────┴───┴─────────────┴────────────┴────────────┴────────────┘"
      ]
     },
     "execution_count": 417,
     "metadata": {},
     "output_type": "execute_result"
    }
   ],
   "source": [
    "comparision_data=innings2.join(innings1,on=['match_id','ball'],how='full').drop(['innings_right','batting_team_right','bowling_team_right','winner_right'])\n",
    "comparision_data"
   ]
  },
  {
   "cell_type": "code",
   "execution_count": 418,
   "metadata": {},
   "outputs": [
    {
     "data": {
      "text/html": [
       "<div><style>\n",
       ".dataframe > thead > tr,\n",
       ".dataframe > tbody > tr {\n",
       "  text-align: right;\n",
       "  white-space: pre-wrap;\n",
       "}\n",
       "</style>\n",
       "<small>shape: (1, 12)</small><table border=\"1\" class=\"dataframe\"><thead><tr><th>match_id</th><th>innings</th><th>ball</th><th>batting_team</th><th>bowling_team</th><th>curr_score</th><th>curr_wickets</th><th>winner</th><th>match_id_right</th><th>ball_right</th><th>curr_score_right</th><th>curr_wickets_right</th></tr><tr><td>u32</td><td>u32</td><td>u32</td><td>u32</td><td>u32</td><td>u32</td><td>u32</td><td>u32</td><td>u32</td><td>u32</td><td>u32</td><td>u32</td></tr></thead><tbody><tr><td>40093</td><td>40093</td><td>40093</td><td>40093</td><td>40093</td><td>40093</td><td>40093</td><td>40093</td><td>8185</td><td>8185</td><td>8185</td><td>8185</td></tr></tbody></table></div>"
      ],
      "text/plain": [
       "shape: (1, 12)\n",
       "┌──────────┬─────────┬───────┬─────────────┬───┬────────────┬────────────┬────────────┬────────────┐\n",
       "│ match_id ┆ innings ┆ ball  ┆ batting_tea ┆ … ┆ match_id_r ┆ ball_right ┆ curr_score ┆ curr_wicke │\n",
       "│ ---      ┆ ---     ┆ ---   ┆ m           ┆   ┆ ight       ┆ ---        ┆ _right     ┆ ts_right   │\n",
       "│ u32      ┆ u32     ┆ u32   ┆ ---         ┆   ┆ ---        ┆ u32        ┆ ---        ┆ ---        │\n",
       "│          ┆         ┆       ┆ u32         ┆   ┆ u32        ┆            ┆ u32        ┆ u32        │\n",
       "╞══════════╪═════════╪═══════╪═════════════╪═══╪════════════╪════════════╪════════════╪════════════╡\n",
       "│ 40093    ┆ 40093   ┆ 40093 ┆ 40093       ┆ … ┆ 8185       ┆ 8185       ┆ 8185       ┆ 8185       │\n",
       "└──────────┴─────────┴───────┴─────────────┴───┴────────────┴────────────┴────────────┴────────────┘"
      ]
     },
     "execution_count": 418,
     "metadata": {},
     "output_type": "execute_result"
    }
   ],
   "source": [
    "comparision_data.null_count()"
   ]
  },
  {
   "cell_type": "code",
   "execution_count": 419,
   "metadata": {},
   "outputs": [
    {
     "data": {
      "text/html": [
       "<div><style>\n",
       ".dataframe > thead > tr,\n",
       ".dataframe > tbody > tr {\n",
       "  text-align: right;\n",
       "  white-space: pre-wrap;\n",
       "}\n",
       "</style>\n",
       "<small>shape: (287_668, 13)</small><table border=\"1\" class=\"dataframe\"><thead><tr><th>match_id</th><th>innings</th><th>ball</th><th>batting_team</th><th>bowling_team</th><th>curr_score</th><th>curr_wickets</th><th>winner</th><th>match_id_right</th><th>ball_right</th><th>curr_score_right</th><th>curr_wickets_right</th><th>target</th></tr><tr><td>i64</td><td>i64</td><td>f64</td><td>str</td><td>str</td><td>i64</td><td>i64</td><td>str</td><td>i64</td><td>f64</td><td>i64</td><td>i64</td><td>i64</td></tr></thead><tbody><tr><td>1001349</td><td>2</td><td>0.1</td><td>&quot;Sri Lanka&quot;</td><td>&quot;Australia&quot;</td><td>1</td><td>0</td><td>&quot;Sri Lanka&quot;</td><td>1001349</td><td>0.1</td><td>0</td><td>0</td><td>171</td></tr><tr><td>1001349</td><td>2</td><td>0.2</td><td>&quot;Sri Lanka&quot;</td><td>&quot;Australia&quot;</td><td>3</td><td>0</td><td>&quot;Sri Lanka&quot;</td><td>1001349</td><td>0.2</td><td>0</td><td>0</td><td>171</td></tr><tr><td>1001349</td><td>2</td><td>0.3</td><td>&quot;Sri Lanka&quot;</td><td>&quot;Australia&quot;</td><td>3</td><td>0</td><td>&quot;Sri Lanka&quot;</td><td>1001349</td><td>0.3</td><td>1</td><td>0</td><td>171</td></tr><tr><td>1001349</td><td>2</td><td>0.4</td><td>&quot;Sri Lanka&quot;</td><td>&quot;Australia&quot;</td><td>3</td><td>0</td><td>&quot;Sri Lanka&quot;</td><td>1001349</td><td>0.4</td><td>3</td><td>0</td><td>171</td></tr><tr><td>1001349</td><td>2</td><td>0.5</td><td>&quot;Sri Lanka&quot;</td><td>&quot;Australia&quot;</td><td>6</td><td>0</td><td>&quot;Sri Lanka&quot;</td><td>1001349</td><td>0.5</td><td>3</td><td>0</td><td>171</td></tr><tr><td>&hellip;</td><td>&hellip;</td><td>&hellip;</td><td>&hellip;</td><td>&hellip;</td><td>&hellip;</td><td>&hellip;</td><td>&hellip;</td><td>&hellip;</td><td>&hellip;</td><td>&hellip;</td><td>&hellip;</td><td>&hellip;</td></tr><tr><td>412701</td><td>2</td><td>4.8</td><td>&quot;England&quot;</td><td>&quot;Sri Lanka&quot;</td><td>44</td><td>0</td><td>&quot;England&quot;</td><td>null</td><td>null</td><td>null</td><td>null</td><td>97</td></tr><tr><td>516205</td><td>2</td><td>18.7</td><td>&quot;Australia&quot;</td><td>&quot;Sri Lanka&quot;</td><td>151</td><td>8</td><td>&quot;Sri Lanka&quot;</td><td>null</td><td>null</td><td>null</td><td>null</td><td>157</td></tr><tr><td>1361772</td><td>2</td><td>0.9</td><td>&quot;Bahrain&quot;</td><td>&quot;Malaysia&quot;</td><td>12</td><td>1</td><td>&quot;Malaysia&quot;</td><td>null</td><td>null</td><td>null</td><td>null</td><td>216</td></tr><tr><td>412680</td><td>2</td><td>8.7</td><td>&quot;Bangladesh&quot;</td><td>&quot;Pakistan&quot;</td><td>66</td><td>2</td><td>&quot;Pakistan&quot;</td><td>null</td><td>null</td><td>null</td><td>null</td><td>175</td></tr><tr><td>565810</td><td>2</td><td>1.7</td><td>&quot;India&quot;</td><td>&quot;England&quot;</td><td>25</td><td>0</td><td>&quot;India&quot;</td><td>null</td><td>null</td><td>null</td><td>null</td><td>141</td></tr></tbody></table></div>"
      ],
      "text/plain": [
       "shape: (287_668, 13)\n",
       "┌──────────┬─────────┬──────┬──────────────┬───┬────────────┬──────────────┬──────────────┬────────┐\n",
       "│ match_id ┆ innings ┆ ball ┆ batting_team ┆ … ┆ ball_right ┆ curr_score_r ┆ curr_wickets ┆ target │\n",
       "│ ---      ┆ ---     ┆ ---  ┆ ---          ┆   ┆ ---        ┆ ight         ┆ _right       ┆ ---    │\n",
       "│ i64      ┆ i64     ┆ f64  ┆ str          ┆   ┆ f64        ┆ ---          ┆ ---          ┆ i64    │\n",
       "│          ┆         ┆      ┆              ┆   ┆            ┆ i64          ┆ i64          ┆        │\n",
       "╞══════════╪═════════╪══════╪══════════════╪═══╪════════════╪══════════════╪══════════════╪════════╡\n",
       "│ 1001349  ┆ 2       ┆ 0.1  ┆ Sri Lanka    ┆ … ┆ 0.1        ┆ 0            ┆ 0            ┆ 171    │\n",
       "│ 1001349  ┆ 2       ┆ 0.2  ┆ Sri Lanka    ┆ … ┆ 0.2        ┆ 0            ┆ 0            ┆ 171    │\n",
       "│ 1001349  ┆ 2       ┆ 0.3  ┆ Sri Lanka    ┆ … ┆ 0.3        ┆ 1            ┆ 0            ┆ 171    │\n",
       "│ 1001349  ┆ 2       ┆ 0.4  ┆ Sri Lanka    ┆ … ┆ 0.4        ┆ 3            ┆ 0            ┆ 171    │\n",
       "│ 1001349  ┆ 2       ┆ 0.5  ┆ Sri Lanka    ┆ … ┆ 0.5        ┆ 3            ┆ 0            ┆ 171    │\n",
       "│ …        ┆ …       ┆ …    ┆ …            ┆ … ┆ …          ┆ …            ┆ …            ┆ …      │\n",
       "│ 412701   ┆ 2       ┆ 4.8  ┆ England      ┆ … ┆ null       ┆ null         ┆ null         ┆ 97     │\n",
       "│ 516205   ┆ 2       ┆ 18.7 ┆ Australia    ┆ … ┆ null       ┆ null         ┆ null         ┆ 157    │\n",
       "│ 1361772  ┆ 2       ┆ 0.9  ┆ Bahrain      ┆ … ┆ null       ┆ null         ┆ null         ┆ 216    │\n",
       "│ 412680   ┆ 2       ┆ 8.7  ┆ Bangladesh   ┆ … ┆ null       ┆ null         ┆ null         ┆ 175    │\n",
       "│ 565810   ┆ 2       ┆ 1.7  ┆ India        ┆ … ┆ null       ┆ null         ┆ null         ┆ 141    │\n",
       "└──────────┴─────────┴──────┴──────────────┴───┴────────────┴──────────────┴──────────────┴────────┘"
      ]
     },
     "execution_count": 419,
     "metadata": {},
     "output_type": "execute_result"
    }
   ],
   "source": [
    "comparision_data=comparision_data.with_columns(pl.col('curr_score_right').max().over('match_id').alias('target'))\n",
    "comparision_data"
   ]
  },
  {
   "cell_type": "code",
   "execution_count": 420,
   "metadata": {},
   "outputs": [
    {
     "data": {
      "text/html": [
       "<div><style>\n",
       ".dataframe > thead > tr,\n",
       ".dataframe > tbody > tr {\n",
       "  text-align: right;\n",
       "  white-space: pre-wrap;\n",
       "}\n",
       "</style>\n",
       "<small>shape: (247_575, 13)</small><table border=\"1\" class=\"dataframe\"><thead><tr><th>match_id</th><th>innings</th><th>ball</th><th>batting_team</th><th>bowling_team</th><th>curr_score</th><th>curr_wickets</th><th>winner</th><th>match_id_right</th><th>ball_right</th><th>curr_score_right</th><th>curr_wickets_right</th><th>target</th></tr><tr><td>i64</td><td>i64</td><td>f64</td><td>str</td><td>str</td><td>i64</td><td>i64</td><td>str</td><td>i64</td><td>f64</td><td>i64</td><td>i64</td><td>i64</td></tr></thead><tbody><tr><td>1001349</td><td>2</td><td>0.1</td><td>&quot;Sri Lanka&quot;</td><td>&quot;Australia&quot;</td><td>1</td><td>0</td><td>&quot;Sri Lanka&quot;</td><td>1001349</td><td>0.1</td><td>0</td><td>0</td><td>171</td></tr><tr><td>1001349</td><td>2</td><td>0.2</td><td>&quot;Sri Lanka&quot;</td><td>&quot;Australia&quot;</td><td>3</td><td>0</td><td>&quot;Sri Lanka&quot;</td><td>1001349</td><td>0.2</td><td>0</td><td>0</td><td>171</td></tr><tr><td>1001349</td><td>2</td><td>0.3</td><td>&quot;Sri Lanka&quot;</td><td>&quot;Australia&quot;</td><td>3</td><td>0</td><td>&quot;Sri Lanka&quot;</td><td>1001349</td><td>0.3</td><td>1</td><td>0</td><td>171</td></tr><tr><td>1001349</td><td>2</td><td>0.4</td><td>&quot;Sri Lanka&quot;</td><td>&quot;Australia&quot;</td><td>3</td><td>0</td><td>&quot;Sri Lanka&quot;</td><td>1001349</td><td>0.4</td><td>3</td><td>0</td><td>171</td></tr><tr><td>1001349</td><td>2</td><td>0.5</td><td>&quot;Sri Lanka&quot;</td><td>&quot;Australia&quot;</td><td>6</td><td>0</td><td>&quot;Sri Lanka&quot;</td><td>1001349</td><td>0.5</td><td>3</td><td>0</td><td>171</td></tr><tr><td>&hellip;</td><td>&hellip;</td><td>&hellip;</td><td>&hellip;</td><td>&hellip;</td><td>&hellip;</td><td>&hellip;</td><td>&hellip;</td><td>&hellip;</td><td>&hellip;</td><td>&hellip;</td><td>&hellip;</td><td>&hellip;</td></tr><tr><td>412701</td><td>2</td><td>4.8</td><td>&quot;England&quot;</td><td>&quot;Sri Lanka&quot;</td><td>44</td><td>0</td><td>&quot;England&quot;</td><td>null</td><td>null</td><td>null</td><td>null</td><td>97</td></tr><tr><td>516205</td><td>2</td><td>18.7</td><td>&quot;Australia&quot;</td><td>&quot;Sri Lanka&quot;</td><td>151</td><td>8</td><td>&quot;Sri Lanka&quot;</td><td>null</td><td>null</td><td>null</td><td>null</td><td>157</td></tr><tr><td>1361772</td><td>2</td><td>0.9</td><td>&quot;Bahrain&quot;</td><td>&quot;Malaysia&quot;</td><td>12</td><td>1</td><td>&quot;Malaysia&quot;</td><td>null</td><td>null</td><td>null</td><td>null</td><td>216</td></tr><tr><td>412680</td><td>2</td><td>8.7</td><td>&quot;Bangladesh&quot;</td><td>&quot;Pakistan&quot;</td><td>66</td><td>2</td><td>&quot;Pakistan&quot;</td><td>null</td><td>null</td><td>null</td><td>null</td><td>175</td></tr><tr><td>565810</td><td>2</td><td>1.7</td><td>&quot;India&quot;</td><td>&quot;England&quot;</td><td>25</td><td>0</td><td>&quot;India&quot;</td><td>null</td><td>null</td><td>null</td><td>null</td><td>141</td></tr></tbody></table></div>"
      ],
      "text/plain": [
       "shape: (247_575, 13)\n",
       "┌──────────┬─────────┬──────┬──────────────┬───┬────────────┬──────────────┬──────────────┬────────┐\n",
       "│ match_id ┆ innings ┆ ball ┆ batting_team ┆ … ┆ ball_right ┆ curr_score_r ┆ curr_wickets ┆ target │\n",
       "│ ---      ┆ ---     ┆ ---  ┆ ---          ┆   ┆ ---        ┆ ight         ┆ _right       ┆ ---    │\n",
       "│ i64      ┆ i64     ┆ f64  ┆ str          ┆   ┆ f64        ┆ ---          ┆ ---          ┆ i64    │\n",
       "│          ┆         ┆      ┆              ┆   ┆            ┆ i64          ┆ i64          ┆        │\n",
       "╞══════════╪═════════╪══════╪══════════════╪═══╪════════════╪══════════════╪══════════════╪════════╡\n",
       "│ 1001349  ┆ 2       ┆ 0.1  ┆ Sri Lanka    ┆ … ┆ 0.1        ┆ 0            ┆ 0            ┆ 171    │\n",
       "│ 1001349  ┆ 2       ┆ 0.2  ┆ Sri Lanka    ┆ … ┆ 0.2        ┆ 0            ┆ 0            ┆ 171    │\n",
       "│ 1001349  ┆ 2       ┆ 0.3  ┆ Sri Lanka    ┆ … ┆ 0.3        ┆ 1            ┆ 0            ┆ 171    │\n",
       "│ 1001349  ┆ 2       ┆ 0.4  ┆ Sri Lanka    ┆ … ┆ 0.4        ┆ 3            ┆ 0            ┆ 171    │\n",
       "│ 1001349  ┆ 2       ┆ 0.5  ┆ Sri Lanka    ┆ … ┆ 0.5        ┆ 3            ┆ 0            ┆ 171    │\n",
       "│ …        ┆ …       ┆ …    ┆ …            ┆ … ┆ …          ┆ …            ┆ …            ┆ …      │\n",
       "│ 412701   ┆ 2       ┆ 4.8  ┆ England      ┆ … ┆ null       ┆ null         ┆ null         ┆ 97     │\n",
       "│ 516205   ┆ 2       ┆ 18.7 ┆ Australia    ┆ … ┆ null       ┆ null         ┆ null         ┆ 157    │\n",
       "│ 1361772  ┆ 2       ┆ 0.9  ┆ Bahrain      ┆ … ┆ null       ┆ null         ┆ null         ┆ 216    │\n",
       "│ 412680   ┆ 2       ┆ 8.7  ┆ Bangladesh   ┆ … ┆ null       ┆ null         ┆ null         ┆ 175    │\n",
       "│ 565810   ┆ 2       ┆ 1.7  ┆ India        ┆ … ┆ null       ┆ null         ┆ null         ┆ 141    │\n",
       "└──────────┴─────────┴──────┴──────────────┴───┴────────────┴──────────────┴──────────────┴────────┘"
      ]
     },
     "execution_count": 420,
     "metadata": {},
     "output_type": "execute_result"
    }
   ],
   "source": [
    "comparision_data=comparision_data.filter(pl.col('match_id').is_not_null())\n",
    "comparision_data"
   ]
  },
  {
   "cell_type": "code",
   "execution_count": 421,
   "metadata": {},
   "outputs": [
    {
     "data": {
      "text/html": [
       "<div><style>\n",
       ".dataframe > thead > tr,\n",
       ".dataframe > tbody > tr {\n",
       "  text-align: right;\n",
       "  white-space: pre-wrap;\n",
       "}\n",
       "</style>\n",
       "<small>shape: (247_575, 11)</small><table border=\"1\" class=\"dataframe\"><thead><tr><th>match_id</th><th>innings</th><th>ball</th><th>curr_score</th><th>curr_wickets</th><th>match_id_right</th><th>ball_right</th><th>curr_score_right</th><th>curr_wickets_right</th><th>target</th><th>win</th></tr><tr><td>i64</td><td>i64</td><td>f64</td><td>i64</td><td>i64</td><td>i64</td><td>f64</td><td>i64</td><td>i64</td><td>i64</td><td>i16</td></tr></thead><tbody><tr><td>1001349</td><td>2</td><td>0.1</td><td>1</td><td>0</td><td>1001349</td><td>0.1</td><td>0</td><td>0</td><td>171</td><td>1</td></tr><tr><td>1001349</td><td>2</td><td>0.2</td><td>3</td><td>0</td><td>1001349</td><td>0.2</td><td>0</td><td>0</td><td>171</td><td>1</td></tr><tr><td>1001349</td><td>2</td><td>0.3</td><td>3</td><td>0</td><td>1001349</td><td>0.3</td><td>1</td><td>0</td><td>171</td><td>1</td></tr><tr><td>1001349</td><td>2</td><td>0.4</td><td>3</td><td>0</td><td>1001349</td><td>0.4</td><td>3</td><td>0</td><td>171</td><td>1</td></tr><tr><td>1001349</td><td>2</td><td>0.5</td><td>6</td><td>0</td><td>1001349</td><td>0.5</td><td>3</td><td>0</td><td>171</td><td>1</td></tr><tr><td>&hellip;</td><td>&hellip;</td><td>&hellip;</td><td>&hellip;</td><td>&hellip;</td><td>&hellip;</td><td>&hellip;</td><td>&hellip;</td><td>&hellip;</td><td>&hellip;</td><td>&hellip;</td></tr><tr><td>412701</td><td>2</td><td>4.8</td><td>44</td><td>0</td><td>995469</td><td>17.5</td><td>118</td><td>7</td><td>97</td><td>1</td></tr><tr><td>516205</td><td>2</td><td>18.7</td><td>151</td><td>8</td><td>995469</td><td>17.5</td><td>118</td><td>7</td><td>157</td><td>0</td></tr><tr><td>1361772</td><td>2</td><td>0.9</td><td>12</td><td>1</td><td>995469</td><td>17.5</td><td>118</td><td>7</td><td>216</td><td>0</td></tr><tr><td>412680</td><td>2</td><td>8.7</td><td>66</td><td>2</td><td>995469</td><td>17.5</td><td>118</td><td>7</td><td>175</td><td>0</td></tr><tr><td>565810</td><td>2</td><td>1.7</td><td>25</td><td>0</td><td>995469</td><td>17.5</td><td>118</td><td>7</td><td>141</td><td>1</td></tr></tbody></table></div>"
      ],
      "text/plain": [
       "shape: (247_575, 11)\n",
       "┌──────────┬─────────┬──────┬────────────┬───┬──────────────────┬───────────────────┬────────┬─────┐\n",
       "│ match_id ┆ innings ┆ ball ┆ curr_score ┆ … ┆ curr_score_right ┆ curr_wickets_righ ┆ target ┆ win │\n",
       "│ ---      ┆ ---     ┆ ---  ┆ ---        ┆   ┆ ---              ┆ t                 ┆ ---    ┆ --- │\n",
       "│ i64      ┆ i64     ┆ f64  ┆ i64        ┆   ┆ i64              ┆ ---               ┆ i64    ┆ i16 │\n",
       "│          ┆         ┆      ┆            ┆   ┆                  ┆ i64               ┆        ┆     │\n",
       "╞══════════╪═════════╪══════╪════════════╪═══╪══════════════════╪═══════════════════╪════════╪═════╡\n",
       "│ 1001349  ┆ 2       ┆ 0.1  ┆ 1          ┆ … ┆ 0                ┆ 0                 ┆ 171    ┆ 1   │\n",
       "│ 1001349  ┆ 2       ┆ 0.2  ┆ 3          ┆ … ┆ 0                ┆ 0                 ┆ 171    ┆ 1   │\n",
       "│ 1001349  ┆ 2       ┆ 0.3  ┆ 3          ┆ … ┆ 1                ┆ 0                 ┆ 171    ┆ 1   │\n",
       "│ 1001349  ┆ 2       ┆ 0.4  ┆ 3          ┆ … ┆ 3                ┆ 0                 ┆ 171    ┆ 1   │\n",
       "│ 1001349  ┆ 2       ┆ 0.5  ┆ 6          ┆ … ┆ 3                ┆ 0                 ┆ 171    ┆ 1   │\n",
       "│ …        ┆ …       ┆ …    ┆ …          ┆ … ┆ …                ┆ …                 ┆ …      ┆ …   │\n",
       "│ 412701   ┆ 2       ┆ 4.8  ┆ 44         ┆ … ┆ 118              ┆ 7                 ┆ 97     ┆ 1   │\n",
       "│ 516205   ┆ 2       ┆ 18.7 ┆ 151        ┆ … ┆ 118              ┆ 7                 ┆ 157    ┆ 0   │\n",
       "│ 1361772  ┆ 2       ┆ 0.9  ┆ 12         ┆ … ┆ 118              ┆ 7                 ┆ 216    ┆ 0   │\n",
       "│ 412680   ┆ 2       ┆ 8.7  ┆ 66         ┆ … ┆ 118              ┆ 7                 ┆ 175    ┆ 0   │\n",
       "│ 565810   ┆ 2       ┆ 1.7  ┆ 25         ┆ … ┆ 118              ┆ 7                 ┆ 141    ┆ 1   │\n",
       "└──────────┴─────────┴──────┴────────────┴───┴──────────────────┴───────────────────┴────────┴─────┘"
      ]
     },
     "execution_count": 421,
     "metadata": {},
     "output_type": "execute_result"
    }
   ],
   "source": [
    "comparision_data=comparision_data.with_columns([\n",
    "    (pl.col('batting_team') == pl.col('winner')).alias('win').cast(pl.Int16)\n",
    "]).drop('winner','batting_team','bowling_team').fill_null(strategy='forward')\n",
    "comparision_data"
   ]
  },
  {
   "cell_type": "code",
   "execution_count": 422,
   "metadata": {},
   "outputs": [
    {
     "data": {
      "text/html": [
       "<div><style>\n",
       ".dataframe > thead > tr,\n",
       ".dataframe > tbody > tr {\n",
       "  text-align: right;\n",
       "  white-space: pre-wrap;\n",
       "}\n",
       "</style>\n",
       "<small>shape: (247_575, 8)</small><table border=\"1\" class=\"dataframe\"><thead><tr><th>match_id</th><th>ball</th><th>curr_score</th><th>curr_wickets</th><th>curr_score_1st_innings</th><th>curr_wickets_1st_innings</th><th>target</th><th>win</th></tr><tr><td>i64</td><td>f64</td><td>i64</td><td>i64</td><td>i64</td><td>i64</td><td>i64</td><td>i16</td></tr></thead><tbody><tr><td>1001349</td><td>0.1</td><td>1</td><td>0</td><td>0</td><td>0</td><td>171</td><td>1</td></tr><tr><td>1001349</td><td>0.2</td><td>3</td><td>0</td><td>0</td><td>0</td><td>171</td><td>1</td></tr><tr><td>1001349</td><td>0.3</td><td>3</td><td>0</td><td>1</td><td>0</td><td>171</td><td>1</td></tr><tr><td>1001349</td><td>0.4</td><td>3</td><td>0</td><td>3</td><td>0</td><td>171</td><td>1</td></tr><tr><td>1001349</td><td>0.5</td><td>6</td><td>0</td><td>3</td><td>0</td><td>171</td><td>1</td></tr><tr><td>&hellip;</td><td>&hellip;</td><td>&hellip;</td><td>&hellip;</td><td>&hellip;</td><td>&hellip;</td><td>&hellip;</td><td>&hellip;</td></tr><tr><td>412701</td><td>4.8</td><td>44</td><td>0</td><td>118</td><td>7</td><td>97</td><td>1</td></tr><tr><td>516205</td><td>18.7</td><td>151</td><td>8</td><td>118</td><td>7</td><td>157</td><td>0</td></tr><tr><td>1361772</td><td>0.9</td><td>12</td><td>1</td><td>118</td><td>7</td><td>216</td><td>0</td></tr><tr><td>412680</td><td>8.7</td><td>66</td><td>2</td><td>118</td><td>7</td><td>175</td><td>0</td></tr><tr><td>565810</td><td>1.7</td><td>25</td><td>0</td><td>118</td><td>7</td><td>141</td><td>1</td></tr></tbody></table></div>"
      ],
      "text/plain": [
       "shape: (247_575, 8)\n",
       "┌──────────┬──────┬────────────┬──────────────┬──────────────────┬──────────────────┬────────┬─────┐\n",
       "│ match_id ┆ ball ┆ curr_score ┆ curr_wickets ┆ curr_score_1st_i ┆ curr_wickets_1st ┆ target ┆ win │\n",
       "│ ---      ┆ ---  ┆ ---        ┆ ---          ┆ nnings           ┆ _innings         ┆ ---    ┆ --- │\n",
       "│ i64      ┆ f64  ┆ i64        ┆ i64          ┆ ---              ┆ ---              ┆ i64    ┆ i16 │\n",
       "│          ┆      ┆            ┆              ┆ i64              ┆ i64              ┆        ┆     │\n",
       "╞══════════╪══════╪════════════╪══════════════╪══════════════════╪══════════════════╪════════╪═════╡\n",
       "│ 1001349  ┆ 0.1  ┆ 1          ┆ 0            ┆ 0                ┆ 0                ┆ 171    ┆ 1   │\n",
       "│ 1001349  ┆ 0.2  ┆ 3          ┆ 0            ┆ 0                ┆ 0                ┆ 171    ┆ 1   │\n",
       "│ 1001349  ┆ 0.3  ┆ 3          ┆ 0            ┆ 1                ┆ 0                ┆ 171    ┆ 1   │\n",
       "│ 1001349  ┆ 0.4  ┆ 3          ┆ 0            ┆ 3                ┆ 0                ┆ 171    ┆ 1   │\n",
       "│ 1001349  ┆ 0.5  ┆ 6          ┆ 0            ┆ 3                ┆ 0                ┆ 171    ┆ 1   │\n",
       "│ …        ┆ …    ┆ …          ┆ …            ┆ …                ┆ …                ┆ …      ┆ …   │\n",
       "│ 412701   ┆ 4.8  ┆ 44         ┆ 0            ┆ 118              ┆ 7                ┆ 97     ┆ 1   │\n",
       "│ 516205   ┆ 18.7 ┆ 151        ┆ 8            ┆ 118              ┆ 7                ┆ 157    ┆ 0   │\n",
       "│ 1361772  ┆ 0.9  ┆ 12         ┆ 1            ┆ 118              ┆ 7                ┆ 216    ┆ 0   │\n",
       "│ 412680   ┆ 8.7  ┆ 66         ┆ 2            ┆ 118              ┆ 7                ┆ 175    ┆ 0   │\n",
       "│ 565810   ┆ 1.7  ┆ 25         ┆ 0            ┆ 118              ┆ 7                ┆ 141    ┆ 1   │\n",
       "└──────────┴──────┴────────────┴──────────────┴──────────────────┴──────────────────┴────────┴─────┘"
      ]
     },
     "execution_count": 422,
     "metadata": {},
     "output_type": "execute_result"
    }
   ],
   "source": [
    "comparision_data=comparision_data.drop('match_id_right','ball_right','innings')\n",
    "comparision_data=comparision_data.with_columns(pl.col('curr_score_right').alias('curr_score_1st_innings')).drop('curr_score_right')\n",
    "\n",
    "comparision_data=comparision_data.with_columns(pl.col('curr_wickets_right').alias('curr_wickets_1st_innings')).drop('curr_wickets_right')\n",
    "comparision_data=comparision_data[['match_id','ball','curr_score','curr_wickets','curr_score_1st_innings','curr_wickets_1st_innings','target','win']]\n",
    "comparision_data"
   ]
  },
  {
   "cell_type": "code",
   "execution_count": 423,
   "metadata": {},
   "outputs": [],
   "source": [
    "from sklearn.model_selection import train_test_split\n",
    "X_train,X_test,y_train,y_test = train_test_split(comparision_data.drop(['match_id','win']),comparision_data['win'],test_size=0.3,random_state=42)"
   ]
  },
  {
   "cell_type": "code",
   "execution_count": 424,
   "metadata": {},
   "outputs": [
    {
     "data": {
      "text/html": [
       "<style>#sk-container-id-10 {color: black;}#sk-container-id-10 pre{padding: 0;}#sk-container-id-10 div.sk-toggleable {background-color: white;}#sk-container-id-10 label.sk-toggleable__label {cursor: pointer;display: block;width: 100%;margin-bottom: 0;padding: 0.3em;box-sizing: border-box;text-align: center;}#sk-container-id-10 label.sk-toggleable__label-arrow:before {content: \"▸\";float: left;margin-right: 0.25em;color: #696969;}#sk-container-id-10 label.sk-toggleable__label-arrow:hover:before {color: black;}#sk-container-id-10 div.sk-estimator:hover label.sk-toggleable__label-arrow:before {color: black;}#sk-container-id-10 div.sk-toggleable__content {max-height: 0;max-width: 0;overflow: hidden;text-align: left;background-color: #f0f8ff;}#sk-container-id-10 div.sk-toggleable__content pre {margin: 0.2em;color: black;border-radius: 0.25em;background-color: #f0f8ff;}#sk-container-id-10 input.sk-toggleable__control:checked~div.sk-toggleable__content {max-height: 200px;max-width: 100%;overflow: auto;}#sk-container-id-10 input.sk-toggleable__control:checked~label.sk-toggleable__label-arrow:before {content: \"▾\";}#sk-container-id-10 div.sk-estimator input.sk-toggleable__control:checked~label.sk-toggleable__label {background-color: #d4ebff;}#sk-container-id-10 div.sk-label input.sk-toggleable__control:checked~label.sk-toggleable__label {background-color: #d4ebff;}#sk-container-id-10 input.sk-hidden--visually {border: 0;clip: rect(1px 1px 1px 1px);clip: rect(1px, 1px, 1px, 1px);height: 1px;margin: -1px;overflow: hidden;padding: 0;position: absolute;width: 1px;}#sk-container-id-10 div.sk-estimator {font-family: monospace;background-color: #f0f8ff;border: 1px dotted black;border-radius: 0.25em;box-sizing: border-box;margin-bottom: 0.5em;}#sk-container-id-10 div.sk-estimator:hover {background-color: #d4ebff;}#sk-container-id-10 div.sk-parallel-item::after {content: \"\";width: 100%;border-bottom: 1px solid gray;flex-grow: 1;}#sk-container-id-10 div.sk-label:hover label.sk-toggleable__label {background-color: #d4ebff;}#sk-container-id-10 div.sk-serial::before {content: \"\";position: absolute;border-left: 1px solid gray;box-sizing: border-box;top: 0;bottom: 0;left: 50%;z-index: 0;}#sk-container-id-10 div.sk-serial {display: flex;flex-direction: column;align-items: center;background-color: white;padding-right: 0.2em;padding-left: 0.2em;position: relative;}#sk-container-id-10 div.sk-item {position: relative;z-index: 1;}#sk-container-id-10 div.sk-parallel {display: flex;align-items: stretch;justify-content: center;background-color: white;position: relative;}#sk-container-id-10 div.sk-item::before, #sk-container-id-10 div.sk-parallel-item::before {content: \"\";position: absolute;border-left: 1px solid gray;box-sizing: border-box;top: 0;bottom: 0;left: 50%;z-index: -1;}#sk-container-id-10 div.sk-parallel-item {display: flex;flex-direction: column;z-index: 1;position: relative;background-color: white;}#sk-container-id-10 div.sk-parallel-item:first-child::after {align-self: flex-end;width: 50%;}#sk-container-id-10 div.sk-parallel-item:last-child::after {align-self: flex-start;width: 50%;}#sk-container-id-10 div.sk-parallel-item:only-child::after {width: 0;}#sk-container-id-10 div.sk-dashed-wrapped {border: 1px dashed gray;margin: 0 0.4em 0.5em 0.4em;box-sizing: border-box;padding-bottom: 0.4em;background-color: white;}#sk-container-id-10 div.sk-label label {font-family: monospace;font-weight: bold;display: inline-block;line-height: 1.2em;}#sk-container-id-10 div.sk-label-container {text-align: center;}#sk-container-id-10 div.sk-container {/* jupyter's `normalize.less` sets `[hidden] { display: none; }` but bootstrap.min.css set `[hidden] { display: none !important; }` so we also need the `!important` here to be able to override the default hidden behavior on the sphinx rendered scikit-learn.org. See: https://github.com/scikit-learn/scikit-learn/issues/21755 */display: inline-block !important;position: relative;}#sk-container-id-10 div.sk-text-repr-fallback {display: none;}</style><div id=\"sk-container-id-10\" class=\"sk-top-container\"><div class=\"sk-text-repr-fallback\"><pre>LogisticRegression()</pre><b>In a Jupyter environment, please rerun this cell to show the HTML representation or trust the notebook. <br />On GitHub, the HTML representation is unable to render, please try loading this page with nbviewer.org.</b></div><div class=\"sk-container\" hidden><div class=\"sk-item\"><div class=\"sk-estimator sk-toggleable\"><input class=\"sk-toggleable__control sk-hidden--visually\" id=\"sk-estimator-id-10\" type=\"checkbox\" checked><label for=\"sk-estimator-id-10\" class=\"sk-toggleable__label sk-toggleable__label-arrow\">LogisticRegression</label><div class=\"sk-toggleable__content\"><pre>LogisticRegression()</pre></div></div></div></div></div>"
      ],
      "text/plain": [
       "LogisticRegression()"
      ]
     },
     "execution_count": 424,
     "metadata": {},
     "output_type": "execute_result"
    }
   ],
   "source": [
    "from sklearn.linear_model import LogisticRegression\n",
    "lr= LogisticRegression()\n",
    "lr.fit(X_train,y_train)"
   ]
  },
  {
   "cell_type": "code",
   "execution_count": 425,
   "metadata": {},
   "outputs": [],
   "source": [
    "y_pred = lr.predict(X_test)"
   ]
  },
  {
   "cell_type": "code",
   "execution_count": 426,
   "metadata": {},
   "outputs": [
    {
     "data": {
      "text/plain": [
       "0.8206212217091002"
      ]
     },
     "execution_count": 426,
     "metadata": {},
     "output_type": "execute_result"
    }
   ],
   "source": [
    "from sklearn.metrics import accuracy_score,confusion_matrix,classification_report\n",
    "accuracy_score(y_test,y_pred)"
   ]
  },
  {
   "cell_type": "code",
   "execution_count": 427,
   "metadata": {},
   "outputs": [
    {
     "data": {
      "text/plain": [
       "array([[33327,  6006],\n",
       "       [ 7317, 27623]], dtype=int64)"
      ]
     },
     "execution_count": 427,
     "metadata": {},
     "output_type": "execute_result"
    }
   ],
   "source": [
    "confusion_matrix(y_test,y_pred)"
   ]
  },
  {
   "cell_type": "code",
   "execution_count": 428,
   "metadata": {},
   "outputs": [
    {
     "name": "stdout",
     "output_type": "stream",
     "text": [
      "              precision    recall  f1-score   support\n",
      "\n",
      "           0       0.82      0.85      0.83     39333\n",
      "           1       0.82      0.79      0.81     34940\n",
      "\n",
      "    accuracy                           0.82     74273\n",
      "   macro avg       0.82      0.82      0.82     74273\n",
      "weighted avg       0.82      0.82      0.82     74273\n",
      "\n"
     ]
    }
   ],
   "source": [
    "print(classification_report(y_test,y_pred))"
   ]
  },
  {
   "cell_type": "code",
   "execution_count": null,
   "metadata": {},
   "outputs": [],
   "source": []
  }
 ],
 "metadata": {
  "kernelspec": {
   "display_name": "Python 3 (ipykernel)",
   "language": "python",
   "name": "python3"
  },
  "language_info": {
   "codemirror_mode": {
    "name": "ipython",
    "version": 3
   },
   "file_extension": ".py",
   "mimetype": "text/x-python",
   "name": "python",
   "nbconvert_exporter": "python",
   "pygments_lexer": "ipython3",
   "version": "3.8.19"
  }
 },
 "nbformat": 4,
 "nbformat_minor": 4
}
