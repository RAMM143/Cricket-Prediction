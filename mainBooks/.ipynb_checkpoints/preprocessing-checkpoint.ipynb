{
 "cells": [
  {
   "cell_type": "code",
   "execution_count": 10,
   "metadata": {},
   "outputs": [],
   "source": [
    "import polars as pl"
   ]
  },
  {
   "cell_type": "code",
   "execution_count": 11,
   "metadata": {},
   "outputs": [
    {
     "data": {
      "text/html": [
       "<div><style>\n",
       ".dataframe > thead > tr,\n",
       ".dataframe > tbody > tr {\n",
       "  text-align: right;\n",
       "  white-space: pre-wrap;\n",
       "}\n",
       "</style>\n",
       "<small>shape: (5, 22)</small><table border=\"1\" class=\"dataframe\"><thead><tr><th>match_id</th><th>season</th><th>start_date</th><th>venue</th><th>innings</th><th>ball</th><th>batting_team</th><th>bowling_team</th><th>striker</th><th>non_striker</th><th>bowler</th><th>runs_off_bat</th><th>extras</th><th>wides</th><th>noballs</th><th>byes</th><th>legbyes</th><th>penalty</th><th>wicket_type</th><th>player_dismissed</th><th>other_wicket_type</th><th>other_player_dismissed</th></tr><tr><td>i64</td><td>str</td><td>str</td><td>str</td><td>i64</td><td>f64</td><td>str</td><td>str</td><td>str</td><td>str</td><td>str</td><td>i64</td><td>i64</td><td>i64</td><td>str</td><td>i64</td><td>i64</td><td>str</td><td>str</td><td>str</td><td>str</td><td>str</td></tr></thead><tbody><tr><td>1001349</td><td>&quot;2016/17&quot;</td><td>&quot;2017-02-17&quot;</td><td>&quot;Melbourne Cricket Ground&quot;</td><td>1</td><td>0.1</td><td>&quot;Australia&quot;</td><td>&quot;Sri Lanka&quot;</td><td>&quot;AJ Finch&quot;</td><td>&quot;M Klinger&quot;</td><td>&quot;SL Malinga&quot;</td><td>0</td><td>0</td><td>null</td><td>null</td><td>null</td><td>null</td><td>null</td><td>null</td><td>null</td><td>null</td><td>null</td></tr><tr><td>1001349</td><td>&quot;2016/17&quot;</td><td>&quot;2017-02-17&quot;</td><td>&quot;Melbourne Cricket Ground&quot;</td><td>1</td><td>0.2</td><td>&quot;Australia&quot;</td><td>&quot;Sri Lanka&quot;</td><td>&quot;AJ Finch&quot;</td><td>&quot;M Klinger&quot;</td><td>&quot;SL Malinga&quot;</td><td>0</td><td>0</td><td>null</td><td>null</td><td>null</td><td>null</td><td>null</td><td>null</td><td>null</td><td>null</td><td>null</td></tr><tr><td>1001349</td><td>&quot;2016/17&quot;</td><td>&quot;2017-02-17&quot;</td><td>&quot;Melbourne Cricket Ground&quot;</td><td>1</td><td>0.3</td><td>&quot;Australia&quot;</td><td>&quot;Sri Lanka&quot;</td><td>&quot;AJ Finch&quot;</td><td>&quot;M Klinger&quot;</td><td>&quot;SL Malinga&quot;</td><td>1</td><td>0</td><td>null</td><td>null</td><td>null</td><td>null</td><td>null</td><td>null</td><td>null</td><td>null</td><td>null</td></tr><tr><td>1001349</td><td>&quot;2016/17&quot;</td><td>&quot;2017-02-17&quot;</td><td>&quot;Melbourne Cricket Ground&quot;</td><td>1</td><td>0.4</td><td>&quot;Australia&quot;</td><td>&quot;Sri Lanka&quot;</td><td>&quot;M Klinger&quot;</td><td>&quot;AJ Finch&quot;</td><td>&quot;SL Malinga&quot;</td><td>2</td><td>0</td><td>null</td><td>null</td><td>null</td><td>null</td><td>null</td><td>null</td><td>null</td><td>null</td><td>null</td></tr><tr><td>1001349</td><td>&quot;2016/17&quot;</td><td>&quot;2017-02-17&quot;</td><td>&quot;Melbourne Cricket Ground&quot;</td><td>1</td><td>0.5</td><td>&quot;Australia&quot;</td><td>&quot;Sri Lanka&quot;</td><td>&quot;M Klinger&quot;</td><td>&quot;AJ Finch&quot;</td><td>&quot;SL Malinga&quot;</td><td>0</td><td>0</td><td>null</td><td>null</td><td>null</td><td>null</td><td>null</td><td>null</td><td>null</td><td>null</td><td>null</td></tr></tbody></table></div>"
      ],
      "text/plain": [
       "shape: (5, 22)\n",
       "┌──────────┬─────────┬────────────┬───────────┬───┬─────────────┬──────────────────┬─────────────────┬─────────────────┐\n",
       "│ match_id ┆ season  ┆ start_date ┆ venue     ┆ … ┆ wicket_type ┆ player_dismissed ┆ other_wicket_ty ┆ other_player_di │\n",
       "│ ---      ┆ ---     ┆ ---        ┆ ---       ┆   ┆ ---         ┆ ---              ┆ pe              ┆ smissed         │\n",
       "│ i64      ┆ str     ┆ str        ┆ str       ┆   ┆ str         ┆ str              ┆ ---             ┆ ---             │\n",
       "│          ┆         ┆            ┆           ┆   ┆             ┆                  ┆ str             ┆ str             │\n",
       "╞══════════╪═════════╪════════════╪═══════════╪═══╪═════════════╪══════════════════╪═════════════════╪═════════════════╡\n",
       "│ 1001349  ┆ 2016/17 ┆ 2017-02-17 ┆ Melbourne ┆ … ┆ null        ┆ null             ┆ null            ┆ null            │\n",
       "│          ┆         ┆            ┆ Cricket   ┆   ┆             ┆                  ┆                 ┆                 │\n",
       "│          ┆         ┆            ┆ Ground    ┆   ┆             ┆                  ┆                 ┆                 │\n",
       "│ 1001349  ┆ 2016/17 ┆ 2017-02-17 ┆ Melbourne ┆ … ┆ null        ┆ null             ┆ null            ┆ null            │\n",
       "│          ┆         ┆            ┆ Cricket   ┆   ┆             ┆                  ┆                 ┆                 │\n",
       "│          ┆         ┆            ┆ Ground    ┆   ┆             ┆                  ┆                 ┆                 │\n",
       "│ 1001349  ┆ 2016/17 ┆ 2017-02-17 ┆ Melbourne ┆ … ┆ null        ┆ null             ┆ null            ┆ null            │\n",
       "│          ┆         ┆            ┆ Cricket   ┆   ┆             ┆                  ┆                 ┆                 │\n",
       "│          ┆         ┆            ┆ Ground    ┆   ┆             ┆                  ┆                 ┆                 │\n",
       "│ 1001349  ┆ 2016/17 ┆ 2017-02-17 ┆ Melbourne ┆ … ┆ null        ┆ null             ┆ null            ┆ null            │\n",
       "│          ┆         ┆            ┆ Cricket   ┆   ┆             ┆                  ┆                 ┆                 │\n",
       "│          ┆         ┆            ┆ Ground    ┆   ┆             ┆                  ┆                 ┆                 │\n",
       "│ 1001349  ┆ 2016/17 ┆ 2017-02-17 ┆ Melbourne ┆ … ┆ null        ┆ null             ┆ null            ┆ null            │\n",
       "│          ┆         ┆            ┆ Cricket   ┆   ┆             ┆                  ┆                 ┆                 │\n",
       "│          ┆         ┆            ┆ Ground    ┆   ┆             ┆                  ┆                 ┆                 │\n",
       "└──────────┴─────────┴────────────┴───────────┴───┴─────────────┴──────────────────┴─────────────────┴─────────────────┘"
      ]
     },
     "execution_count": 11,
     "metadata": {},
     "output_type": "execute_result"
    }
   ],
   "source": [
    "deliveries=pl.read_parquet('..\\historical_data\\cricsheetSource\\deliveries.parquet')\n",
    "deliveries.head()"
   ]
  },
  {
   "cell_type": "code",
   "execution_count": 12,
   "metadata": {},
   "outputs": [
    {
     "data": {
      "text/html": [
       "<div><style>\n",
       ".dataframe > thead > tr,\n",
       ".dataframe > tbody > tr {\n",
       "  text-align: right;\n",
       "  white-space: pre-wrap;\n",
       "}\n",
       "</style>\n",
       "<small>shape: (794_009, 16)</small><table border=\"1\" class=\"dataframe\"><thead><tr><th>match_id</th><th>innings</th><th>ball</th><th>batting_team</th><th>bowling_team</th><th>runs_off_bat</th><th>extras</th><th>wides</th><th>noballs</th><th>byes</th><th>legbyes</th><th>penalty</th><th>wicket_type</th><th>player_dismissed</th><th>other_wicket_type</th><th>other_player_dismissed</th></tr><tr><td>i64</td><td>i64</td><td>f64</td><td>str</td><td>str</td><td>i64</td><td>i64</td><td>i64</td><td>str</td><td>i64</td><td>i64</td><td>str</td><td>str</td><td>str</td><td>str</td><td>str</td></tr></thead><tbody><tr><td>1001349</td><td>1</td><td>0.1</td><td>&quot;Australia&quot;</td><td>&quot;Sri Lanka&quot;</td><td>0</td><td>0</td><td>0</td><td>null</td><td>0</td><td>0</td><td>null</td><td>null</td><td>null</td><td>null</td><td>null</td></tr><tr><td>1001349</td><td>1</td><td>0.2</td><td>&quot;Australia&quot;</td><td>&quot;Sri Lanka&quot;</td><td>0</td><td>0</td><td>0</td><td>null</td><td>0</td><td>0</td><td>null</td><td>null</td><td>null</td><td>null</td><td>null</td></tr><tr><td>1001349</td><td>1</td><td>0.3</td><td>&quot;Australia&quot;</td><td>&quot;Sri Lanka&quot;</td><td>1</td><td>0</td><td>0</td><td>null</td><td>0</td><td>0</td><td>null</td><td>null</td><td>null</td><td>null</td><td>null</td></tr><tr><td>1001349</td><td>1</td><td>0.4</td><td>&quot;Australia&quot;</td><td>&quot;Sri Lanka&quot;</td><td>2</td><td>0</td><td>0</td><td>null</td><td>0</td><td>0</td><td>null</td><td>null</td><td>null</td><td>null</td><td>null</td></tr><tr><td>1001349</td><td>1</td><td>0.5</td><td>&quot;Australia&quot;</td><td>&quot;Sri Lanka&quot;</td><td>0</td><td>0</td><td>0</td><td>null</td><td>0</td><td>0</td><td>null</td><td>null</td><td>null</td><td>null</td><td>null</td></tr><tr><td>&hellip;</td><td>&hellip;</td><td>&hellip;</td><td>&hellip;</td><td>&hellip;</td><td>&hellip;</td><td>&hellip;</td><td>&hellip;</td><td>&hellip;</td><td>&hellip;</td><td>&hellip;</td><td>&hellip;</td><td>&hellip;</td><td>&hellip;</td><td>&hellip;</td><td>&hellip;</td></tr><tr><td>995469</td><td>2</td><td>17.1</td><td>&quot;Australia&quot;</td><td>&quot;Sri Lanka&quot;</td><td>1</td><td>0</td><td>0</td><td>null</td><td>0</td><td>0</td><td>null</td><td>null</td><td>null</td><td>null</td><td>null</td></tr><tr><td>995469</td><td>2</td><td>17.2</td><td>&quot;Australia&quot;</td><td>&quot;Sri Lanka&quot;</td><td>3</td><td>0</td><td>0</td><td>null</td><td>0</td><td>0</td><td>null</td><td>null</td><td>null</td><td>null</td><td>null</td></tr><tr><td>995469</td><td>2</td><td>17.3</td><td>&quot;Australia&quot;</td><td>&quot;Sri Lanka&quot;</td><td>0</td><td>0</td><td>0</td><td>null</td><td>0</td><td>0</td><td>null</td><td>null</td><td>null</td><td>null</td><td>null</td></tr><tr><td>995469</td><td>2</td><td>17.4</td><td>&quot;Australia&quot;</td><td>&quot;Sri Lanka&quot;</td><td>0</td><td>0</td><td>0</td><td>null</td><td>0</td><td>0</td><td>null</td><td>null</td><td>null</td><td>null</td><td>null</td></tr><tr><td>995469</td><td>2</td><td>17.5</td><td>&quot;Australia&quot;</td><td>&quot;Sri Lanka&quot;</td><td>6</td><td>0</td><td>0</td><td>null</td><td>0</td><td>0</td><td>null</td><td>null</td><td>null</td><td>null</td><td>null</td></tr></tbody></table></div>"
      ],
      "text/plain": [
       "shape: (794_009, 16)\n",
       "┌──────────┬─────────┬──────┬──────────────┬───┬─────────────┬──────────────────┬───────────────────┬──────────────────┐\n",
       "│ match_id ┆ innings ┆ ball ┆ batting_team ┆ … ┆ wicket_type ┆ player_dismissed ┆ other_wicket_type ┆ other_player_dis │\n",
       "│ ---      ┆ ---     ┆ ---  ┆ ---          ┆   ┆ ---         ┆ ---              ┆ ---               ┆ missed           │\n",
       "│ i64      ┆ i64     ┆ f64  ┆ str          ┆   ┆ str         ┆ str              ┆ str               ┆ ---              │\n",
       "│          ┆         ┆      ┆              ┆   ┆             ┆                  ┆                   ┆ str              │\n",
       "╞══════════╪═════════╪══════╪══════════════╪═══╪═════════════╪══════════════════╪═══════════════════╪══════════════════╡\n",
       "│ 1001349  ┆ 1       ┆ 0.1  ┆ Australia    ┆ … ┆ null        ┆ null             ┆ null              ┆ null             │\n",
       "│ 1001349  ┆ 1       ┆ 0.2  ┆ Australia    ┆ … ┆ null        ┆ null             ┆ null              ┆ null             │\n",
       "│ 1001349  ┆ 1       ┆ 0.3  ┆ Australia    ┆ … ┆ null        ┆ null             ┆ null              ┆ null             │\n",
       "│ 1001349  ┆ 1       ┆ 0.4  ┆ Australia    ┆ … ┆ null        ┆ null             ┆ null              ┆ null             │\n",
       "│ 1001349  ┆ 1       ┆ 0.5  ┆ Australia    ┆ … ┆ null        ┆ null             ┆ null              ┆ null             │\n",
       "│ …        ┆ …       ┆ …    ┆ …            ┆ … ┆ …           ┆ …                ┆ …                 ┆ …                │\n",
       "│ 995469   ┆ 2       ┆ 17.1 ┆ Australia    ┆ … ┆ null        ┆ null             ┆ null              ┆ null             │\n",
       "│ 995469   ┆ 2       ┆ 17.2 ┆ Australia    ┆ … ┆ null        ┆ null             ┆ null              ┆ null             │\n",
       "│ 995469   ┆ 2       ┆ 17.3 ┆ Australia    ┆ … ┆ null        ┆ null             ┆ null              ┆ null             │\n",
       "│ 995469   ┆ 2       ┆ 17.4 ┆ Australia    ┆ … ┆ null        ┆ null             ┆ null              ┆ null             │\n",
       "│ 995469   ┆ 2       ┆ 17.5 ┆ Australia    ┆ … ┆ null        ┆ null             ┆ null              ┆ null             │\n",
       "└──────────┴─────────┴──────┴──────────────┴───┴─────────────┴──────────────────┴───────────────────┴──────────────────┘"
      ]
     },
     "execution_count": 12,
     "metadata": {},
     "output_type": "execute_result"
    }
   ],
   "source": [
    "deliveries=deliveries.fill_null(0).drop(['season','venue','start_date','venue','striker','non_striker','bowler'])\n",
    "deliveries"
   ]
  },
  {
   "cell_type": "code",
   "execution_count": null,
   "metadata": {},
   "outputs": [],
   "source": [
    "deliveries=deliveries.with_columns(deliveries['noballs'].cast(pl.Int16).fill_null(0))\n",
    "deliveries=deliveries.with_columns(deliveries['penalty'].cast(pl.Int16).fill_null(0))"
   ]
  },
  {
   "cell_type": "code",
   "execution_count": 35,
   "metadata": {},
   "outputs": [
    {
     "data": {
      "text/html": [
       "<div><style>\n",
       ".dataframe > thead > tr,\n",
       ".dataframe > tbody > tr {\n",
       "  text-align: right;\n",
       "  white-space: pre-wrap;\n",
       "}\n",
       "</style>\n",
       "<small>shape: (794_009, 10)</small><table border=\"1\" class=\"dataframe\"><thead><tr><th>match_id</th><th>innings</th><th>ball</th><th>batting_team</th><th>bowling_team</th><th>wicket_type</th><th>player_dismissed</th><th>other_wicket_type</th><th>other_player_dismissed</th><th>sum</th></tr><tr><td>i64</td><td>i64</td><td>f64</td><td>str</td><td>str</td><td>str</td><td>str</td><td>str</td><td>str</td><td>i64</td></tr></thead><tbody><tr><td>1001349</td><td>1</td><td>0.1</td><td>&quot;Australia&quot;</td><td>&quot;Sri Lanka&quot;</td><td>null</td><td>null</td><td>null</td><td>null</td><td>0</td></tr><tr><td>1001349</td><td>1</td><td>0.2</td><td>&quot;Australia&quot;</td><td>&quot;Sri Lanka&quot;</td><td>null</td><td>null</td><td>null</td><td>null</td><td>0</td></tr><tr><td>1001349</td><td>1</td><td>0.3</td><td>&quot;Australia&quot;</td><td>&quot;Sri Lanka&quot;</td><td>null</td><td>null</td><td>null</td><td>null</td><td>1</td></tr><tr><td>1001349</td><td>1</td><td>0.4</td><td>&quot;Australia&quot;</td><td>&quot;Sri Lanka&quot;</td><td>null</td><td>null</td><td>null</td><td>null</td><td>2</td></tr><tr><td>1001349</td><td>1</td><td>0.5</td><td>&quot;Australia&quot;</td><td>&quot;Sri Lanka&quot;</td><td>null</td><td>null</td><td>null</td><td>null</td><td>0</td></tr><tr><td>&hellip;</td><td>&hellip;</td><td>&hellip;</td><td>&hellip;</td><td>&hellip;</td><td>&hellip;</td><td>&hellip;</td><td>&hellip;</td><td>&hellip;</td><td>&hellip;</td></tr><tr><td>995469</td><td>2</td><td>17.1</td><td>&quot;Australia&quot;</td><td>&quot;Sri Lanka&quot;</td><td>null</td><td>null</td><td>null</td><td>null</td><td>1</td></tr><tr><td>995469</td><td>2</td><td>17.2</td><td>&quot;Australia&quot;</td><td>&quot;Sri Lanka&quot;</td><td>null</td><td>null</td><td>null</td><td>null</td><td>3</td></tr><tr><td>995469</td><td>2</td><td>17.3</td><td>&quot;Australia&quot;</td><td>&quot;Sri Lanka&quot;</td><td>null</td><td>null</td><td>null</td><td>null</td><td>0</td></tr><tr><td>995469</td><td>2</td><td>17.4</td><td>&quot;Australia&quot;</td><td>&quot;Sri Lanka&quot;</td><td>null</td><td>null</td><td>null</td><td>null</td><td>0</td></tr><tr><td>995469</td><td>2</td><td>17.5</td><td>&quot;Australia&quot;</td><td>&quot;Sri Lanka&quot;</td><td>null</td><td>null</td><td>null</td><td>null</td><td>6</td></tr></tbody></table></div>"
      ],
      "text/plain": [
       "shape: (794_009, 10)\n",
       "┌──────────┬─────────┬──────┬──────────────┬───┬──────────────────┬───────────────────┬────────────────────────┬─────┐\n",
       "│ match_id ┆ innings ┆ ball ┆ batting_team ┆ … ┆ player_dismissed ┆ other_wicket_type ┆ other_player_dismissed ┆ sum │\n",
       "│ ---      ┆ ---     ┆ ---  ┆ ---          ┆   ┆ ---              ┆ ---               ┆ ---                    ┆ --- │\n",
       "│ i64      ┆ i64     ┆ f64  ┆ str          ┆   ┆ str              ┆ str               ┆ str                    ┆ i64 │\n",
       "╞══════════╪═════════╪══════╪══════════════╪═══╪══════════════════╪═══════════════════╪════════════════════════╪═════╡\n",
       "│ 1001349  ┆ 1       ┆ 0.1  ┆ Australia    ┆ … ┆ null             ┆ null              ┆ null                   ┆ 0   │\n",
       "│ 1001349  ┆ 1       ┆ 0.2  ┆ Australia    ┆ … ┆ null             ┆ null              ┆ null                   ┆ 0   │\n",
       "│ 1001349  ┆ 1       ┆ 0.3  ┆ Australia    ┆ … ┆ null             ┆ null              ┆ null                   ┆ 1   │\n",
       "│ 1001349  ┆ 1       ┆ 0.4  ┆ Australia    ┆ … ┆ null             ┆ null              ┆ null                   ┆ 2   │\n",
       "│ 1001349  ┆ 1       ┆ 0.5  ┆ Australia    ┆ … ┆ null             ┆ null              ┆ null                   ┆ 0   │\n",
       "│ …        ┆ …       ┆ …    ┆ …            ┆ … ┆ …                ┆ …                 ┆ …                      ┆ …   │\n",
       "│ 995469   ┆ 2       ┆ 17.1 ┆ Australia    ┆ … ┆ null             ┆ null              ┆ null                   ┆ 1   │\n",
       "│ 995469   ┆ 2       ┆ 17.2 ┆ Australia    ┆ … ┆ null             ┆ null              ┆ null                   ┆ 3   │\n",
       "│ 995469   ┆ 2       ┆ 17.3 ┆ Australia    ┆ … ┆ null             ┆ null              ┆ null                   ┆ 0   │\n",
       "│ 995469   ┆ 2       ┆ 17.4 ┆ Australia    ┆ … ┆ null             ┆ null              ┆ null                   ┆ 0   │\n",
       "│ 995469   ┆ 2       ┆ 17.5 ┆ Australia    ┆ … ┆ null             ┆ null              ┆ null                   ┆ 6   │\n",
       "└──────────┴─────────┴──────┴──────────────┴───┴──────────────────┴───────────────────┴────────────────────────┴─────┘"
      ]
     },
     "execution_count": 35,
     "metadata": {},
     "output_type": "execute_result"
    }
   ],
   "source": [
    "deliveries=deliveries.with_columns(deliveries[:,5:12].sum_horizontal()).drop(deliveries[:,5:12].columns)"
   ]
  },
  {
   "cell_type": "code",
   "execution_count": 36,
   "metadata": {},
   "outputs": [
    {
     "data": {
      "text/html": [
       "<div><style>\n",
       ".dataframe > thead > tr,\n",
       ".dataframe > tbody > tr {\n",
       "  text-align: right;\n",
       "  white-space: pre-wrap;\n",
       "}\n",
       "</style>\n",
       "<small>shape: (13,)</small><table border=\"1\" class=\"dataframe\"><thead><tr><th>wicket_type</th></tr><tr><td>str</td></tr></thead><tbody><tr><td>&quot;caught and bowled&quot;</td></tr><tr><td>&quot;retired not out&quot;</td></tr><tr><td>&quot;retired hurt&quot;</td></tr><tr><td>null</td></tr><tr><td>&quot;stumped&quot;</td></tr><tr><td>&hellip;</td></tr><tr><td>&quot;hit the ball twice&quot;</td></tr><tr><td>&quot;hit wicket&quot;</td></tr><tr><td>&quot;obstructing the field&quot;</td></tr><tr><td>&quot;caught&quot;</td></tr><tr><td>&quot;run out&quot;</td></tr></tbody></table></div>"
      ],
      "text/plain": [
       "shape: (13,)\n",
       "Series: 'wicket_type' [str]\n",
       "[\n",
       "\t\"caught and bowled\"\n",
       "\t\"retired not out\"\n",
       "\t\"retired hurt\"\n",
       "\tnull\n",
       "\t\"stumped\"\n",
       "\t…\n",
       "\t\"hit the ball twice\"\n",
       "\t\"hit wicket\"\n",
       "\t\"obstructing the field\"\n",
       "\t\"caught\"\n",
       "\t\"run out\"\n",
       "]"
      ]
     },
     "execution_count": 36,
     "metadata": {},
     "output_type": "execute_result"
    }
   ],
   "source": [
    "deliveries['wicket_type'].str.replace()"
   ]
  },
  {
   "cell_type": "code",
   "execution_count": 13,
   "metadata": {},
   "outputs": [
    {
     "data": {
      "text/html": [
       "<div><style>\n",
       ".dataframe > thead > tr,\n",
       ".dataframe > tbody > tr {\n",
       "  text-align: right;\n",
       "  white-space: pre-wrap;\n",
       "}\n",
       "</style>\n",
       "<small>shape: (3_463, 11)</small><table border=\"1\" class=\"dataframe\"><thead><tr><th>team1</th><th>team2</th><th>gender</th><th>season</th><th>date</th><th>venue</th><th>city</th><th>toss_winner</th><th>toss_decision</th><th>winner</th><th>match_id</th></tr><tr><td>str</td><td>str</td><td>str</td><td>str</td><td>str</td><td>str</td><td>str</td><td>str</td><td>str</td><td>str</td><td>i64</td></tr></thead><tbody><tr><td>&quot;Australia&quot;</td><td>&quot;Sri Lanka&quot;</td><td>&quot;male&quot;</td><td>&quot;2016/17&quot;</td><td>&quot;2017/02/17&quot;</td><td>&quot;Melbourne Cricket Ground&quot;</td><td>null</td><td>&quot;Sri Lanka&quot;</td><td>&quot;field&quot;</td><td>&quot;Sri Lanka&quot;</td><td>1001349</td></tr><tr><td>&quot;Australia&quot;</td><td>&quot;Sri Lanka&quot;</td><td>&quot;male&quot;</td><td>&quot;2016/17&quot;</td><td>&quot;2017/02/19&quot;</td><td>&quot;Simonds Stadium, South Geelong&quot;</td><td>&quot;Victoria&quot;</td><td>&quot;Sri Lanka&quot;</td><td>&quot;field&quot;</td><td>&quot;Sri Lanka&quot;</td><td>1001351</td></tr><tr><td>&quot;Australia&quot;</td><td>&quot;Sri Lanka&quot;</td><td>&quot;male&quot;</td><td>&quot;2016/17&quot;</td><td>&quot;2017/02/22&quot;</td><td>&quot;Adelaide Oval&quot;</td><td>null</td><td>&quot;Sri Lanka&quot;</td><td>&quot;field&quot;</td><td>&quot;Australia&quot;</td><td>1001353</td></tr><tr><td>&quot;Ireland&quot;</td><td>&quot;Hong Kong&quot;</td><td>&quot;male&quot;</td><td>&quot;2016&quot;</td><td>&quot;2016/09/05&quot;</td><td>&quot;Bready Cricket Club, Magherama…</td><td>&quot;Londonderry&quot;</td><td>&quot;Hong Kong&quot;</td><td>&quot;bat&quot;</td><td>&quot;Hong Kong&quot;</td><td>1004729</td></tr><tr><td>&quot;Zimbabwe&quot;</td><td>&quot;India&quot;</td><td>&quot;male&quot;</td><td>&quot;2016&quot;</td><td>&quot;2016/06/18&quot;</td><td>&quot;Harare Sports Club&quot;</td><td>null</td><td>&quot;India&quot;</td><td>&quot;field&quot;</td><td>&quot;Zimbabwe&quot;</td><td>1007655</td></tr><tr><td>&hellip;</td><td>&hellip;</td><td>&hellip;</td><td>&hellip;</td><td>&hellip;</td><td>&hellip;</td><td>&hellip;</td><td>&hellip;</td><td>&hellip;</td><td>&hellip;</td><td>&hellip;</td></tr><tr><td>&quot;Pakistan&quot;</td><td>&quot;Sri Lanka&quot;</td><td>&quot;male&quot;</td><td>&quot;2015/16&quot;</td><td>&quot;2016/03/04&quot;</td><td>&quot;Shere Bangla National Stadium&quot;</td><td>&quot;Mirpur&quot;</td><td>&quot;Pakistan&quot;</td><td>&quot;field&quot;</td><td>&quot;Pakistan&quot;</td><td>966763</td></tr><tr><td>&quot;Bangladesh&quot;</td><td>&quot;India&quot;</td><td>&quot;male&quot;</td><td>&quot;2015/16&quot;</td><td>&quot;2016/03/06&quot;</td><td>&quot;Shere Bangla National Stadium&quot;</td><td>&quot;Mirpur&quot;</td><td>&quot;India&quot;</td><td>&quot;field&quot;</td><td>&quot;India&quot;</td><td>966765</td></tr><tr><td>&quot;United Arab Emirates&quot;</td><td>&quot;Netherlands&quot;</td><td>&quot;male&quot;</td><td>&quot;2015/16&quot;</td><td>&quot;2016/02/03&quot;</td><td>&quot;ICC Academy&quot;</td><td>&quot;Dubai&quot;</td><td>&quot;United Arab Emirates&quot;</td><td>&quot;field&quot;</td><td>&quot;Netherlands&quot;</td><td>967081</td></tr><tr><td>&quot;Sri Lanka&quot;</td><td>&quot;Australia&quot;</td><td>&quot;male&quot;</td><td>&quot;2016&quot;</td><td>&quot;2016/09/06&quot;</td><td>&quot;Pallekele International Cricke…</td><td>null</td><td>&quot;Sri Lanka&quot;</td><td>&quot;field&quot;</td><td>&quot;Australia&quot;</td><td>995467</td></tr><tr><td>&quot;Sri Lanka&quot;</td><td>&quot;Australia&quot;</td><td>&quot;male&quot;</td><td>&quot;2016&quot;</td><td>&quot;2016/09/09&quot;</td><td>&quot;R Premadasa Stadium&quot;</td><td>&quot;Colombo&quot;</td><td>&quot;Sri Lanka&quot;</td><td>&quot;bat&quot;</td><td>&quot;Australia&quot;</td><td>995469</td></tr></tbody></table></div>"
      ],
      "text/plain": [
       "shape: (3_463, 11)\n",
       "┌─────────────┬─────────────┬────────┬─────────┬───┬──────────────────────┬───────────────┬─────────────┬──────────┐\n",
       "│ team1       ┆ team2       ┆ gender ┆ season  ┆ … ┆ toss_winner          ┆ toss_decision ┆ winner      ┆ match_id │\n",
       "│ ---         ┆ ---         ┆ ---    ┆ ---     ┆   ┆ ---                  ┆ ---           ┆ ---         ┆ ---      │\n",
       "│ str         ┆ str         ┆ str    ┆ str     ┆   ┆ str                  ┆ str           ┆ str         ┆ i64      │\n",
       "╞═════════════╪═════════════╪════════╪═════════╪═══╪══════════════════════╪═══════════════╪═════════════╪══════════╡\n",
       "│ Australia   ┆ Sri Lanka   ┆ male   ┆ 2016/17 ┆ … ┆ Sri Lanka            ┆ field         ┆ Sri Lanka   ┆ 1001349  │\n",
       "│ Australia   ┆ Sri Lanka   ┆ male   ┆ 2016/17 ┆ … ┆ Sri Lanka            ┆ field         ┆ Sri Lanka   ┆ 1001351  │\n",
       "│ Australia   ┆ Sri Lanka   ┆ male   ┆ 2016/17 ┆ … ┆ Sri Lanka            ┆ field         ┆ Australia   ┆ 1001353  │\n",
       "│ Ireland     ┆ Hong Kong   ┆ male   ┆ 2016    ┆ … ┆ Hong Kong            ┆ bat           ┆ Hong Kong   ┆ 1004729  │\n",
       "│ Zimbabwe    ┆ India       ┆ male   ┆ 2016    ┆ … ┆ India                ┆ field         ┆ Zimbabwe    ┆ 1007655  │\n",
       "│ …           ┆ …           ┆ …      ┆ …       ┆ … ┆ …                    ┆ …             ┆ …           ┆ …        │\n",
       "│ Pakistan    ┆ Sri Lanka   ┆ male   ┆ 2015/16 ┆ … ┆ Pakistan             ┆ field         ┆ Pakistan    ┆ 966763   │\n",
       "│ Bangladesh  ┆ India       ┆ male   ┆ 2015/16 ┆ … ┆ India                ┆ field         ┆ India       ┆ 966765   │\n",
       "│ United Arab ┆ Netherlands ┆ male   ┆ 2015/16 ┆ … ┆ United Arab Emirates ┆ field         ┆ Netherlands ┆ 967081   │\n",
       "│ Emirates    ┆             ┆        ┆         ┆   ┆                      ┆               ┆             ┆          │\n",
       "│ Sri Lanka   ┆ Australia   ┆ male   ┆ 2016    ┆ … ┆ Sri Lanka            ┆ field         ┆ Australia   ┆ 995467   │\n",
       "│ Sri Lanka   ┆ Australia   ┆ male   ┆ 2016    ┆ … ┆ Sri Lanka            ┆ bat           ┆ Australia   ┆ 995469   │\n",
       "└─────────────┴─────────────┴────────┴─────────┴───┴──────────────────────┴───────────────┴─────────────┴──────────┘"
      ]
     },
     "execution_count": 13,
     "metadata": {},
     "output_type": "execute_result"
    }
   ],
   "source": [
    "matches = pl.read_parquet('..\\historical_data\\cricsheetSource\\matches.parquet')\n",
    "matches"
   ]
  },
  {
   "cell_type": "code",
   "execution_count": 14,
   "metadata": {},
   "outputs": [
    {
     "data": {
      "text/html": [
       "<div><style>\n",
       ".dataframe > thead > tr,\n",
       ".dataframe > tbody > tr {\n",
       "  text-align: right;\n",
       "  white-space: pre-wrap;\n",
       "}\n",
       "</style>\n",
       "<small>shape: (2_288, 2)</small><table border=\"1\" class=\"dataframe\"><thead><tr><th>winner</th><th>match_id</th></tr><tr><td>str</td><td>i64</td></tr></thead><tbody><tr><td>&quot;Sri Lanka&quot;</td><td>1001349</td></tr><tr><td>&quot;Sri Lanka&quot;</td><td>1001351</td></tr><tr><td>&quot;Australia&quot;</td><td>1001353</td></tr><tr><td>&quot;Hong Kong&quot;</td><td>1004729</td></tr><tr><td>&quot;Zimbabwe&quot;</td><td>1007655</td></tr><tr><td>&hellip;</td><td>&hellip;</td></tr><tr><td>&quot;Pakistan&quot;</td><td>966763</td></tr><tr><td>&quot;India&quot;</td><td>966765</td></tr><tr><td>&quot;Netherlands&quot;</td><td>967081</td></tr><tr><td>&quot;Australia&quot;</td><td>995467</td></tr><tr><td>&quot;Australia&quot;</td><td>995469</td></tr></tbody></table></div>"
      ],
      "text/plain": [
       "shape: (2_288, 2)\n",
       "┌─────────────┬──────────┐\n",
       "│ winner      ┆ match_id │\n",
       "│ ---         ┆ ---      │\n",
       "│ str         ┆ i64      │\n",
       "╞═════════════╪══════════╡\n",
       "│ Sri Lanka   ┆ 1001349  │\n",
       "│ Sri Lanka   ┆ 1001351  │\n",
       "│ Australia   ┆ 1001353  │\n",
       "│ Hong Kong   ┆ 1004729  │\n",
       "│ Zimbabwe    ┆ 1007655  │\n",
       "│ …           ┆ …        │\n",
       "│ Pakistan    ┆ 966763   │\n",
       "│ India       ┆ 966765   │\n",
       "│ Netherlands ┆ 967081   │\n",
       "│ Australia   ┆ 995467   │\n",
       "│ Australia   ┆ 995469   │\n",
       "└─────────────┴──────────┘"
      ]
     },
     "execution_count": 14,
     "metadata": {},
     "output_type": "execute_result"
    }
   ],
   "source": [
    "matches=matches.filter(matches['gender']=='male').drop(['team1','team2','gender','season','date','venue','city','toss_winner','toss_decision'])\n",
    "matches"
   ]
  },
  {
   "cell_type": "code",
   "execution_count": 15,
   "metadata": {},
   "outputs": [
    {
     "data": {
      "text/html": [
       "<div><style>\n",
       ".dataframe > thead > tr,\n",
       ".dataframe > tbody > tr {\n",
       "  text-align: right;\n",
       "  white-space: pre-wrap;\n",
       "}\n",
       "</style>\n",
       "<small>shape: (526_918, 17)</small><table border=\"1\" class=\"dataframe\"><thead><tr><th>match_id</th><th>innings</th><th>ball</th><th>batting_team</th><th>bowling_team</th><th>runs_off_bat</th><th>extras</th><th>wides</th><th>noballs</th><th>byes</th><th>legbyes</th><th>penalty</th><th>wicket_type</th><th>player_dismissed</th><th>other_wicket_type</th><th>other_player_dismissed</th><th>winner</th></tr><tr><td>i64</td><td>i64</td><td>f64</td><td>str</td><td>str</td><td>i64</td><td>i64</td><td>i64</td><td>str</td><td>i64</td><td>i64</td><td>str</td><td>str</td><td>str</td><td>str</td><td>str</td><td>str</td></tr></thead><tbody><tr><td>1001349</td><td>1</td><td>0.1</td><td>&quot;Australia&quot;</td><td>&quot;Sri Lanka&quot;</td><td>0</td><td>0</td><td>0</td><td>null</td><td>0</td><td>0</td><td>null</td><td>null</td><td>null</td><td>null</td><td>null</td><td>&quot;Sri Lanka&quot;</td></tr><tr><td>1001349</td><td>1</td><td>0.2</td><td>&quot;Australia&quot;</td><td>&quot;Sri Lanka&quot;</td><td>0</td><td>0</td><td>0</td><td>null</td><td>0</td><td>0</td><td>null</td><td>null</td><td>null</td><td>null</td><td>null</td><td>&quot;Sri Lanka&quot;</td></tr><tr><td>1001349</td><td>1</td><td>0.3</td><td>&quot;Australia&quot;</td><td>&quot;Sri Lanka&quot;</td><td>1</td><td>0</td><td>0</td><td>null</td><td>0</td><td>0</td><td>null</td><td>null</td><td>null</td><td>null</td><td>null</td><td>&quot;Sri Lanka&quot;</td></tr><tr><td>1001349</td><td>1</td><td>0.4</td><td>&quot;Australia&quot;</td><td>&quot;Sri Lanka&quot;</td><td>2</td><td>0</td><td>0</td><td>null</td><td>0</td><td>0</td><td>null</td><td>null</td><td>null</td><td>null</td><td>null</td><td>&quot;Sri Lanka&quot;</td></tr><tr><td>1001349</td><td>1</td><td>0.5</td><td>&quot;Australia&quot;</td><td>&quot;Sri Lanka&quot;</td><td>0</td><td>0</td><td>0</td><td>null</td><td>0</td><td>0</td><td>null</td><td>null</td><td>null</td><td>null</td><td>null</td><td>&quot;Sri Lanka&quot;</td></tr><tr><td>&hellip;</td><td>&hellip;</td><td>&hellip;</td><td>&hellip;</td><td>&hellip;</td><td>&hellip;</td><td>&hellip;</td><td>&hellip;</td><td>&hellip;</td><td>&hellip;</td><td>&hellip;</td><td>&hellip;</td><td>&hellip;</td><td>&hellip;</td><td>&hellip;</td><td>&hellip;</td><td>&hellip;</td></tr><tr><td>995469</td><td>2</td><td>17.1</td><td>&quot;Australia&quot;</td><td>&quot;Sri Lanka&quot;</td><td>1</td><td>0</td><td>0</td><td>null</td><td>0</td><td>0</td><td>null</td><td>null</td><td>null</td><td>null</td><td>null</td><td>&quot;Australia&quot;</td></tr><tr><td>995469</td><td>2</td><td>17.2</td><td>&quot;Australia&quot;</td><td>&quot;Sri Lanka&quot;</td><td>3</td><td>0</td><td>0</td><td>null</td><td>0</td><td>0</td><td>null</td><td>null</td><td>null</td><td>null</td><td>null</td><td>&quot;Australia&quot;</td></tr><tr><td>995469</td><td>2</td><td>17.3</td><td>&quot;Australia&quot;</td><td>&quot;Sri Lanka&quot;</td><td>0</td><td>0</td><td>0</td><td>null</td><td>0</td><td>0</td><td>null</td><td>null</td><td>null</td><td>null</td><td>null</td><td>&quot;Australia&quot;</td></tr><tr><td>995469</td><td>2</td><td>17.4</td><td>&quot;Australia&quot;</td><td>&quot;Sri Lanka&quot;</td><td>0</td><td>0</td><td>0</td><td>null</td><td>0</td><td>0</td><td>null</td><td>null</td><td>null</td><td>null</td><td>null</td><td>&quot;Australia&quot;</td></tr><tr><td>995469</td><td>2</td><td>17.5</td><td>&quot;Australia&quot;</td><td>&quot;Sri Lanka&quot;</td><td>6</td><td>0</td><td>0</td><td>null</td><td>0</td><td>0</td><td>null</td><td>null</td><td>null</td><td>null</td><td>null</td><td>&quot;Australia&quot;</td></tr></tbody></table></div>"
      ],
      "text/plain": [
       "shape: (526_918, 17)\n",
       "┌──────────┬─────────┬──────┬──────────────┬───┬──────────────────┬───────────────────┬────────────────────┬───────────┐\n",
       "│ match_id ┆ innings ┆ ball ┆ batting_team ┆ … ┆ player_dismissed ┆ other_wicket_type ┆ other_player_dismi ┆ winner    │\n",
       "│ ---      ┆ ---     ┆ ---  ┆ ---          ┆   ┆ ---              ┆ ---               ┆ ssed               ┆ ---       │\n",
       "│ i64      ┆ i64     ┆ f64  ┆ str          ┆   ┆ str              ┆ str               ┆ ---                ┆ str       │\n",
       "│          ┆         ┆      ┆              ┆   ┆                  ┆                   ┆ str                ┆           │\n",
       "╞══════════╪═════════╪══════╪══════════════╪═══╪══════════════════╪═══════════════════╪════════════════════╪═══════════╡\n",
       "│ 1001349  ┆ 1       ┆ 0.1  ┆ Australia    ┆ … ┆ null             ┆ null              ┆ null               ┆ Sri Lanka │\n",
       "│ 1001349  ┆ 1       ┆ 0.2  ┆ Australia    ┆ … ┆ null             ┆ null              ┆ null               ┆ Sri Lanka │\n",
       "│ 1001349  ┆ 1       ┆ 0.3  ┆ Australia    ┆ … ┆ null             ┆ null              ┆ null               ┆ Sri Lanka │\n",
       "│ 1001349  ┆ 1       ┆ 0.4  ┆ Australia    ┆ … ┆ null             ┆ null              ┆ null               ┆ Sri Lanka │\n",
       "│ 1001349  ┆ 1       ┆ 0.5  ┆ Australia    ┆ … ┆ null             ┆ null              ┆ null               ┆ Sri Lanka │\n",
       "│ …        ┆ …       ┆ …    ┆ …            ┆ … ┆ …                ┆ …                 ┆ …                  ┆ …         │\n",
       "│ 995469   ┆ 2       ┆ 17.1 ┆ Australia    ┆ … ┆ null             ┆ null              ┆ null               ┆ Australia │\n",
       "│ 995469   ┆ 2       ┆ 17.2 ┆ Australia    ┆ … ┆ null             ┆ null              ┆ null               ┆ Australia │\n",
       "│ 995469   ┆ 2       ┆ 17.3 ┆ Australia    ┆ … ┆ null             ┆ null              ┆ null               ┆ Australia │\n",
       "│ 995469   ┆ 2       ┆ 17.4 ┆ Australia    ┆ … ┆ null             ┆ null              ┆ null               ┆ Australia │\n",
       "│ 995469   ┆ 2       ┆ 17.5 ┆ Australia    ┆ … ┆ null             ┆ null              ┆ null               ┆ Australia │\n",
       "└──────────┴─────────┴──────┴──────────────┴───┴──────────────────┴───────────────────┴────────────────────┴───────────┘"
      ]
     },
     "execution_count": 15,
     "metadata": {},
     "output_type": "execute_result"
    }
   ],
   "source": [
    "data=deliveries.join(matches,on='match_id')\n",
    "data"
   ]
  },
  {
   "cell_type": "code",
   "execution_count": 16,
   "metadata": {},
   "outputs": [],
   "source": [
    "innings1= data.filter(data['innings']==1)\n",
    "innings2= data.filter(data['innings']==2)"
   ]
  },
  {
   "cell_type": "code",
   "execution_count": 17,
   "metadata": {},
   "outputs": [
    {
     "data": {
      "text/plain": [
       "(279413, 247505, 526918)"
      ]
     },
     "execution_count": 17,
     "metadata": {},
     "output_type": "execute_result"
    }
   ],
   "source": [
    "a=len(innings1)\n",
    "b=len(innings2)\n",
    "a,b,a+b"
   ]
  },
  {
   "cell_type": "code",
   "execution_count": 18,
   "metadata": {},
   "outputs": [
    {
     "data": {
      "text/html": [
       "<div><style>\n",
       ".dataframe > thead > tr,\n",
       ".dataframe > tbody > tr {\n",
       "  text-align: right;\n",
       "  white-space: pre-wrap;\n",
       "}\n",
       "</style>\n",
       "<small>shape: (287_668, 34)</small><table border=\"1\" class=\"dataframe\"><thead><tr><th>match_id</th><th>innings</th><th>ball</th><th>batting_team</th><th>bowling_team</th><th>runs_off_bat</th><th>extras</th><th>wides</th><th>noballs</th><th>byes</th><th>legbyes</th><th>penalty</th><th>wicket_type</th><th>player_dismissed</th><th>other_wicket_type</th><th>other_player_dismissed</th><th>winner</th><th>match_id_right</th><th>innings_right</th><th>ball_right</th><th>batting_team_right</th><th>bowling_team_right</th><th>runs_off_bat_right</th><th>extras_right</th><th>wides_right</th><th>noballs_right</th><th>byes_right</th><th>legbyes_right</th><th>penalty_right</th><th>wicket_type_right</th><th>player_dismissed_right</th><th>other_wicket_type_right</th><th>other_player_dismissed_right</th><th>winner_right</th></tr><tr><td>i64</td><td>i64</td><td>f64</td><td>str</td><td>str</td><td>i64</td><td>i64</td><td>i64</td><td>str</td><td>i64</td><td>i64</td><td>str</td><td>str</td><td>str</td><td>str</td><td>str</td><td>str</td><td>i64</td><td>i64</td><td>f64</td><td>str</td><td>str</td><td>i64</td><td>i64</td><td>i64</td><td>str</td><td>i64</td><td>i64</td><td>str</td><td>str</td><td>str</td><td>str</td><td>str</td><td>str</td></tr></thead><tbody><tr><td>1001349</td><td>2</td><td>0.1</td><td>&quot;Sri Lanka&quot;</td><td>&quot;Australia&quot;</td><td>1</td><td>0</td><td>0</td><td>null</td><td>0</td><td>0</td><td>null</td><td>null</td><td>null</td><td>null</td><td>null</td><td>&quot;Sri Lanka&quot;</td><td>1001349</td><td>1</td><td>0.1</td><td>&quot;Australia&quot;</td><td>&quot;Sri Lanka&quot;</td><td>0</td><td>0</td><td>0</td><td>null</td><td>0</td><td>0</td><td>null</td><td>null</td><td>null</td><td>null</td><td>null</td><td>&quot;Sri Lanka&quot;</td></tr><tr><td>1001349</td><td>2</td><td>0.2</td><td>&quot;Sri Lanka&quot;</td><td>&quot;Australia&quot;</td><td>0</td><td>1</td><td>0</td><td>null</td><td>0</td><td>1</td><td>null</td><td>null</td><td>null</td><td>null</td><td>null</td><td>&quot;Sri Lanka&quot;</td><td>1001349</td><td>1</td><td>0.2</td><td>&quot;Australia&quot;</td><td>&quot;Sri Lanka&quot;</td><td>0</td><td>0</td><td>0</td><td>null</td><td>0</td><td>0</td><td>null</td><td>null</td><td>null</td><td>null</td><td>null</td><td>&quot;Sri Lanka&quot;</td></tr><tr><td>1001349</td><td>2</td><td>0.3</td><td>&quot;Sri Lanka&quot;</td><td>&quot;Australia&quot;</td><td>0</td><td>0</td><td>0</td><td>null</td><td>0</td><td>0</td><td>null</td><td>null</td><td>null</td><td>null</td><td>null</td><td>&quot;Sri Lanka&quot;</td><td>1001349</td><td>1</td><td>0.3</td><td>&quot;Australia&quot;</td><td>&quot;Sri Lanka&quot;</td><td>1</td><td>0</td><td>0</td><td>null</td><td>0</td><td>0</td><td>null</td><td>null</td><td>null</td><td>null</td><td>null</td><td>&quot;Sri Lanka&quot;</td></tr><tr><td>1001349</td><td>2</td><td>0.4</td><td>&quot;Sri Lanka&quot;</td><td>&quot;Australia&quot;</td><td>0</td><td>0</td><td>0</td><td>null</td><td>0</td><td>0</td><td>null</td><td>null</td><td>null</td><td>null</td><td>null</td><td>&quot;Sri Lanka&quot;</td><td>1001349</td><td>1</td><td>0.4</td><td>&quot;Australia&quot;</td><td>&quot;Sri Lanka&quot;</td><td>2</td><td>0</td><td>0</td><td>null</td><td>0</td><td>0</td><td>null</td><td>null</td><td>null</td><td>null</td><td>null</td><td>&quot;Sri Lanka&quot;</td></tr><tr><td>1001349</td><td>2</td><td>0.5</td><td>&quot;Sri Lanka&quot;</td><td>&quot;Australia&quot;</td><td>3</td><td>0</td><td>0</td><td>null</td><td>0</td><td>0</td><td>null</td><td>null</td><td>null</td><td>null</td><td>null</td><td>&quot;Sri Lanka&quot;</td><td>1001349</td><td>1</td><td>0.5</td><td>&quot;Australia&quot;</td><td>&quot;Sri Lanka&quot;</td><td>0</td><td>0</td><td>0</td><td>null</td><td>0</td><td>0</td><td>null</td><td>null</td><td>null</td><td>null</td><td>null</td><td>&quot;Sri Lanka&quot;</td></tr><tr><td>&hellip;</td><td>&hellip;</td><td>&hellip;</td><td>&hellip;</td><td>&hellip;</td><td>&hellip;</td><td>&hellip;</td><td>&hellip;</td><td>&hellip;</td><td>&hellip;</td><td>&hellip;</td><td>&hellip;</td><td>&hellip;</td><td>&hellip;</td><td>&hellip;</td><td>&hellip;</td><td>&hellip;</td><td>&hellip;</td><td>&hellip;</td><td>&hellip;</td><td>&hellip;</td><td>&hellip;</td><td>&hellip;</td><td>&hellip;</td><td>&hellip;</td><td>&hellip;</td><td>&hellip;</td><td>&hellip;</td><td>&hellip;</td><td>&hellip;</td><td>&hellip;</td><td>&hellip;</td><td>&hellip;</td><td>&hellip;</td></tr><tr><td>1339206</td><td>2</td><td>4.7</td><td>&quot;Germany&quot;</td><td>&quot;Italy&quot;</td><td>4</td><td>0</td><td>0</td><td>null</td><td>0</td><td>0</td><td>null</td><td>null</td><td>null</td><td>null</td><td>null</td><td>&quot;Germany&quot;</td><td>null</td><td>null</td><td>null</td><td>null</td><td>null</td><td>null</td><td>null</td><td>null</td><td>null</td><td>null</td><td>null</td><td>null</td><td>null</td><td>null</td><td>null</td><td>null</td><td>null</td></tr><tr><td>1192876</td><td>2</td><td>8.7</td><td>&quot;New Zealand&quot;</td><td>&quot;Sri Lanka&quot;</td><td>0</td><td>1</td><td>0</td><td>null</td><td>0</td><td>1</td><td>null</td><td>null</td><td>null</td><td>null</td><td>null</td><td>&quot;New Zealand&quot;</td><td>null</td><td>null</td><td>null</td><td>null</td><td>null</td><td>null</td><td>null</td><td>null</td><td>null</td><td>null</td><td>null</td><td>null</td><td>null</td><td>null</td><td>null</td><td>null</td><td>null</td></tr><tr><td>1289050</td><td>2</td><td>4.7</td><td>&quot;Uganda&quot;</td><td>&quot;Tanzania&quot;</td><td>0</td><td>0</td><td>0</td><td>null</td><td>0</td><td>0</td><td>null</td><td>null</td><td>null</td><td>null</td><td>null</td><td>&quot;Uganda&quot;</td><td>null</td><td>null</td><td>null</td><td>null</td><td>null</td><td>null</td><td>null</td><td>null</td><td>null</td><td>null</td><td>null</td><td>null</td><td>null</td><td>null</td><td>null</td><td>null</td><td>null</td></tr><tr><td>1190768</td><td>2</td><td>6.7</td><td>&quot;Kuwait&quot;</td><td>&quot;Malaysia&quot;</td><td>0</td><td>0</td><td>0</td><td>null</td><td>0</td><td>0</td><td>null</td><td>null</td><td>null</td><td>null</td><td>null</td><td>&quot;Malaysia&quot;</td><td>null</td><td>null</td><td>null</td><td>null</td><td>null</td><td>null</td><td>null</td><td>null</td><td>null</td><td>null</td><td>null</td><td>null</td><td>null</td><td>null</td><td>null</td><td>null</td><td>null</td></tr><tr><td>1310174</td><td>2</td><td>3.7</td><td>&quot;Gibraltar&quot;</td><td>&quot;Czech Republic&quot;</td><td>0</td><td>0</td><td>0</td><td>null</td><td>0</td><td>0</td><td>null</td><td>null</td><td>null</td><td>null</td><td>null</td><td>&quot;Czech Republic&quot;</td><td>null</td><td>null</td><td>null</td><td>null</td><td>null</td><td>null</td><td>null</td><td>null</td><td>null</td><td>null</td><td>null</td><td>null</td><td>null</td><td>null</td><td>null</td><td>null</td><td>null</td></tr></tbody></table></div>"
      ],
      "text/plain": [
       "shape: (287_668, 34)\n",
       "┌──────────┬─────────┬──────┬──────────────┬───┬──────────────────┬──────────────────┬──────────────────┬──────────────┐\n",
       "│ match_id ┆ innings ┆ ball ┆ batting_team ┆ … ┆ player_dismissed ┆ other_wicket_typ ┆ other_player_dis ┆ winner_right │\n",
       "│ ---      ┆ ---     ┆ ---  ┆ ---          ┆   ┆ _right           ┆ e_right          ┆ missed_right     ┆ ---          │\n",
       "│ i64      ┆ i64     ┆ f64  ┆ str          ┆   ┆ ---              ┆ ---              ┆ ---              ┆ str          │\n",
       "│          ┆         ┆      ┆              ┆   ┆ str              ┆ str              ┆ str              ┆              │\n",
       "╞══════════╪═════════╪══════╪══════════════╪═══╪══════════════════╪══════════════════╪══════════════════╪══════════════╡\n",
       "│ 1001349  ┆ 2       ┆ 0.1  ┆ Sri Lanka    ┆ … ┆ null             ┆ null             ┆ null             ┆ Sri Lanka    │\n",
       "│ 1001349  ┆ 2       ┆ 0.2  ┆ Sri Lanka    ┆ … ┆ null             ┆ null             ┆ null             ┆ Sri Lanka    │\n",
       "│ 1001349  ┆ 2       ┆ 0.3  ┆ Sri Lanka    ┆ … ┆ null             ┆ null             ┆ null             ┆ Sri Lanka    │\n",
       "│ 1001349  ┆ 2       ┆ 0.4  ┆ Sri Lanka    ┆ … ┆ null             ┆ null             ┆ null             ┆ Sri Lanka    │\n",
       "│ 1001349  ┆ 2       ┆ 0.5  ┆ Sri Lanka    ┆ … ┆ null             ┆ null             ┆ null             ┆ Sri Lanka    │\n",
       "│ …        ┆ …       ┆ …    ┆ …            ┆ … ┆ …                ┆ …                ┆ …                ┆ …            │\n",
       "│ 1339206  ┆ 2       ┆ 4.7  ┆ Germany      ┆ … ┆ null             ┆ null             ┆ null             ┆ null         │\n",
       "│ 1192876  ┆ 2       ┆ 8.7  ┆ New Zealand  ┆ … ┆ null             ┆ null             ┆ null             ┆ null         │\n",
       "│ 1289050  ┆ 2       ┆ 4.7  ┆ Uganda       ┆ … ┆ null             ┆ null             ┆ null             ┆ null         │\n",
       "│ 1190768  ┆ 2       ┆ 6.7  ┆ Kuwait       ┆ … ┆ null             ┆ null             ┆ null             ┆ null         │\n",
       "│ 1310174  ┆ 2       ┆ 3.7  ┆ Gibraltar    ┆ … ┆ null             ┆ null             ┆ null             ┆ null         │\n",
       "└──────────┴─────────┴──────┴──────────────┴───┴──────────────────┴──────────────────┴──────────────────┴──────────────┘"
      ]
     },
     "execution_count": 18,
     "metadata": {},
     "output_type": "execute_result"
    }
   ],
   "source": [
    "comparision_data=innings2.join(innings1,on=['match_id','ball'],how='full')\n",
    "comparision_data"
   ]
  },
  {
   "cell_type": "code",
   "execution_count": null,
   "metadata": {},
   "outputs": [],
   "source": []
  }
 ],
 "metadata": {
  "kernelspec": {
   "display_name": "Python 3 (ipykernel)",
   "language": "python",
   "name": "python3"
  },
  "language_info": {
   "codemirror_mode": {
    "name": "ipython",
    "version": 3
   },
   "file_extension": ".py",
   "mimetype": "text/x-python",
   "name": "python",
   "nbconvert_exporter": "python",
   "pygments_lexer": "ipython3",
   "version": "3.8.19"
  }
 },
 "nbformat": 4,
 "nbformat_minor": 4
}
