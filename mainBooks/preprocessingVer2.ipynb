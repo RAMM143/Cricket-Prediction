{
 "cells": [
  {
   "cell_type": "code",
   "execution_count": 1,
   "metadata": {},
   "outputs": [],
   "source": [
    "import pandas as pd\n"
   ]
  },
  {
   "cell_type": "code",
   "execution_count": 38,
   "metadata": {},
   "outputs": [],
   "source": [
    "deliveries = pd.read_parquet(r'C:\\Users\\amadh\\OneDrive\\Desktop\\Project Series\\Cricket-Prediction\\historical_data\\cricsheetSource\\deliveries.parquet')\n",
    "match_players = pd.read_parquet(r'C:\\Users\\amadh\\OneDrive\\Desktop\\Project Series\\Cricket-Prediction\\historical_data\\cricsheetSource\\match_players.parquet')\n",
    "matches = pd.read_parquet(r'C:\\Users\\amadh\\OneDrive\\Desktop\\Project Series\\Cricket-Prediction\\historical_data\\cricsheetSource\\matches.parquet')"
   ]
  },
  {
   "cell_type": "code",
   "execution_count": 39,
   "metadata": {},
   "outputs": [
    {
     "name": "stdout",
     "output_type": "stream",
     "text": [
      "Index(['match_id', 'season', 'start_date', 'venue', 'innings', 'ball',\n",
      "       'batting_team', 'bowling_team', 'striker', 'non_striker', 'bowler',\n",
      "       'runs_off_bat', 'extras', 'wides', 'noballs', 'byes', 'legbyes',\n",
      "       'penalty', 'wicket_type', 'player_dismissed', 'other_wicket_type',\n",
      "       'other_player_dismissed'],\n",
      "      dtype='object')\n"
     ]
    }
   ],
   "source": [
    "#print(deliveries.head())\n",
    "print(deliveries.columns)"
   ]
  },
  {
   "cell_type": "code",
   "execution_count": 40,
   "metadata": {},
   "outputs": [
    {
     "name": "stdout",
     "output_type": "stream",
     "text": [
      "Index(['team1_player1', 'team1_player2', 'team1_player3', 'team1_player4',\n",
      "       'team1_player5', 'team1_player6', 'team1_player7', 'team1_player8',\n",
      "       'team1_player9', 'team1_player10', 'team1_player11', 'team2_players1',\n",
      "       'team2_players2', 'team2_players3', 'team2_players4', 'team2_players5',\n",
      "       'team2_players6', 'team2_players7', 'team2_players8', 'team2_players9',\n",
      "       'team2_players10', 'team2_players11', 'match_id'],\n",
      "      dtype='object')\n"
     ]
    }
   ],
   "source": [
    "print(match_players.columns)"
   ]
  },
  {
   "cell_type": "code",
   "execution_count": 41,
   "metadata": {},
   "outputs": [
    {
     "name": "stdout",
     "output_type": "stream",
     "text": [
      "Index(['team1', 'team2', 'gender', 'season', 'date', 'venue', 'city',\n",
      "       'toss_winner', 'toss_decision', 'winner', 'match_id'],\n",
      "      dtype='object')\n"
     ]
    }
   ],
   "source": [
    "print(matches.columns)"
   ]
  },
  {
   "cell_type": "code",
   "execution_count": 49,
   "metadata": {},
   "outputs": [],
   "source": [
    "# Merge deliveries with matches\n",
    "merged_data = pd.merge(deliveries, matches, on='match_id', suffixes=('_delivery', '_match'))\n"
   ]
  },
  {
   "cell_type": "code",
   "execution_count": 50,
   "metadata": {},
   "outputs": [],
   "source": [
    "# Calculate cumulative runs\n",
    "merged_data['cumulative_runs'] = merged_data.groupby(['match_id', 'innings'])['runs_off_bat'].cumsum() + merged_data.groupby(['match_id', 'innings'])['extras'].cumsum()\n"
   ]
  },
  {
   "cell_type": "code",
   "execution_count": 51,
   "metadata": {},
   "outputs": [],
   "source": [
    "# Ensure player_dismissed is a boolean indicating whether a player was dismissed\n",
    "merged_data['is_wicket'] = merged_data['player_dismissed'].notnull().astype(int)\n"
   ]
  },
  {
   "cell_type": "code",
   "execution_count": 52,
   "metadata": {},
   "outputs": [],
   "source": [
    "# Calculate cumulative wickets\n",
    "merged_data['cumulative_wickets'] = merged_data.groupby(['match_id', 'innings'])['is_wicket'].transform('cumsum')\n"
   ]
  },
  {
   "cell_type": "code",
   "execution_count": 53,
   "metadata": {},
   "outputs": [],
   "source": [
    "# Calculate current run rate\n",
    "merged_data['current_run_rate'] = merged_data['cumulative_runs'] / (merged_data['ball'] / 6 + (merged_data['ball'] % 6) / 6)\n"
   ]
  },
  {
   "cell_type": "code",
   "execution_count": 54,
   "metadata": {},
   "outputs": [],
   "source": [
    "# Calculate target runs from the first innings\n",
    "first_innings_runs = merged_data[merged_data['innings'] == 1].groupby('match_id')['cumulative_runs'].max().reset_index()\n",
    "first_innings_runs.columns = ['match_id', 'target_runs']\n",
    "merged_data = pd.merge(merged_data, first_innings_runs, on='match_id', how='left')\n"
   ]
  },
  {
   "cell_type": "code",
   "execution_count": 55,
   "metadata": {},
   "outputs": [],
   "source": [
    "# Calculate required run rate\n",
    "merged_data['required_run_rate'] = (merged_data['target_runs'] - merged_data['cumulative_runs']) / (20 - (merged_data['ball'] / 6 + (merged_data['ball'] % 6) / 6))\n"
   ]
  },
  {
   "cell_type": "code",
   "execution_count": 56,
   "metadata": {},
   "outputs": [],
   "source": [
    "# Calculate player statistics\n",
    "# Batting statistics\n",
    "player_runs = deliveries.groupby('striker')['runs_off_bat'].sum().reset_index()\n",
    "player_runs.columns = ['player_id', 'total_runs']\n",
    "player_balls_faced = deliveries[deliveries['wides'] == 0].groupby('striker').size().reset_index(name='balls_faced')\n",
    "player_stats = pd.merge(player_runs, player_balls_faced, left_on='player_id', right_on='striker')\n",
    "player_stats['strike_rate'] = player_stats['total_runs'] / player_stats['balls_faced'] * 100\n"
   ]
  },
  {
   "cell_type": "code",
   "execution_count": 57,
   "metadata": {},
   "outputs": [],
   "source": [
    "bowler_runs_conceded = deliveries.groupby('bowler')['runs_off_bat'].sum().reset_index()\n",
    "bowler_runs_conceded.columns = ['player_id', 'runs_conceded']\n",
    "balls_bowled = deliveries[(deliveries['wides'] == 0) & (deliveries['noballs'] == 0)].groupby('bowler').size().reset_index(name='balls_bowled')\n",
    "bowler_stats = pd.merge(bowler_runs_conceded, balls_bowled, left_on='player_id', right_on='bowler')\n",
    "bowler_stats['economy_rate'] = bowler_stats['runs_conceded'] / (bowler_stats['balls_bowled'] / 6)\n"
   ]
  },
  {
   "cell_type": "code",
   "execution_count": 58,
   "metadata": {},
   "outputs": [],
   "source": [
    "# Combine batting and bowling statistics\n",
    "player_stats = pd.merge(player_stats, bowler_stats, on='player_id', how='outer', suffixes=('_batting', '_bowling'))\n"
   ]
  },
  {
   "cell_type": "code",
   "execution_count": 59,
   "metadata": {},
   "outputs": [],
   "source": [
    "# Rename columns to avoid conflicts during merge\n",
    "player_stats_renamed = player_stats.rename(columns={\n",
    "    'total_runs': 'total_runs_batting',\n",
    "    'balls_faced': 'balls_faced_batting',\n",
    "    'strike_rate': 'strike_rate_batting',\n",
    "    'runs_conceded': 'runs_conceded_bowling',\n",
    "    'balls_bowled': 'balls_bowled_bowling',\n",
    "    'economy_rate': 'economy_rate_bowling'\n",
    "})"
   ]
  },
  {
   "cell_type": "code",
   "execution_count": 60,
   "metadata": {},
   "outputs": [],
   "source": [
    "for col in match_players.columns:\n",
    "    if col != 'match_id':\n",
    "        merged_data = pd.merge(merged_data, match_players[['match_id', col]], on='match_id', how='left')\n",
    "        merged_data = pd.merge(\n",
    "            merged_data, \n",
    "            player_stats_renamed, \n",
    "            left_on=col, \n",
    "            right_on='player_id', \n",
    "            how='left', \n",
    "            suffixes=('', f'_{col}')\n",
    "        )\n",
    "        merged_data = merged_data.drop(columns=['player_id'])\n"
   ]
  },
  {
   "cell_type": "code",
   "execution_count": 61,
   "metadata": {},
   "outputs": [],
   "source": [
    "# Add match outcome as the target variable\n",
    "matches['result'] = matches.apply(lambda x: 1 if x['winner'] == x['team1'] else 0, axis=1)\n",
    "merged_data = pd.merge(merged_data, matches[['match_id', 'result']], on='match_id')\n"
   ]
  },
  {
   "cell_type": "code",
   "execution_count": 62,
   "metadata": {},
   "outputs": [],
   "source": [
    "# Select relevant features and create the final dataset\n",
    "features = ['cumulative_runs', 'cumulative_wickets', 'current_run_rate', 'required_run_rate', 'total_runs_batting', 'strike_rate_batting', 'runs_conceded_bowling', 'economy_rate_bowling']\n",
    "target = 'result'"
   ]
  },
  {
   "cell_type": "code",
   "execution_count": 63,
   "metadata": {},
   "outputs": [],
   "source": [
    "final_dataset = merged_data[features + [target]]"
   ]
  },
  {
   "cell_type": "code",
   "execution_count": 65,
   "metadata": {},
   "outputs": [],
   "source": [
    "# Save the final dataset\n",
    "final_dataset.to_csv('final_dataset_with_player_stats.csv', index=False)"
   ]
  },
  {
   "cell_type": "code",
   "execution_count": 66,
   "metadata": {},
   "outputs": [],
   "source": [
    "# Save the final dataset as a Parquet file\n",
    "final_dataset.to_parquet('Parquet_final_dataset_with_player_stats.parquet', index=False)\n"
   ]
  },
  {
   "cell_type": "code",
   "execution_count": null,
   "metadata": {},
   "outputs": [],
   "source": []
  }
 ],
 "metadata": {
  "kernelspec": {
   "display_name": "Python 3",
   "language": "python",
   "name": "python3"
  },
  "language_info": {
   "codemirror_mode": {
    "name": "ipython",
    "version": 3
   },
   "file_extension": ".py",
   "mimetype": "text/x-python",
   "name": "python",
   "nbconvert_exporter": "python",
   "pygments_lexer": "ipython3",
   "version": "3.11.9"
  }
 },
 "nbformat": 4,
 "nbformat_minor": 2
}
