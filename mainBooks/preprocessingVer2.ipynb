{
 "cells": [
  {
   "cell_type": "code",
   "execution_count": 1,
   "metadata": {},
   "outputs": [],
   "source": [
    "import pandas as pd\n"
   ]
  },
  {
   "cell_type": "code",
   "execution_count": 38,
   "metadata": {},
   "outputs": [],
   "source": [
    "deliveries = pd.read_parquet(r'C:\\Users\\amadh\\OneDrive\\Desktop\\Project Series\\Cricket-Prediction\\historical_data\\cricsheetSource\\deliveries.parquet')\n",
    "match_players = pd.read_parquet(r'C:\\Users\\amadh\\OneDrive\\Desktop\\Project Series\\Cricket-Prediction\\historical_data\\cricsheetSource\\match_players.parquet')\n",
    "matches = pd.read_parquet(r'C:\\Users\\amadh\\OneDrive\\Desktop\\Project Series\\Cricket-Prediction\\historical_data\\cricsheetSource\\matches.parquet')"
   ]
  },
  {
   "cell_type": "code",
   "execution_count": 76,
   "metadata": {},
   "outputs": [
    {
     "name": "stdout",
     "output_type": "stream",
     "text": [
      "<class 'pandas.core.frame.DataFrame'>\n",
      "RangeIndex: 3463 entries, 0 to 3462\n",
      "Data columns (total 23 columns):\n",
      " #   Column           Non-Null Count  Dtype \n",
      "---  ------           --------------  ----- \n",
      " 0   team1_player1    3463 non-null   object\n",
      " 1   team1_player2    3463 non-null   object\n",
      " 2   team1_player3    3463 non-null   object\n",
      " 3   team1_player4    3463 non-null   object\n",
      " 4   team1_player5    3463 non-null   object\n",
      " 5   team1_player6    3463 non-null   object\n",
      " 6   team1_player7    3463 non-null   object\n",
      " 7   team1_player8    3463 non-null   object\n",
      " 8   team1_player9    3463 non-null   object\n",
      " 9   team1_player10   3463 non-null   object\n",
      " 10  team1_player11   3463 non-null   object\n",
      " 11  team2_players1   3463 non-null   object\n",
      " 12  team2_players2   3463 non-null   object\n",
      " 13  team2_players3   3463 non-null   object\n",
      " 14  team2_players4   3463 non-null   object\n",
      " 15  team2_players5   3463 non-null   object\n",
      " 16  team2_players6   3463 non-null   object\n",
      " 17  team2_players7   3463 non-null   object\n",
      " 18  team2_players8   3463 non-null   object\n",
      " 19  team2_players9   3463 non-null   object\n",
      " 20  team2_players10  3463 non-null   object\n",
      " 21  team2_players11  3463 non-null   object\n",
      " 22  match_id         3463 non-null   int64 \n",
      "dtypes: int64(1), object(22)\n",
      "memory usage: 622.4+ KB\n"
     ]
    }
   ],
   "source": [
    "match_players.info()"
   ]
  },
  {
   "cell_type": "code",
   "execution_count": 79,
   "metadata": {},
   "outputs": [
    {
     "data": {
      "text/html": [
       "<div>\n",
       "<style scoped>\n",
       "    .dataframe tbody tr th:only-of-type {\n",
       "        vertical-align: middle;\n",
       "    }\n",
       "\n",
       "    .dataframe tbody tr th {\n",
       "        vertical-align: top;\n",
       "    }\n",
       "\n",
       "    .dataframe thead th {\n",
       "        text-align: right;\n",
       "    }\n",
       "</style>\n",
       "<table border=\"1\" class=\"dataframe\">\n",
       "  <thead>\n",
       "    <tr style=\"text-align: right;\">\n",
       "      <th></th>\n",
       "      <th>team1</th>\n",
       "      <th>team2</th>\n",
       "      <th>gender</th>\n",
       "      <th>season</th>\n",
       "      <th>date</th>\n",
       "      <th>venue</th>\n",
       "      <th>city</th>\n",
       "      <th>toss_winner</th>\n",
       "      <th>toss_decision</th>\n",
       "      <th>winner</th>\n",
       "      <th>match_id</th>\n",
       "      <th>result</th>\n",
       "    </tr>\n",
       "  </thead>\n",
       "  <tbody>\n",
       "    <tr>\n",
       "      <th>0</th>\n",
       "      <td>Australia</td>\n",
       "      <td>Sri Lanka</td>\n",
       "      <td>male</td>\n",
       "      <td>2016/17</td>\n",
       "      <td>2017/02/17</td>\n",
       "      <td>Melbourne Cricket Ground</td>\n",
       "      <td>None</td>\n",
       "      <td>Sri Lanka</td>\n",
       "      <td>field</td>\n",
       "      <td>Sri Lanka</td>\n",
       "      <td>1001349</td>\n",
       "      <td>0</td>\n",
       "    </tr>\n",
       "    <tr>\n",
       "      <th>1</th>\n",
       "      <td>Australia</td>\n",
       "      <td>Sri Lanka</td>\n",
       "      <td>male</td>\n",
       "      <td>2016/17</td>\n",
       "      <td>2017/02/19</td>\n",
       "      <td>Simonds Stadium, South Geelong</td>\n",
       "      <td>Victoria</td>\n",
       "      <td>Sri Lanka</td>\n",
       "      <td>field</td>\n",
       "      <td>Sri Lanka</td>\n",
       "      <td>1001351</td>\n",
       "      <td>0</td>\n",
       "    </tr>\n",
       "    <tr>\n",
       "      <th>2</th>\n",
       "      <td>Australia</td>\n",
       "      <td>Sri Lanka</td>\n",
       "      <td>male</td>\n",
       "      <td>2016/17</td>\n",
       "      <td>2017/02/22</td>\n",
       "      <td>Adelaide Oval</td>\n",
       "      <td>None</td>\n",
       "      <td>Sri Lanka</td>\n",
       "      <td>field</td>\n",
       "      <td>Australia</td>\n",
       "      <td>1001353</td>\n",
       "      <td>1</td>\n",
       "    </tr>\n",
       "    <tr>\n",
       "      <th>3</th>\n",
       "      <td>Ireland</td>\n",
       "      <td>Hong Kong</td>\n",
       "      <td>male</td>\n",
       "      <td>2016</td>\n",
       "      <td>2016/09/05</td>\n",
       "      <td>Bready Cricket Club, Magheramason</td>\n",
       "      <td>Londonderry</td>\n",
       "      <td>Hong Kong</td>\n",
       "      <td>bat</td>\n",
       "      <td>Hong Kong</td>\n",
       "      <td>1004729</td>\n",
       "      <td>0</td>\n",
       "    </tr>\n",
       "    <tr>\n",
       "      <th>4</th>\n",
       "      <td>Zimbabwe</td>\n",
       "      <td>India</td>\n",
       "      <td>male</td>\n",
       "      <td>2016</td>\n",
       "      <td>2016/06/18</td>\n",
       "      <td>Harare Sports Club</td>\n",
       "      <td>None</td>\n",
       "      <td>India</td>\n",
       "      <td>field</td>\n",
       "      <td>Zimbabwe</td>\n",
       "      <td>1007655</td>\n",
       "      <td>1</td>\n",
       "    </tr>\n",
       "  </tbody>\n",
       "</table>\n",
       "</div>"
      ],
      "text/plain": [
       "       team1      team2 gender   season        date  \\\n",
       "0  Australia  Sri Lanka   male  2016/17  2017/02/17   \n",
       "1  Australia  Sri Lanka   male  2016/17  2017/02/19   \n",
       "2  Australia  Sri Lanka   male  2016/17  2017/02/22   \n",
       "3    Ireland  Hong Kong   male     2016  2016/09/05   \n",
       "4   Zimbabwe      India   male     2016  2016/06/18   \n",
       "\n",
       "                               venue         city toss_winner toss_decision  \\\n",
       "0           Melbourne Cricket Ground         None   Sri Lanka         field   \n",
       "1     Simonds Stadium, South Geelong     Victoria   Sri Lanka         field   \n",
       "2                      Adelaide Oval         None   Sri Lanka         field   \n",
       "3  Bready Cricket Club, Magheramason  Londonderry   Hong Kong           bat   \n",
       "4                 Harare Sports Club         None       India         field   \n",
       "\n",
       "      winner  match_id  result  \n",
       "0  Sri Lanka   1001349       0  \n",
       "1  Sri Lanka   1001351       0  \n",
       "2  Australia   1001353       1  \n",
       "3  Hong Kong   1004729       0  \n",
       "4   Zimbabwe   1007655       1  "
      ]
     },
     "execution_count": 79,
     "metadata": {},
     "output_type": "execute_result"
    }
   ],
   "source": [
    "matches.head()"
   ]
  },
  {
   "cell_type": "code",
   "execution_count": 78,
   "metadata": {},
   "outputs": [
    {
     "name": "stdout",
     "output_type": "stream",
     "text": [
      "<class 'pandas.core.frame.DataFrame'>\n",
      "RangeIndex: 794009 entries, 0 to 794008\n",
      "Data columns (total 22 columns):\n",
      " #   Column                  Non-Null Count   Dtype  \n",
      "---  ------                  --------------   -----  \n",
      " 0   match_id                794009 non-null  int64  \n",
      " 1   season                  794009 non-null  object \n",
      " 2   start_date              794009 non-null  object \n",
      " 3   venue                   794009 non-null  object \n",
      " 4   innings                 794009 non-null  int64  \n",
      " 5   ball                    794009 non-null  float64\n",
      " 6   batting_team            794009 non-null  object \n",
      " 7   bowling_team            794009 non-null  object \n",
      " 8   striker                 794009 non-null  object \n",
      " 9   non_striker             794009 non-null  object \n",
      " 10  bowler                  794009 non-null  object \n",
      " 11  runs_off_bat            794009 non-null  int64  \n",
      " 12  extras                  794009 non-null  int64  \n",
      " 13  wides                   32436 non-null   float64\n",
      " 14  noballs                 4139 non-null    object \n",
      " 15  byes                    3409 non-null    float64\n",
      " 16  legbyes                 10424 non-null   float64\n",
      " 17  penalty                 14 non-null      object \n",
      " 18  wicket_type             43775 non-null   object \n",
      " 19  player_dismissed        43775 non-null   object \n",
      " 20  other_wicket_type       1 non-null       object \n",
      " 21  other_player_dismissed  1 non-null       object \n",
      "dtypes: float64(4), int64(4), object(14)\n",
      "memory usage: 133.3+ MB\n"
     ]
    }
   ],
   "source": [
    "#print(deliveries.head())\n",
    "deliveries.info()"
   ]
  },
  {
   "cell_type": "code",
   "execution_count": 40,
   "metadata": {},
   "outputs": [
    {
     "name": "stdout",
     "output_type": "stream",
     "text": [
      "Index(['team1_player1', 'team1_player2', 'team1_player3', 'team1_player4',\n",
      "       'team1_player5', 'team1_player6', 'team1_player7', 'team1_player8',\n",
      "       'team1_player9', 'team1_player10', 'team1_player11', 'team2_players1',\n",
      "       'team2_players2', 'team2_players3', 'team2_players4', 'team2_players5',\n",
      "       'team2_players6', 'team2_players7', 'team2_players8', 'team2_players9',\n",
      "       'team2_players10', 'team2_players11', 'match_id'],\n",
      "      dtype='object')\n"
     ]
    }
   ],
   "source": [
    "print(match_players.columns)"
   ]
  },
  {
   "cell_type": "code",
   "execution_count": 41,
   "metadata": {},
   "outputs": [
    {
     "name": "stdout",
     "output_type": "stream",
     "text": [
      "Index(['team1', 'team2', 'gender', 'season', 'date', 'venue', 'city',\n",
      "       'toss_winner', 'toss_decision', 'winner', 'match_id'],\n",
      "      dtype='object')\n"
     ]
    }
   ],
   "source": [
    "print(matches.columns)"
   ]
  },
  {
   "cell_type": "code",
   "execution_count": 49,
   "metadata": {},
   "outputs": [],
   "source": [
    "# Merge deliveries with matches\n",
    "merged_data = pd.merge(deliveries, matches, on='match_id', suffixes=('_delivery', '_match'))\n"
   ]
  },
  {
   "cell_type": "code",
   "execution_count": 50,
   "metadata": {},
   "outputs": [],
   "source": [
    "# Calculate cumulative runs\n",
    "merged_data['cumulative_runs'] = merged_data.groupby(['match_id', 'innings'])['runs_off_bat'].cumsum() + merged_data.groupby(['match_id', 'innings'])['extras'].cumsum()\n"
   ]
  },
  {
   "cell_type": "code",
   "execution_count": 51,
   "metadata": {},
   "outputs": [],
   "source": [
    "# Ensure player_dismissed is a boolean indicating whether a player was dismissed\n",
    "merged_data['is_wicket'] = merged_data['player_dismissed'].notnull().astype(int)\n"
   ]
  },
  {
   "cell_type": "code",
   "execution_count": 52,
   "metadata": {},
   "outputs": [],
   "source": [
    "# Calculate cumulative wickets\n",
    "merged_data['cumulative_wickets'] = merged_data.groupby(['match_id', 'innings'])['is_wicket'].transform('cumsum')\n"
   ]
  },
  {
   "cell_type": "code",
   "execution_count": 53,
   "metadata": {},
   "outputs": [],
   "source": [
    "# Calculate current run rate\n",
    "merged_data['current_run_rate'] = merged_data['cumulative_runs'] / (merged_data['ball'] / 6 + (merged_data['ball'] % 6) / 6)\n"
   ]
  },
  {
   "cell_type": "code",
   "execution_count": 54,
   "metadata": {},
   "outputs": [],
   "source": [
    "# Calculate target runs from the first innings\n",
    "first_innings_runs = merged_data[merged_data['innings'] == 1].groupby('match_id')['cumulative_runs'].max().reset_index()\n",
    "first_innings_runs.columns = ['match_id', 'target_runs']\n",
    "merged_data = pd.merge(merged_data, first_innings_runs, on='match_id', how='left')\n"
   ]
  },
  {
   "cell_type": "code",
   "execution_count": 55,
   "metadata": {},
   "outputs": [],
   "source": [
    "# Calculate required run rate\n",
    "merged_data['required_run_rate'] = (merged_data['target_runs'] - merged_data['cumulative_runs']) / (20 - (merged_data['ball'] / 6 + (merged_data['ball'] % 6) / 6))\n"
   ]
  },
  {
   "cell_type": "code",
   "execution_count": 56,
   "metadata": {},
   "outputs": [],
   "source": [
    "# Calculate player statistics\n",
    "# Batting statistics\n",
    "player_runs = deliveries.groupby('striker')['runs_off_bat'].sum().reset_index()\n",
    "player_runs.columns = ['player_id', 'total_runs']\n",
    "player_balls_faced = deliveries[deliveries['wides'] == 0].groupby('striker').size().reset_index(name='balls_faced')\n",
    "player_stats = pd.merge(player_runs, player_balls_faced, left_on='player_id', right_on='striker')\n",
    "player_stats['strike_rate'] = player_stats['total_runs'] / player_stats['balls_faced'] * 100\n"
   ]
  },
  {
   "cell_type": "code",
   "execution_count": 57,
   "metadata": {},
   "outputs": [],
   "source": [
    "bowler_runs_conceded = deliveries.groupby('bowler')['runs_off_bat'].sum().reset_index()\n",
    "bowler_runs_conceded.columns = ['player_id', 'runs_conceded']\n",
    "balls_bowled = deliveries[(deliveries['wides'] == 0) & (deliveries['noballs'] == 0)].groupby('bowler').size().reset_index(name='balls_bowled')\n",
    "bowler_stats = pd.merge(bowler_runs_conceded, balls_bowled, left_on='player_id', right_on='bowler')\n",
    "bowler_stats['economy_rate'] = bowler_stats['runs_conceded'] / (bowler_stats['balls_bowled'] / 6)\n"
   ]
  },
  {
   "cell_type": "code",
   "execution_count": 58,
   "metadata": {},
   "outputs": [],
   "source": [
    "# Combine batting and bowling statistics\n",
    "player_stats = pd.merge(player_stats, bowler_stats, on='player_id', how='outer', suffixes=('_batting', '_bowling'))\n"
   ]
  },
  {
   "cell_type": "code",
   "execution_count": 59,
   "metadata": {},
   "outputs": [],
   "source": [
    "# Rename columns to avoid conflicts during merge\n",
    "player_stats_renamed = player_stats.rename(columns={\n",
    "    'total_runs': 'total_runs_batting',\n",
    "    'balls_faced': 'balls_faced_batting',\n",
    "    'strike_rate': 'strike_rate_batting',\n",
    "    'runs_conceded': 'runs_conceded_bowling',\n",
    "    'balls_bowled': 'balls_bowled_bowling',\n",
    "    'economy_rate': 'economy_rate_bowling'\n",
    "})"
   ]
  },
  {
   "cell_type": "code",
   "execution_count": 60,
   "metadata": {},
   "outputs": [],
   "source": [
    "for col in match_players.columns:\n",
    "    if col != 'match_id':\n",
    "        merged_data = pd.merge(merged_data, match_players[['match_id', col]], on='match_id', how='left')\n",
    "        merged_data = pd.merge(\n",
    "            merged_data, \n",
    "            player_stats_renamed, \n",
    "            left_on=col, \n",
    "            right_on='player_id', \n",
    "            how='left', \n",
    "            suffixes=('', f'_{col}')\n",
    "        )\n",
    "        merged_data = merged_data.drop(columns=['player_id'])\n"
   ]
  },
  {
   "cell_type": "code",
   "execution_count": 61,
   "metadata": {},
   "outputs": [],
   "source": [
    "# Add match outcome as the target variable\n",
    "matches['result'] = matches.apply(lambda x: 1 if x['winner'] == x['team1'] else 0, axis=1)\n",
    "merged_data = pd.merge(merged_data, matches[['match_id', 'result']], on='match_id')\n"
   ]
  },
  {
   "cell_type": "code",
   "execution_count": 62,
   "metadata": {},
   "outputs": [],
   "source": [
    "# Select relevant features and create the final dataset\n",
    "features = ['cumulative_runs', 'cumulative_wickets', 'current_run_rate', 'required_run_rate', 'total_runs_batting', 'strike_rate_batting', 'runs_conceded_bowling', 'economy_rate_bowling']\n",
    "target = 'result'"
   ]
  },
  {
   "cell_type": "code",
   "execution_count": 63,
   "metadata": {},
   "outputs": [],
   "source": [
    "final_dataset = merged_data[features + [target]]"
   ]
  },
  {
   "cell_type": "code",
   "execution_count": 65,
   "metadata": {},
   "outputs": [],
   "source": [
    "# Save the final dataset\n",
    "final_dataset.to_csv('final_dataset_with_player_stats.csv', index=False)"
   ]
  },
  {
   "cell_type": "code",
   "execution_count": 66,
   "metadata": {},
   "outputs": [],
   "source": [
    "# Save the final dataset as a Parquet file\n",
    "final_dataset.to_parquet('Parquet_final_dataset_with_player_stats.parquet', index=False)\n"
   ]
  },
  {
   "cell_type": "code",
   "execution_count": 67,
   "metadata": {},
   "outputs": [
    {
     "data": {
      "text/html": [
       "<div>\n",
       "<style scoped>\n",
       "    .dataframe tbody tr th:only-of-type {\n",
       "        vertical-align: middle;\n",
       "    }\n",
       "\n",
       "    .dataframe tbody tr th {\n",
       "        vertical-align: top;\n",
       "    }\n",
       "\n",
       "    .dataframe thead th {\n",
       "        text-align: right;\n",
       "    }\n",
       "</style>\n",
       "<table border=\"1\" class=\"dataframe\">\n",
       "  <thead>\n",
       "    <tr style=\"text-align: right;\">\n",
       "      <th></th>\n",
       "      <th>cumulative_runs</th>\n",
       "      <th>cumulative_wickets</th>\n",
       "      <th>current_run_rate</th>\n",
       "      <th>required_run_rate</th>\n",
       "      <th>total_runs_batting</th>\n",
       "      <th>strike_rate_batting</th>\n",
       "      <th>runs_conceded_bowling</th>\n",
       "      <th>economy_rate_bowling</th>\n",
       "      <th>result</th>\n",
       "    </tr>\n",
       "  </thead>\n",
       "  <tbody>\n",
       "    <tr>\n",
       "      <th>0</th>\n",
       "      <td>0</td>\n",
       "      <td>0</td>\n",
       "      <td>0.000000</td>\n",
       "      <td>8.414023</td>\n",
       "      <td>NaN</td>\n",
       "      <td>NaN</td>\n",
       "      <td>NaN</td>\n",
       "      <td>NaN</td>\n",
       "      <td>0</td>\n",
       "    </tr>\n",
       "    <tr>\n",
       "      <th>1</th>\n",
       "      <td>0</td>\n",
       "      <td>0</td>\n",
       "      <td>0.000000</td>\n",
       "      <td>8.428094</td>\n",
       "      <td>NaN</td>\n",
       "      <td>NaN</td>\n",
       "      <td>NaN</td>\n",
       "      <td>NaN</td>\n",
       "      <td>0</td>\n",
       "    </tr>\n",
       "    <tr>\n",
       "      <th>2</th>\n",
       "      <td>1</td>\n",
       "      <td>0</td>\n",
       "      <td>10.000000</td>\n",
       "      <td>8.391960</td>\n",
       "      <td>NaN</td>\n",
       "      <td>NaN</td>\n",
       "      <td>NaN</td>\n",
       "      <td>NaN</td>\n",
       "      <td>0</td>\n",
       "    </tr>\n",
       "    <tr>\n",
       "      <th>3</th>\n",
       "      <td>3</td>\n",
       "      <td>0</td>\n",
       "      <td>22.500000</td>\n",
       "      <td>8.305369</td>\n",
       "      <td>NaN</td>\n",
       "      <td>NaN</td>\n",
       "      <td>NaN</td>\n",
       "      <td>NaN</td>\n",
       "      <td>0</td>\n",
       "    </tr>\n",
       "    <tr>\n",
       "      <th>4</th>\n",
       "      <td>3</td>\n",
       "      <td>0</td>\n",
       "      <td>18.000000</td>\n",
       "      <td>8.319328</td>\n",
       "      <td>NaN</td>\n",
       "      <td>NaN</td>\n",
       "      <td>NaN</td>\n",
       "      <td>NaN</td>\n",
       "      <td>0</td>\n",
       "    </tr>\n",
       "    <tr>\n",
       "      <th>...</th>\n",
       "      <td>...</td>\n",
       "      <td>...</td>\n",
       "      <td>...</td>\n",
       "      <td>...</td>\n",
       "      <td>...</td>\n",
       "      <td>...</td>\n",
       "      <td>...</td>\n",
       "      <td>...</td>\n",
       "      <td>...</td>\n",
       "    </tr>\n",
       "    <tr>\n",
       "      <th>794004</th>\n",
       "      <td>121</td>\n",
       "      <td>6</td>\n",
       "      <td>32.702703</td>\n",
       "      <td>0.429448</td>\n",
       "      <td>NaN</td>\n",
       "      <td>NaN</td>\n",
       "      <td>NaN</td>\n",
       "      <td>NaN</td>\n",
       "      <td>0</td>\n",
       "    </tr>\n",
       "    <tr>\n",
       "      <th>794005</th>\n",
       "      <td>124</td>\n",
       "      <td>6</td>\n",
       "      <td>33.214286</td>\n",
       "      <td>0.245902</td>\n",
       "      <td>NaN</td>\n",
       "      <td>NaN</td>\n",
       "      <td>NaN</td>\n",
       "      <td>NaN</td>\n",
       "      <td>0</td>\n",
       "    </tr>\n",
       "    <tr>\n",
       "      <th>794006</th>\n",
       "      <td>124</td>\n",
       "      <td>6</td>\n",
       "      <td>32.920354</td>\n",
       "      <td>0.246407</td>\n",
       "      <td>NaN</td>\n",
       "      <td>NaN</td>\n",
       "      <td>NaN</td>\n",
       "      <td>NaN</td>\n",
       "      <td>0</td>\n",
       "    </tr>\n",
       "    <tr>\n",
       "      <th>794007</th>\n",
       "      <td>124</td>\n",
       "      <td>6</td>\n",
       "      <td>32.631579</td>\n",
       "      <td>0.246914</td>\n",
       "      <td>NaN</td>\n",
       "      <td>NaN</td>\n",
       "      <td>NaN</td>\n",
       "      <td>NaN</td>\n",
       "      <td>0</td>\n",
       "    </tr>\n",
       "    <tr>\n",
       "      <th>794008</th>\n",
       "      <td>130</td>\n",
       "      <td>6</td>\n",
       "      <td>33.913043</td>\n",
       "      <td>-0.123711</td>\n",
       "      <td>NaN</td>\n",
       "      <td>NaN</td>\n",
       "      <td>NaN</td>\n",
       "      <td>NaN</td>\n",
       "      <td>0</td>\n",
       "    </tr>\n",
       "  </tbody>\n",
       "</table>\n",
       "<p>794009 rows × 9 columns</p>\n",
       "</div>"
      ],
      "text/plain": [
       "        cumulative_runs  cumulative_wickets  current_run_rate  \\\n",
       "0                     0                   0          0.000000   \n",
       "1                     0                   0          0.000000   \n",
       "2                     1                   0         10.000000   \n",
       "3                     3                   0         22.500000   \n",
       "4                     3                   0         18.000000   \n",
       "...                 ...                 ...               ...   \n",
       "794004              121                   6         32.702703   \n",
       "794005              124                   6         33.214286   \n",
       "794006              124                   6         32.920354   \n",
       "794007              124                   6         32.631579   \n",
       "794008              130                   6         33.913043   \n",
       "\n",
       "        required_run_rate  total_runs_batting  strike_rate_batting  \\\n",
       "0                8.414023                 NaN                  NaN   \n",
       "1                8.428094                 NaN                  NaN   \n",
       "2                8.391960                 NaN                  NaN   \n",
       "3                8.305369                 NaN                  NaN   \n",
       "4                8.319328                 NaN                  NaN   \n",
       "...                   ...                 ...                  ...   \n",
       "794004           0.429448                 NaN                  NaN   \n",
       "794005           0.245902                 NaN                  NaN   \n",
       "794006           0.246407                 NaN                  NaN   \n",
       "794007           0.246914                 NaN                  NaN   \n",
       "794008          -0.123711                 NaN                  NaN   \n",
       "\n",
       "        runs_conceded_bowling  economy_rate_bowling  result  \n",
       "0                         NaN                   NaN       0  \n",
       "1                         NaN                   NaN       0  \n",
       "2                         NaN                   NaN       0  \n",
       "3                         NaN                   NaN       0  \n",
       "4                         NaN                   NaN       0  \n",
       "...                       ...                   ...     ...  \n",
       "794004                    NaN                   NaN       0  \n",
       "794005                    NaN                   NaN       0  \n",
       "794006                    NaN                   NaN       0  \n",
       "794007                    NaN                   NaN       0  \n",
       "794008                    NaN                   NaN       0  \n",
       "\n",
       "[794009 rows x 9 columns]"
      ]
     },
     "execution_count": 67,
     "metadata": {},
     "output_type": "execute_result"
    }
   ],
   "source": [
    "df = pd.read_csv(r'C:\\Users\\amadh\\OneDrive\\Desktop\\Project Series\\Cricket-Prediction\\mainBooks\\final_dataset_with_player_stats.csv')\n",
    "df"
   ]
  },
  {
   "cell_type": "code",
   "execution_count": null,
   "metadata": {},
   "outputs": [],
   "source": []
  }
 ],
 "metadata": {
  "kernelspec": {
   "display_name": "Python 3",
   "language": "python",
   "name": "python3"
  },
  "language_info": {
   "codemirror_mode": {
    "name": "ipython",
    "version": 3
   },
   "file_extension": ".py",
   "mimetype": "text/x-python",
   "name": "python",
   "nbconvert_exporter": "python",
   "pygments_lexer": "ipython3",
   "version": "3.11.9"
  }
 },
 "nbformat": 4,
 "nbformat_minor": 2
}
