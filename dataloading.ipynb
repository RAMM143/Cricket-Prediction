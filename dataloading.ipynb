{
 "cells": [
  {
   "cell_type": "code",
   "execution_count": 4,
   "metadata": {},
   "outputs": [],
   "source": [
    "import os\n",
    "import glob\n",
    "import polars as pl\n",
    "\n",
    "# Specify the directory where your CSV files are located\n",
    "directory = '.\\\\t20s_csv2'\n",
    "\n",
    "# Use glob to find all CSV files in the specified directory\n",
    "info_files = glob.glob(os.path.join(directory, '*_info.csv'))\n",
    "delivery_files = glob.glob(os.path.join(directory,'*.csv'))\n",
    "\n",
    "matches=[]\n",
    "deliveries=[]\n",
    "# Print the list of CSV files\n",
    "for info_file in info_files:\n",
    "    matches.append(info_file.split('\\\\')[-1])\n",
    "for delivery in delivery_files:\n",
    "    if '_info' not in delivery:\n",
    "        deliveries.append(delivery.split('\\\\')[-1])"
   ]
  },
  {
   "cell_type": "code",
   "execution_count": 5,
   "metadata": {},
   "outputs": [
    {
     "data": {
      "text/html": [
       "<div><style>\n",
       ".dataframe > thead > tr,\n",
       ".dataframe > tbody > tr {\n",
       "  text-align: right;\n",
       "  white-space: pre-wrap;\n",
       "}\n",
       "</style>\n",
       "<small>shape: (816_781, 22)</small><table border=\"1\" class=\"dataframe\"><thead><tr><th>match_id</th><th>season</th><th>start_date</th><th>venue</th><th>innings</th><th>ball</th><th>batting_team</th><th>bowling_team</th><th>striker</th><th>non_striker</th><th>bowler</th><th>runs_off_bat</th><th>extras</th><th>wides</th><th>noballs</th><th>byes</th><th>legbyes</th><th>penalty</th><th>wicket_type</th><th>player_dismissed</th><th>other_wicket_type</th><th>other_player_dismissed</th></tr><tr><td>i64</td><td>str</td><td>str</td><td>str</td><td>i64</td><td>f64</td><td>str</td><td>str</td><td>str</td><td>str</td><td>str</td><td>i64</td><td>i64</td><td>i64</td><td>str</td><td>i64</td><td>i64</td><td>str</td><td>str</td><td>str</td><td>str</td><td>str</td></tr></thead><tbody><tr><td>1001349</td><td>&quot;2016/17&quot;</td><td>&quot;2017-02-17&quot;</td><td>&quot;Melbourne Cricket Ground&quot;</td><td>1</td><td>0.1</td><td>&quot;Australia&quot;</td><td>&quot;Sri Lanka&quot;</td><td>&quot;AJ Finch&quot;</td><td>&quot;M Klinger&quot;</td><td>&quot;SL Malinga&quot;</td><td>0</td><td>0</td><td>null</td><td>null</td><td>null</td><td>null</td><td>null</td><td>null</td><td>null</td><td>null</td><td>null</td></tr><tr><td>1001349</td><td>&quot;2016/17&quot;</td><td>&quot;2017-02-17&quot;</td><td>&quot;Melbourne Cricket Ground&quot;</td><td>1</td><td>0.2</td><td>&quot;Australia&quot;</td><td>&quot;Sri Lanka&quot;</td><td>&quot;AJ Finch&quot;</td><td>&quot;M Klinger&quot;</td><td>&quot;SL Malinga&quot;</td><td>0</td><td>0</td><td>null</td><td>null</td><td>null</td><td>null</td><td>null</td><td>null</td><td>null</td><td>null</td><td>null</td></tr><tr><td>1001349</td><td>&quot;2016/17&quot;</td><td>&quot;2017-02-17&quot;</td><td>&quot;Melbourne Cricket Ground&quot;</td><td>1</td><td>0.3</td><td>&quot;Australia&quot;</td><td>&quot;Sri Lanka&quot;</td><td>&quot;AJ Finch&quot;</td><td>&quot;M Klinger&quot;</td><td>&quot;SL Malinga&quot;</td><td>1</td><td>0</td><td>null</td><td>null</td><td>null</td><td>null</td><td>null</td><td>null</td><td>null</td><td>null</td><td>null</td></tr><tr><td>1001349</td><td>&quot;2016/17&quot;</td><td>&quot;2017-02-17&quot;</td><td>&quot;Melbourne Cricket Ground&quot;</td><td>1</td><td>0.4</td><td>&quot;Australia&quot;</td><td>&quot;Sri Lanka&quot;</td><td>&quot;M Klinger&quot;</td><td>&quot;AJ Finch&quot;</td><td>&quot;SL Malinga&quot;</td><td>2</td><td>0</td><td>null</td><td>null</td><td>null</td><td>null</td><td>null</td><td>null</td><td>null</td><td>null</td><td>null</td></tr><tr><td>1001349</td><td>&quot;2016/17&quot;</td><td>&quot;2017-02-17&quot;</td><td>&quot;Melbourne Cricket Ground&quot;</td><td>1</td><td>0.5</td><td>&quot;Australia&quot;</td><td>&quot;Sri Lanka&quot;</td><td>&quot;M Klinger&quot;</td><td>&quot;AJ Finch&quot;</td><td>&quot;SL Malinga&quot;</td><td>0</td><td>0</td><td>null</td><td>null</td><td>null</td><td>null</td><td>null</td><td>null</td><td>null</td><td>null</td><td>null</td></tr><tr><td>&hellip;</td><td>&hellip;</td><td>&hellip;</td><td>&hellip;</td><td>&hellip;</td><td>&hellip;</td><td>&hellip;</td><td>&hellip;</td><td>&hellip;</td><td>&hellip;</td><td>&hellip;</td><td>&hellip;</td><td>&hellip;</td><td>&hellip;</td><td>&hellip;</td><td>&hellip;</td><td>&hellip;</td><td>&hellip;</td><td>&hellip;</td><td>&hellip;</td><td>&hellip;</td><td>&hellip;</td></tr><tr><td>995469</td><td>&quot;2016&quot;</td><td>&quot;2016-09-09&quot;</td><td>&quot;R Premadasa Stadium&quot;</td><td>2</td><td>17.1</td><td>&quot;Australia&quot;</td><td>&quot;Sri Lanka&quot;</td><td>&quot;TM Head&quot;</td><td>&quot;PM Nevill&quot;</td><td>&quot;SS Pathirana&quot;</td><td>1</td><td>0</td><td>null</td><td>null</td><td>null</td><td>null</td><td>null</td><td>null</td><td>null</td><td>null</td><td>null</td></tr><tr><td>995469</td><td>&quot;2016&quot;</td><td>&quot;2016-09-09&quot;</td><td>&quot;R Premadasa Stadium&quot;</td><td>2</td><td>17.2</td><td>&quot;Australia&quot;</td><td>&quot;Sri Lanka&quot;</td><td>&quot;PM Nevill&quot;</td><td>&quot;TM Head&quot;</td><td>&quot;SS Pathirana&quot;</td><td>3</td><td>0</td><td>null</td><td>null</td><td>null</td><td>null</td><td>null</td><td>null</td><td>null</td><td>null</td><td>null</td></tr><tr><td>995469</td><td>&quot;2016&quot;</td><td>&quot;2016-09-09&quot;</td><td>&quot;R Premadasa Stadium&quot;</td><td>2</td><td>17.3</td><td>&quot;Australia&quot;</td><td>&quot;Sri Lanka&quot;</td><td>&quot;TM Head&quot;</td><td>&quot;PM Nevill&quot;</td><td>&quot;SS Pathirana&quot;</td><td>0</td><td>0</td><td>null</td><td>null</td><td>null</td><td>null</td><td>null</td><td>null</td><td>null</td><td>null</td><td>null</td></tr><tr><td>995469</td><td>&quot;2016&quot;</td><td>&quot;2016-09-09&quot;</td><td>&quot;R Premadasa Stadium&quot;</td><td>2</td><td>17.4</td><td>&quot;Australia&quot;</td><td>&quot;Sri Lanka&quot;</td><td>&quot;TM Head&quot;</td><td>&quot;PM Nevill&quot;</td><td>&quot;SS Pathirana&quot;</td><td>0</td><td>0</td><td>null</td><td>null</td><td>null</td><td>null</td><td>null</td><td>null</td><td>null</td><td>null</td><td>null</td></tr><tr><td>995469</td><td>&quot;2016&quot;</td><td>&quot;2016-09-09&quot;</td><td>&quot;R Premadasa Stadium&quot;</td><td>2</td><td>17.5</td><td>&quot;Australia&quot;</td><td>&quot;Sri Lanka&quot;</td><td>&quot;TM Head&quot;</td><td>&quot;PM Nevill&quot;</td><td>&quot;SS Pathirana&quot;</td><td>6</td><td>0</td><td>null</td><td>null</td><td>null</td><td>null</td><td>null</td><td>null</td><td>null</td><td>null</td><td>null</td></tr></tbody></table></div>"
      ],
      "text/plain": [
       "shape: (816_781, 22)\n",
       "┌──────────┬─────────┬────────────┬────────────┬───┬───────────┬───────────┬───────────┬───────────┐\n",
       "│ match_id ┆ season  ┆ start_date ┆ venue      ┆ … ┆ wicket_ty ┆ player_di ┆ other_wic ┆ other_pla │\n",
       "│ ---      ┆ ---     ┆ ---        ┆ ---        ┆   ┆ pe        ┆ smissed   ┆ ket_type  ┆ yer_dismi │\n",
       "│ i64      ┆ str     ┆ str        ┆ str        ┆   ┆ ---       ┆ ---       ┆ ---       ┆ ssed      │\n",
       "│          ┆         ┆            ┆            ┆   ┆ str       ┆ str       ┆ str       ┆ ---       │\n",
       "│          ┆         ┆            ┆            ┆   ┆           ┆           ┆           ┆ str       │\n",
       "╞══════════╪═════════╪════════════╪════════════╪═══╪═══════════╪═══════════╪═══════════╪═══════════╡\n",
       "│ 1001349  ┆ 2016/17 ┆ 2017-02-17 ┆ Melbourne  ┆ … ┆ null      ┆ null      ┆ null      ┆ null      │\n",
       "│          ┆         ┆            ┆ Cricket    ┆   ┆           ┆           ┆           ┆           │\n",
       "│          ┆         ┆            ┆ Ground     ┆   ┆           ┆           ┆           ┆           │\n",
       "│ 1001349  ┆ 2016/17 ┆ 2017-02-17 ┆ Melbourne  ┆ … ┆ null      ┆ null      ┆ null      ┆ null      │\n",
       "│          ┆         ┆            ┆ Cricket    ┆   ┆           ┆           ┆           ┆           │\n",
       "│          ┆         ┆            ┆ Ground     ┆   ┆           ┆           ┆           ┆           │\n",
       "│ 1001349  ┆ 2016/17 ┆ 2017-02-17 ┆ Melbourne  ┆ … ┆ null      ┆ null      ┆ null      ┆ null      │\n",
       "│          ┆         ┆            ┆ Cricket    ┆   ┆           ┆           ┆           ┆           │\n",
       "│          ┆         ┆            ┆ Ground     ┆   ┆           ┆           ┆           ┆           │\n",
       "│ 1001349  ┆ 2016/17 ┆ 2017-02-17 ┆ Melbourne  ┆ … ┆ null      ┆ null      ┆ null      ┆ null      │\n",
       "│          ┆         ┆            ┆ Cricket    ┆   ┆           ┆           ┆           ┆           │\n",
       "│          ┆         ┆            ┆ Ground     ┆   ┆           ┆           ┆           ┆           │\n",
       "│ 1001349  ┆ 2016/17 ┆ 2017-02-17 ┆ Melbourne  ┆ … ┆ null      ┆ null      ┆ null      ┆ null      │\n",
       "│          ┆         ┆            ┆ Cricket    ┆   ┆           ┆           ┆           ┆           │\n",
       "│          ┆         ┆            ┆ Ground     ┆   ┆           ┆           ┆           ┆           │\n",
       "│ …        ┆ …       ┆ …          ┆ …          ┆ … ┆ …         ┆ …         ┆ …         ┆ …         │\n",
       "│ 995469   ┆ 2016    ┆ 2016-09-09 ┆ R          ┆ … ┆ null      ┆ null      ┆ null      ┆ null      │\n",
       "│          ┆         ┆            ┆ Premadasa  ┆   ┆           ┆           ┆           ┆           │\n",
       "│          ┆         ┆            ┆ Stadium    ┆   ┆           ┆           ┆           ┆           │\n",
       "│ 995469   ┆ 2016    ┆ 2016-09-09 ┆ R          ┆ … ┆ null      ┆ null      ┆ null      ┆ null      │\n",
       "│          ┆         ┆            ┆ Premadasa  ┆   ┆           ┆           ┆           ┆           │\n",
       "│          ┆         ┆            ┆ Stadium    ┆   ┆           ┆           ┆           ┆           │\n",
       "│ 995469   ┆ 2016    ┆ 2016-09-09 ┆ R          ┆ … ┆ null      ┆ null      ┆ null      ┆ null      │\n",
       "│          ┆         ┆            ┆ Premadasa  ┆   ┆           ┆           ┆           ┆           │\n",
       "│          ┆         ┆            ┆ Stadium    ┆   ┆           ┆           ┆           ┆           │\n",
       "│ 995469   ┆ 2016    ┆ 2016-09-09 ┆ R          ┆ … ┆ null      ┆ null      ┆ null      ┆ null      │\n",
       "│          ┆         ┆            ┆ Premadasa  ┆   ┆           ┆           ┆           ┆           │\n",
       "│          ┆         ┆            ┆ Stadium    ┆   ┆           ┆           ┆           ┆           │\n",
       "│ 995469   ┆ 2016    ┆ 2016-09-09 ┆ R          ┆ … ┆ null      ┆ null      ┆ null      ┆ null      │\n",
       "│          ┆         ┆            ┆ Premadasa  ┆   ┆           ┆           ┆           ┆           │\n",
       "│          ┆         ┆            ┆ Stadium    ┆   ┆           ┆           ┆           ┆           │\n",
       "└──────────┴─────────┴────────────┴────────────┴───┴───────────┴───────────┴───────────┴───────────┘"
      ]
     },
     "execution_count": 5,
     "metadata": {},
     "output_type": "execute_result"
    }
   ],
   "source": [
    "delivery_schema=([('match_id', pl.Int64),\n",
    "             ('season', pl.String),\n",
    "             ('start_date', pl.String),\n",
    "             ('venue', pl.String),\n",
    "             ('innings', pl.Int64),\n",
    "             ('ball', pl.Float64),\n",
    "             ('batting_team', pl.String),\n",
    "             ('bowling_team', pl.String),\n",
    "             ('striker', pl.String),\n",
    "             ('non_striker', pl.String),\n",
    "             ('bowler', pl.String),\n",
    "             ('runs_off_bat', pl.Int64),\n",
    "             ('extras', pl.Int64),\n",
    "             ('wides', pl.Int64),\n",
    "             ('noballs', pl.String),\n",
    "             ('byes', pl.Int64),\n",
    "             ('legbyes', pl.Int64),\n",
    "             ('penalty', pl.String),\n",
    "             ('wicket_type', pl.String),\n",
    "             ('player_dismissed', pl.String),\n",
    "             ('other_wicket_type', pl.String),\n",
    "             ('other_player_dismissed', pl.String)])\n",
    "delivery_schema_dict = {key : value for key,value in delivery_schema}\n",
    "deliveries_data = pl.DataFrame(schema=delivery_schema_dict)\n",
    "for delivery in deliveries:\n",
    "    delivery=pl.read_csv('./t20s_csv2/'+delivery,schema=delivery_schema_dict)\n",
    "    deliveries_data=deliveries_data.vstack(delivery)\n",
    "deliveries_data"
   ]
  },
  {
   "cell_type": "code",
   "execution_count": 6,
   "metadata": {},
   "outputs": [],
   "source": [
    "deliveries_data.write_parquet(\"./historical_data/deliveries.parquet\")"
   ]
  },
  {
   "cell_type": "code",
   "execution_count": 15,
   "metadata": {},
   "outputs": [],
   "source": [
    "match_ids=[]\n",
    "for csv_file in matches:\n",
    "    match_ids.append(csv_file.split('_')[0])"
   ]
  },
  {
   "cell_type": "code",
   "execution_count": 11,
   "metadata": {},
   "outputs": [
    {
     "data": {
      "text/html": [
       "<div><style>\n",
       ".dataframe > thead > tr,\n",
       ".dataframe > tbody > tr {\n",
       "  text-align: right;\n",
       "  white-space: pre-wrap;\n",
       "}\n",
       "</style>\n",
       "<small>shape: (3_601, 8)</small><table border=\"1\" class=\"dataframe\"><thead><tr><th>team</th><th>gender</th><th>season</th><th>date</th><th>venue</th><th>city</th><th>toss_winner</th><th>toss_decision</th></tr><tr><td>str</td><td>str</td><td>str</td><td>str</td><td>str</td><td>str</td><td>str</td><td>str</td></tr></thead><tbody><tr><td>&quot;Sri Lanka&quot;</td><td>&quot;male&quot;</td><td>&quot;2016/17&quot;</td><td>&quot;2017/02/17&quot;</td><td>&quot;Melbourne Cricket Ground&quot;</td><td>null</td><td>&quot;Sri Lanka&quot;</td><td>&quot;field&quot;</td></tr><tr><td>&quot;Sri Lanka&quot;</td><td>&quot;male&quot;</td><td>&quot;2016/17&quot;</td><td>&quot;2017/02/19&quot;</td><td>&quot;Simonds Stadium, South Geelong&quot;</td><td>&quot;Victoria&quot;</td><td>&quot;Sri Lanka&quot;</td><td>&quot;field&quot;</td></tr><tr><td>&quot;Sri Lanka&quot;</td><td>&quot;male&quot;</td><td>&quot;2016/17&quot;</td><td>&quot;2017/02/22&quot;</td><td>&quot;Adelaide Oval&quot;</td><td>null</td><td>&quot;Sri Lanka&quot;</td><td>&quot;field&quot;</td></tr><tr><td>&quot;Hong Kong&quot;</td><td>&quot;male&quot;</td><td>&quot;2016&quot;</td><td>&quot;2016/09/05&quot;</td><td>&quot;Bready Cricket Club, Magherama…</td><td>&quot;Londonderry&quot;</td><td>&quot;Hong Kong&quot;</td><td>&quot;bat&quot;</td></tr><tr><td>&quot;India&quot;</td><td>&quot;male&quot;</td><td>&quot;2016&quot;</td><td>&quot;2016/06/18&quot;</td><td>&quot;Harare Sports Club&quot;</td><td>null</td><td>&quot;India&quot;</td><td>&quot;field&quot;</td></tr><tr><td>&hellip;</td><td>&hellip;</td><td>&hellip;</td><td>&hellip;</td><td>&hellip;</td><td>&hellip;</td><td>&hellip;</td><td>&hellip;</td></tr><tr><td>&quot;Sri Lanka&quot;</td><td>&quot;male&quot;</td><td>&quot;2015/16&quot;</td><td>&quot;2016/03/04&quot;</td><td>&quot;Shere Bangla National Stadium&quot;</td><td>&quot;Mirpur&quot;</td><td>&quot;Pakistan&quot;</td><td>&quot;field&quot;</td></tr><tr><td>&quot;India&quot;</td><td>&quot;male&quot;</td><td>&quot;2015/16&quot;</td><td>&quot;2016/03/06&quot;</td><td>&quot;Shere Bangla National Stadium&quot;</td><td>&quot;Mirpur&quot;</td><td>&quot;India&quot;</td><td>&quot;field&quot;</td></tr><tr><td>&quot;Netherlands&quot;</td><td>&quot;male&quot;</td><td>&quot;2015/16&quot;</td><td>&quot;2016/02/03&quot;</td><td>&quot;ICC Academy&quot;</td><td>&quot;Dubai&quot;</td><td>&quot;United Arab Emirates&quot;</td><td>&quot;field&quot;</td></tr><tr><td>&quot;Australia&quot;</td><td>&quot;male&quot;</td><td>&quot;2016&quot;</td><td>&quot;2016/09/06&quot;</td><td>&quot;Pallekele International Cricke…</td><td>null</td><td>&quot;Sri Lanka&quot;</td><td>&quot;field&quot;</td></tr><tr><td>&quot;Australia&quot;</td><td>&quot;male&quot;</td><td>&quot;2016&quot;</td><td>&quot;2016/09/09&quot;</td><td>&quot;R Premadasa Stadium&quot;</td><td>&quot;Colombo&quot;</td><td>&quot;Sri Lanka&quot;</td><td>&quot;bat&quot;</td></tr></tbody></table></div>"
      ],
      "text/plain": [
       "shape: (3_601, 8)\n",
       "┌─────────────┬────────┬─────────┬────────────┬─────────────┬────────────┬────────────┬────────────┐\n",
       "│ team        ┆ gender ┆ season  ┆ date       ┆ venue       ┆ city       ┆ toss_winne ┆ toss_decis │\n",
       "│ ---         ┆ ---    ┆ ---     ┆ ---        ┆ ---         ┆ ---        ┆ r          ┆ ion        │\n",
       "│ str         ┆ str    ┆ str     ┆ str        ┆ str         ┆ str        ┆ ---        ┆ ---        │\n",
       "│             ┆        ┆         ┆            ┆             ┆            ┆ str        ┆ str        │\n",
       "╞═════════════╪════════╪═════════╪════════════╪═════════════╪════════════╪════════════╪════════════╡\n",
       "│ Sri Lanka   ┆ male   ┆ 2016/17 ┆ 2017/02/17 ┆ Melbourne   ┆ null       ┆ Sri Lanka  ┆ field      │\n",
       "│             ┆        ┆         ┆            ┆ Cricket     ┆            ┆            ┆            │\n",
       "│             ┆        ┆         ┆            ┆ Ground      ┆            ┆            ┆            │\n",
       "│ Sri Lanka   ┆ male   ┆ 2016/17 ┆ 2017/02/19 ┆ Simonds     ┆ Victoria   ┆ Sri Lanka  ┆ field      │\n",
       "│             ┆        ┆         ┆            ┆ Stadium,    ┆            ┆            ┆            │\n",
       "│             ┆        ┆         ┆            ┆ South       ┆            ┆            ┆            │\n",
       "│             ┆        ┆         ┆            ┆ Geelong     ┆            ┆            ┆            │\n",
       "│ Sri Lanka   ┆ male   ┆ 2016/17 ┆ 2017/02/22 ┆ Adelaide    ┆ null       ┆ Sri Lanka  ┆ field      │\n",
       "│             ┆        ┆         ┆            ┆ Oval        ┆            ┆            ┆            │\n",
       "│ Hong Kong   ┆ male   ┆ 2016    ┆ 2016/09/05 ┆ Bready      ┆ Londonderr ┆ Hong Kong  ┆ bat        │\n",
       "│             ┆        ┆         ┆            ┆ Cricket     ┆ y          ┆            ┆            │\n",
       "│             ┆        ┆         ┆            ┆ Club,       ┆            ┆            ┆            │\n",
       "│             ┆        ┆         ┆            ┆ Magherama…  ┆            ┆            ┆            │\n",
       "│ India       ┆ male   ┆ 2016    ┆ 2016/06/18 ┆ Harare      ┆ null       ┆ India      ┆ field      │\n",
       "│             ┆        ┆         ┆            ┆ Sports Club ┆            ┆            ┆            │\n",
       "│ …           ┆ …      ┆ …       ┆ …          ┆ …           ┆ …          ┆ …          ┆ …          │\n",
       "│ Sri Lanka   ┆ male   ┆ 2015/16 ┆ 2016/03/04 ┆ Shere       ┆ Mirpur     ┆ Pakistan   ┆ field      │\n",
       "│             ┆        ┆         ┆            ┆ Bangla      ┆            ┆            ┆            │\n",
       "│             ┆        ┆         ┆            ┆ National    ┆            ┆            ┆            │\n",
       "│             ┆        ┆         ┆            ┆ Stadium     ┆            ┆            ┆            │\n",
       "│ India       ┆ male   ┆ 2015/16 ┆ 2016/03/06 ┆ Shere       ┆ Mirpur     ┆ India      ┆ field      │\n",
       "│             ┆        ┆         ┆            ┆ Bangla      ┆            ┆            ┆            │\n",
       "│             ┆        ┆         ┆            ┆ National    ┆            ┆            ┆            │\n",
       "│             ┆        ┆         ┆            ┆ Stadium     ┆            ┆            ┆            │\n",
       "│ Netherlands ┆ male   ┆ 2015/16 ┆ 2016/02/03 ┆ ICC Academy ┆ Dubai      ┆ United     ┆ field      │\n",
       "│             ┆        ┆         ┆            ┆             ┆            ┆ Arab       ┆            │\n",
       "│             ┆        ┆         ┆            ┆             ┆            ┆ Emirates   ┆            │\n",
       "│ Australia   ┆ male   ┆ 2016    ┆ 2016/09/06 ┆ Pallekele   ┆ null       ┆ Sri Lanka  ┆ field      │\n",
       "│             ┆        ┆         ┆            ┆ Internation ┆            ┆            ┆            │\n",
       "│             ┆        ┆         ┆            ┆ al Cricke…  ┆            ┆            ┆            │\n",
       "│ Australia   ┆ male   ┆ 2016    ┆ 2016/09/09 ┆ R Premadasa ┆ Colombo    ┆ Sri Lanka  ┆ bat        │\n",
       "│             ┆        ┆         ┆            ┆ Stadium     ┆            ┆            ┆            │\n",
       "└─────────────┴────────┴─────────┴────────────┴─────────────┴────────────┴────────────┴────────────┘"
      ]
     },
     "execution_count": 11,
     "metadata": {},
     "output_type": "execute_result"
    }
   ],
   "source": [
    "initial_schema={'col1':pl.String,'attributes':pl.String,'values':pl.String,'players':pl.String,'code':pl.String}\n",
    "final_schema=([\n",
    "             ('team', pl.String),\n",
    "             ('gender', pl.String),\n",
    "             ('season', pl.String),\n",
    "             ('date', pl.String),\n",
    "             ('venue', pl.String),\n",
    "             ('city', pl.String),\n",
    "             ('toss_winner', pl.String),\n",
    "             ('toss_decision', pl.String),\n",
    "            #  ('winner', pl.String),\n",
    "             ])\n",
    "final_schema_dict = {key: value for key, value in final_schema}\n",
    "\n",
    "matches_data=pl.DataFrame(schema=final_schema)\n",
    "for match in matches:\n",
    "    match=pl.read_csv('./t20s_csv2/'+match,schema=initial_schema)\n",
    "    match= match.select(\"attributes\",\"values\")\n",
    "    match=match.transpose(include_header=True,column_names=\"attributes\").drop(\"column\").select(final_schema_dict.keys())\n",
    "    matches_data=matches_data.vstack(match)\n",
    "matches_data"
   ]
  },
  {
   "cell_type": "code",
   "execution_count": 18,
   "metadata": {},
   "outputs": [
    {
     "data": {
      "text/html": [
       "<div><style>\n",
       ".dataframe > thead > tr,\n",
       ".dataframe > tbody > tr {\n",
       "  text-align: right;\n",
       "  white-space: pre-wrap;\n",
       "}\n",
       "</style>\n",
       "<small>shape: (3_601, 9)</small><table border=\"1\" class=\"dataframe\"><thead><tr><th>team</th><th>gender</th><th>season</th><th>date</th><th>venue</th><th>city</th><th>toss_winner</th><th>toss_decision</th><th>match_id</th></tr><tr><td>str</td><td>str</td><td>str</td><td>str</td><td>str</td><td>str</td><td>str</td><td>str</td><td>i64</td></tr></thead><tbody><tr><td>&quot;Sri Lanka&quot;</td><td>&quot;male&quot;</td><td>&quot;2016/17&quot;</td><td>&quot;2017/02/17&quot;</td><td>&quot;Melbourne Cricket Ground&quot;</td><td>null</td><td>&quot;Sri Lanka&quot;</td><td>&quot;field&quot;</td><td>1001349</td></tr><tr><td>&quot;Sri Lanka&quot;</td><td>&quot;male&quot;</td><td>&quot;2016/17&quot;</td><td>&quot;2017/02/19&quot;</td><td>&quot;Simonds Stadium, South Geelong&quot;</td><td>&quot;Victoria&quot;</td><td>&quot;Sri Lanka&quot;</td><td>&quot;field&quot;</td><td>1001351</td></tr><tr><td>&quot;Sri Lanka&quot;</td><td>&quot;male&quot;</td><td>&quot;2016/17&quot;</td><td>&quot;2017/02/22&quot;</td><td>&quot;Adelaide Oval&quot;</td><td>null</td><td>&quot;Sri Lanka&quot;</td><td>&quot;field&quot;</td><td>1001353</td></tr><tr><td>&quot;Hong Kong&quot;</td><td>&quot;male&quot;</td><td>&quot;2016&quot;</td><td>&quot;2016/09/05&quot;</td><td>&quot;Bready Cricket Club, Magherama…</td><td>&quot;Londonderry&quot;</td><td>&quot;Hong Kong&quot;</td><td>&quot;bat&quot;</td><td>1004729</td></tr><tr><td>&quot;India&quot;</td><td>&quot;male&quot;</td><td>&quot;2016&quot;</td><td>&quot;2016/06/18&quot;</td><td>&quot;Harare Sports Club&quot;</td><td>null</td><td>&quot;India&quot;</td><td>&quot;field&quot;</td><td>1007655</td></tr><tr><td>&hellip;</td><td>&hellip;</td><td>&hellip;</td><td>&hellip;</td><td>&hellip;</td><td>&hellip;</td><td>&hellip;</td><td>&hellip;</td><td>&hellip;</td></tr><tr><td>&quot;Sri Lanka&quot;</td><td>&quot;male&quot;</td><td>&quot;2015/16&quot;</td><td>&quot;2016/03/04&quot;</td><td>&quot;Shere Bangla National Stadium&quot;</td><td>&quot;Mirpur&quot;</td><td>&quot;Pakistan&quot;</td><td>&quot;field&quot;</td><td>966763</td></tr><tr><td>&quot;India&quot;</td><td>&quot;male&quot;</td><td>&quot;2015/16&quot;</td><td>&quot;2016/03/06&quot;</td><td>&quot;Shere Bangla National Stadium&quot;</td><td>&quot;Mirpur&quot;</td><td>&quot;India&quot;</td><td>&quot;field&quot;</td><td>966765</td></tr><tr><td>&quot;Netherlands&quot;</td><td>&quot;male&quot;</td><td>&quot;2015/16&quot;</td><td>&quot;2016/02/03&quot;</td><td>&quot;ICC Academy&quot;</td><td>&quot;Dubai&quot;</td><td>&quot;United Arab Emirates&quot;</td><td>&quot;field&quot;</td><td>967081</td></tr><tr><td>&quot;Australia&quot;</td><td>&quot;male&quot;</td><td>&quot;2016&quot;</td><td>&quot;2016/09/06&quot;</td><td>&quot;Pallekele International Cricke…</td><td>null</td><td>&quot;Sri Lanka&quot;</td><td>&quot;field&quot;</td><td>995467</td></tr><tr><td>&quot;Australia&quot;</td><td>&quot;male&quot;</td><td>&quot;2016&quot;</td><td>&quot;2016/09/09&quot;</td><td>&quot;R Premadasa Stadium&quot;</td><td>&quot;Colombo&quot;</td><td>&quot;Sri Lanka&quot;</td><td>&quot;bat&quot;</td><td>995469</td></tr></tbody></table></div>"
      ],
      "text/plain": [
       "shape: (3_601, 9)\n",
       "┌────────────┬────────┬─────────┬────────────┬───┬────────────┬────────────┬────────────┬──────────┐\n",
       "│ team       ┆ gender ┆ season  ┆ date       ┆ … ┆ city       ┆ toss_winne ┆ toss_decis ┆ match_id │\n",
       "│ ---        ┆ ---    ┆ ---     ┆ ---        ┆   ┆ ---        ┆ r          ┆ ion        ┆ ---      │\n",
       "│ str        ┆ str    ┆ str     ┆ str        ┆   ┆ str        ┆ ---        ┆ ---        ┆ i64      │\n",
       "│            ┆        ┆         ┆            ┆   ┆            ┆ str        ┆ str        ┆          │\n",
       "╞════════════╪════════╪═════════╪════════════╪═══╪════════════╪════════════╪════════════╪══════════╡\n",
       "│ Sri Lanka  ┆ male   ┆ 2016/17 ┆ 2017/02/17 ┆ … ┆ null       ┆ Sri Lanka  ┆ field      ┆ 1001349  │\n",
       "│ Sri Lanka  ┆ male   ┆ 2016/17 ┆ 2017/02/19 ┆ … ┆ Victoria   ┆ Sri Lanka  ┆ field      ┆ 1001351  │\n",
       "│ Sri Lanka  ┆ male   ┆ 2016/17 ┆ 2017/02/22 ┆ … ┆ null       ┆ Sri Lanka  ┆ field      ┆ 1001353  │\n",
       "│ Hong Kong  ┆ male   ┆ 2016    ┆ 2016/09/05 ┆ … ┆ Londonderr ┆ Hong Kong  ┆ bat        ┆ 1004729  │\n",
       "│            ┆        ┆         ┆            ┆   ┆ y          ┆            ┆            ┆          │\n",
       "│ India      ┆ male   ┆ 2016    ┆ 2016/06/18 ┆ … ┆ null       ┆ India      ┆ field      ┆ 1007655  │\n",
       "│ …          ┆ …      ┆ …       ┆ …          ┆ … ┆ …          ┆ …          ┆ …          ┆ …        │\n",
       "│ Sri Lanka  ┆ male   ┆ 2015/16 ┆ 2016/03/04 ┆ … ┆ Mirpur     ┆ Pakistan   ┆ field      ┆ 966763   │\n",
       "│ India      ┆ male   ┆ 2015/16 ┆ 2016/03/06 ┆ … ┆ Mirpur     ┆ India      ┆ field      ┆ 966765   │\n",
       "│ Netherland ┆ male   ┆ 2015/16 ┆ 2016/02/03 ┆ … ┆ Dubai      ┆ United     ┆ field      ┆ 967081   │\n",
       "│ s          ┆        ┆         ┆            ┆   ┆            ┆ Arab       ┆            ┆          │\n",
       "│            ┆        ┆         ┆            ┆   ┆            ┆ Emirates   ┆            ┆          │\n",
       "│ Australia  ┆ male   ┆ 2016    ┆ 2016/09/06 ┆ … ┆ null       ┆ Sri Lanka  ┆ field      ┆ 995467   │\n",
       "│ Australia  ┆ male   ┆ 2016    ┆ 2016/09/09 ┆ … ┆ Colombo    ┆ Sri Lanka  ┆ bat        ┆ 995469   │\n",
       "└────────────┴────────┴─────────┴────────────┴───┴────────────┴────────────┴────────────┴──────────┘"
      ]
     },
     "execution_count": 18,
     "metadata": {},
     "output_type": "execute_result"
    }
   ],
   "source": [
    "matches_data=matches_data.with_columns(pl.Series(match_ids).alias(\"match_id\").cast(pl.Int64))\n",
    "matches_data"
   ]
  },
  {
   "cell_type": "code",
   "execution_count": 19,
   "metadata": {},
   "outputs": [],
   "source": [
    "matches_data.write_parquet('./historical_data/matches.parquet')"
   ]
  },
  {
   "cell_type": "code",
   "execution_count": 66,
   "metadata": {},
   "outputs": [
    {
     "data": {
      "text/html": [
       "<div><style>\n",
       ".dataframe > thead > tr,\n",
       ".dataframe > tbody > tr {\n",
       "  text-align: right;\n",
       "  white-space: pre-wrap;\n",
       "}\n",
       "</style>\n",
       "<small>shape: (64, 4)</small><table border=\"1\" class=\"dataframe\"><thead><tr><th>attributes</th><th>values</th><th>players</th><th>code</th></tr><tr><td>str</td><td>str</td><td>str</td><td>str</td></tr></thead><tbody><tr><td>&quot;balls_per_over&quot;</td><td>&quot;6&quot;</td><td>null</td><td>null</td></tr><tr><td>&quot;team&quot;</td><td>&quot;Kenya&quot;</td><td>null</td><td>null</td></tr><tr><td>&quot;team&quot;</td><td>&quot;Rwanda&quot;</td><td>null</td><td>null</td></tr><tr><td>&quot;gender&quot;</td><td>&quot;male&quot;</td><td>null</td><td>null</td></tr><tr><td>&quot;season&quot;</td><td>&quot;2024&quot;</td><td>null</td><td>null</td></tr><tr><td>&hellip;</td><td>&hellip;</td><td>&hellip;</td><td>&hellip;</td></tr><tr><td>&quot;registry&quot;</td><td>&quot;people&quot;</td><td>&quot;SO Ngoche&quot;</td><td>&quot;49118dc7&quot;</td></tr><tr><td>&quot;registry&quot;</td><td>&quot;people&quot;</td><td>&quot;Tanzeel Sheikh&quot;</td><td>&quot;5493ad5c&quot;</td></tr><tr><td>&quot;registry&quot;</td><td>&quot;people&quot;</td><td>&quot;Vraj Patel&quot;</td><td>&quot;2af28253&quot;</td></tr><tr><td>&quot;registry&quot;</td><td>&quot;people&quot;</td><td>&quot;Yves Cyusa&quot;</td><td>&quot;b5aa28ce&quot;</td></tr><tr><td>&quot;registry&quot;</td><td>&quot;people&quot;</td><td>&quot;Z Bimenyimana&quot;</td><td>&quot;ba57fb08&quot;</td></tr></tbody></table></div>"
      ],
      "text/plain": [
       "shape: (64, 4)\n",
       "┌────────────────┬────────┬────────────────┬──────────┐\n",
       "│ attributes     ┆ values ┆ players        ┆ code     │\n",
       "│ ---            ┆ ---    ┆ ---            ┆ ---      │\n",
       "│ str            ┆ str    ┆ str            ┆ str      │\n",
       "╞════════════════╪════════╪════════════════╪══════════╡\n",
       "│ balls_per_over ┆ 6      ┆ null           ┆ null     │\n",
       "│ team           ┆ Kenya  ┆ null           ┆ null     │\n",
       "│ team           ┆ Rwanda ┆ null           ┆ null     │\n",
       "│ gender         ┆ male   ┆ null           ┆ null     │\n",
       "│ season         ┆ 2024   ┆ null           ┆ null     │\n",
       "│ …              ┆ …      ┆ …              ┆ …        │\n",
       "│ registry       ┆ people ┆ SO Ngoche      ┆ 49118dc7 │\n",
       "│ registry       ┆ people ┆ Tanzeel Sheikh ┆ 5493ad5c │\n",
       "│ registry       ┆ people ┆ Vraj Patel     ┆ 2af28253 │\n",
       "│ registry       ┆ people ┆ Yves Cyusa     ┆ b5aa28ce │\n",
       "│ registry       ┆ people ┆ Z Bimenyimana  ┆ ba57fb08 │\n",
       "└────────────────┴────────┴────────────────┴──────────┘"
      ]
     },
     "execution_count": 66,
     "metadata": {},
     "output_type": "execute_result"
    }
   ],
   "source": [
    "# Path to the CSV file\n",
    "csv_file_path = 't20s_csv2/1441145_info.csv'\n",
    "\n",
    "# Read the CSV file, handle quotes and ignore bad lines\n",
    "df = pl.read_csv(csv_file_path, schema={'col1':pl.String,'attributes':pl.String,'values':pl.String,'players':pl.String,'code':pl.String}).drop('col1')\n",
    "\n",
    "# Display the DataFrame\n",
    "df"
   ]
  },
  {
   "cell_type": "code",
   "execution_count": 67,
   "metadata": {},
   "outputs": [
    {
     "data": {
      "text/html": [
       "<div><style>\n",
       ".dataframe > thead > tr,\n",
       ".dataframe > tbody > tr {\n",
       "  text-align: right;\n",
       "  white-space: pre-wrap;\n",
       "}\n",
       "</style>\n",
       "<small>shape: (64, 2)</small><table border=\"1\" class=\"dataframe\"><thead><tr><th>attributes</th><th>values</th></tr><tr><td>str</td><td>str</td></tr></thead><tbody><tr><td>&quot;balls_per_over&quot;</td><td>&quot;6&quot;</td></tr><tr><td>&quot;team&quot;</td><td>&quot;Kenya&quot;</td></tr><tr><td>&quot;team&quot;</td><td>&quot;Rwanda&quot;</td></tr><tr><td>&quot;gender&quot;</td><td>&quot;male&quot;</td></tr><tr><td>&quot;season&quot;</td><td>&quot;2024&quot;</td></tr><tr><td>&hellip;</td><td>&hellip;</td></tr><tr><td>&quot;registry&quot;</td><td>&quot;people&quot;</td></tr><tr><td>&quot;registry&quot;</td><td>&quot;people&quot;</td></tr><tr><td>&quot;registry&quot;</td><td>&quot;people&quot;</td></tr><tr><td>&quot;registry&quot;</td><td>&quot;people&quot;</td></tr><tr><td>&quot;registry&quot;</td><td>&quot;people&quot;</td></tr></tbody></table></div>"
      ],
      "text/plain": [
       "shape: (64, 2)\n",
       "┌────────────────┬────────┐\n",
       "│ attributes     ┆ values │\n",
       "│ ---            ┆ ---    │\n",
       "│ str            ┆ str    │\n",
       "╞════════════════╪════════╡\n",
       "│ balls_per_over ┆ 6      │\n",
       "│ team           ┆ Kenya  │\n",
       "│ team           ┆ Rwanda │\n",
       "│ gender         ┆ male   │\n",
       "│ season         ┆ 2024   │\n",
       "│ …              ┆ …      │\n",
       "│ registry       ┆ people │\n",
       "│ registry       ┆ people │\n",
       "│ registry       ┆ people │\n",
       "│ registry       ┆ people │\n",
       "│ registry       ┆ people │\n",
       "└────────────────┴────────┘"
      ]
     },
     "execution_count": 67,
     "metadata": {},
     "output_type": "execute_result"
    }
   ],
   "source": [
    "data= df.select(\"attributes\",\"values\")\n",
    "data"
   ]
  },
  {
   "cell_type": "code",
   "execution_count": 92,
   "metadata": {},
   "outputs": [
    {
     "data": {
      "text/plain": [
       "OrderedDict([('balls_per_over', String),\n",
       "             ('team', String),\n",
       "             ('gender', String),\n",
       "             ('season', String),\n",
       "             ('date', String),\n",
       "             ('event', String),\n",
       "             ('match_number', String),\n",
       "             ('venue', String),\n",
       "             ('city', String),\n",
       "             ('toss_winner', String),\n",
       "             ('toss_decision', String),\n",
       "             ('player_of_match', String),\n",
       "             ('umpire', String),\n",
       "             ('winner', String),\n",
       "             ('winner_runs', String),\n",
       "             ('player', String),\n",
       "             ('registry', String)])"
      ]
     },
     "execution_count": 92,
     "metadata": {},
     "output_type": "execute_result"
    }
   ],
   "source": [
    "data.transpose(include_header=True,column_names=\"attributes\").drop(\"column\").schema"
   ]
  },
  {
   "cell_type": "code",
   "execution_count": null,
   "metadata": {},
   "outputs": [],
   "source": []
  }
 ],
 "metadata": {
  "kernelspec": {
   "display_name": "eda",
   "language": "python",
   "name": "python3"
  },
  "language_info": {
   "codemirror_mode": {
    "name": "ipython",
    "version": 3
   },
   "file_extension": ".py",
   "mimetype": "text/x-python",
   "name": "python",
   "nbconvert_exporter": "python",
   "pygments_lexer": "ipython3",
   "version": "3.8.19"
  }
 },
 "nbformat": 4,
 "nbformat_minor": 2
}
