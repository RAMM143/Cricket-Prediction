{
 "cells": [
  {
   "cell_type": "code",
   "execution_count": 22,
   "metadata": {},
   "outputs": [],
   "source": [
    "import os\n",
    "import glob\n",
    "import polars as pl\n",
    "\n",
    "# Specify the directory where your CSV files are located\n",
    "directory = '.\\\\t20s_csv2'\n",
    "\n",
    "# Use glob to find all CSV files in the specified directory\n",
    "info_files = glob.glob(os.path.join(directory, '*_info.csv'))\n",
    "delivery_files = glob.glob(os.path.join(directory,'*.csv'))\n",
    "\n",
    "matches=[]\n",
    "deliveries=[]\n",
    "# Print the list of CSV files\n",
    "for info_file in info_files:\n",
    "    matches.append(info_file.split('\\\\')[-1])\n",
    "for delivery in delivery_files:\n",
    "    if '_info' not in delivery:\n",
    "        deliveries.append(delivery.split('\\\\')[-1])"
   ]
  },
  {
   "cell_type": "markdown",
   "metadata": {},
   "source": [
    "# Matches"
   ]
  },
  {
   "cell_type": "code",
   "execution_count": 23,
   "metadata": {},
   "outputs": [
    {
     "data": {
      "text/html": [
       "<div><style>\n",
       ".dataframe > thead > tr,\n",
       ".dataframe > tbody > tr {\n",
       "  text-align: right;\n",
       "  white-space: pre-wrap;\n",
       "}\n",
       "</style>\n",
       "<small>shape: (3_490, 11)</small><table border=\"1\" class=\"dataframe\"><thead><tr><th>team1</th><th>team2</th><th>gender</th><th>season</th><th>date</th><th>venue</th><th>city</th><th>toss_winner</th><th>toss_decision</th><th>winner</th><th>match_id</th></tr><tr><td>str</td><td>str</td><td>str</td><td>str</td><td>str</td><td>str</td><td>str</td><td>str</td><td>str</td><td>str</td><td>i64</td></tr></thead><tbody><tr><td>&quot;Australia&quot;</td><td>&quot;Sri Lanka&quot;</td><td>&quot;male&quot;</td><td>&quot;2016/17&quot;</td><td>&quot;2017/02/17&quot;</td><td>&quot;Melbourne Cricket Ground&quot;</td><td>null</td><td>&quot;Sri Lanka&quot;</td><td>&quot;field&quot;</td><td>&quot;Sri Lanka&quot;</td><td>1001349</td></tr><tr><td>&quot;Australia&quot;</td><td>&quot;Sri Lanka&quot;</td><td>&quot;male&quot;</td><td>&quot;2016/17&quot;</td><td>&quot;2017/02/19&quot;</td><td>&quot;Simonds Stadium, South Geelong&quot;</td><td>&quot;Victoria&quot;</td><td>&quot;Sri Lanka&quot;</td><td>&quot;field&quot;</td><td>&quot;Sri Lanka&quot;</td><td>1001351</td></tr><tr><td>&quot;Australia&quot;</td><td>&quot;Sri Lanka&quot;</td><td>&quot;male&quot;</td><td>&quot;2016/17&quot;</td><td>&quot;2017/02/22&quot;</td><td>&quot;Adelaide Oval&quot;</td><td>null</td><td>&quot;Sri Lanka&quot;</td><td>&quot;field&quot;</td><td>&quot;Australia&quot;</td><td>1001353</td></tr><tr><td>&quot;Ireland&quot;</td><td>&quot;Hong Kong&quot;</td><td>&quot;male&quot;</td><td>&quot;2016&quot;</td><td>&quot;2016/09/05&quot;</td><td>&quot;Bready Cricket Club, Magherama…</td><td>&quot;Londonderry&quot;</td><td>&quot;Hong Kong&quot;</td><td>&quot;bat&quot;</td><td>&quot;Hong Kong&quot;</td><td>1004729</td></tr><tr><td>&quot;Zimbabwe&quot;</td><td>&quot;India&quot;</td><td>&quot;male&quot;</td><td>&quot;2016&quot;</td><td>&quot;2016/06/18&quot;</td><td>&quot;Harare Sports Club&quot;</td><td>null</td><td>&quot;India&quot;</td><td>&quot;field&quot;</td><td>&quot;Zimbabwe&quot;</td><td>1007655</td></tr><tr><td>&hellip;</td><td>&hellip;</td><td>&hellip;</td><td>&hellip;</td><td>&hellip;</td><td>&hellip;</td><td>&hellip;</td><td>&hellip;</td><td>&hellip;</td><td>&hellip;</td><td>&hellip;</td></tr><tr><td>&quot;Pakistan&quot;</td><td>&quot;Sri Lanka&quot;</td><td>&quot;male&quot;</td><td>&quot;2015/16&quot;</td><td>&quot;2016/03/04&quot;</td><td>&quot;Shere Bangla National Stadium&quot;</td><td>&quot;Mirpur&quot;</td><td>&quot;Pakistan&quot;</td><td>&quot;field&quot;</td><td>&quot;Pakistan&quot;</td><td>966763</td></tr><tr><td>&quot;Bangladesh&quot;</td><td>&quot;India&quot;</td><td>&quot;male&quot;</td><td>&quot;2015/16&quot;</td><td>&quot;2016/03/06&quot;</td><td>&quot;Shere Bangla National Stadium&quot;</td><td>&quot;Mirpur&quot;</td><td>&quot;India&quot;</td><td>&quot;field&quot;</td><td>&quot;India&quot;</td><td>966765</td></tr><tr><td>&quot;United Arab Emirates&quot;</td><td>&quot;Netherlands&quot;</td><td>&quot;male&quot;</td><td>&quot;2015/16&quot;</td><td>&quot;2016/02/03&quot;</td><td>&quot;ICC Academy&quot;</td><td>&quot;Dubai&quot;</td><td>&quot;United Arab Emirates&quot;</td><td>&quot;field&quot;</td><td>&quot;Netherlands&quot;</td><td>967081</td></tr><tr><td>&quot;Sri Lanka&quot;</td><td>&quot;Australia&quot;</td><td>&quot;male&quot;</td><td>&quot;2016&quot;</td><td>&quot;2016/09/06&quot;</td><td>&quot;Pallekele International Cricke…</td><td>null</td><td>&quot;Sri Lanka&quot;</td><td>&quot;field&quot;</td><td>&quot;Australia&quot;</td><td>995467</td></tr><tr><td>&quot;Sri Lanka&quot;</td><td>&quot;Australia&quot;</td><td>&quot;male&quot;</td><td>&quot;2016&quot;</td><td>&quot;2016/09/09&quot;</td><td>&quot;R Premadasa Stadium&quot;</td><td>&quot;Colombo&quot;</td><td>&quot;Sri Lanka&quot;</td><td>&quot;bat&quot;</td><td>&quot;Australia&quot;</td><td>995469</td></tr></tbody></table></div>"
      ],
      "text/plain": [
       "shape: (3_490, 11)\n",
       "┌────────────┬────────────┬────────┬─────────┬───┬────────────┬────────────┬────────────┬──────────┐\n",
       "│ team1      ┆ team2      ┆ gender ┆ season  ┆ … ┆ toss_winne ┆ toss_decis ┆ winner     ┆ match_id │\n",
       "│ ---        ┆ ---        ┆ ---    ┆ ---     ┆   ┆ r          ┆ ion        ┆ ---        ┆ ---      │\n",
       "│ str        ┆ str        ┆ str    ┆ str     ┆   ┆ ---        ┆ ---        ┆ str        ┆ i64      │\n",
       "│            ┆            ┆        ┆         ┆   ┆ str        ┆ str        ┆            ┆          │\n",
       "╞════════════╪════════════╪════════╪═════════╪═══╪════════════╪════════════╪════════════╪══════════╡\n",
       "│ Australia  ┆ Sri Lanka  ┆ male   ┆ 2016/17 ┆ … ┆ Sri Lanka  ┆ field      ┆ Sri Lanka  ┆ 1001349  │\n",
       "│ Australia  ┆ Sri Lanka  ┆ male   ┆ 2016/17 ┆ … ┆ Sri Lanka  ┆ field      ┆ Sri Lanka  ┆ 1001351  │\n",
       "│ Australia  ┆ Sri Lanka  ┆ male   ┆ 2016/17 ┆ … ┆ Sri Lanka  ┆ field      ┆ Australia  ┆ 1001353  │\n",
       "│ Ireland    ┆ Hong Kong  ┆ male   ┆ 2016    ┆ … ┆ Hong Kong  ┆ bat        ┆ Hong Kong  ┆ 1004729  │\n",
       "│ Zimbabwe   ┆ India      ┆ male   ┆ 2016    ┆ … ┆ India      ┆ field      ┆ Zimbabwe   ┆ 1007655  │\n",
       "│ …          ┆ …          ┆ …      ┆ …       ┆ … ┆ …          ┆ …          ┆ …          ┆ …        │\n",
       "│ Pakistan   ┆ Sri Lanka  ┆ male   ┆ 2015/16 ┆ … ┆ Pakistan   ┆ field      ┆ Pakistan   ┆ 966763   │\n",
       "│ Bangladesh ┆ India      ┆ male   ┆ 2015/16 ┆ … ┆ India      ┆ field      ┆ India      ┆ 966765   │\n",
       "│ United     ┆ Netherland ┆ male   ┆ 2015/16 ┆ … ┆ United     ┆ field      ┆ Netherland ┆ 967081   │\n",
       "│ Arab       ┆ s          ┆        ┆         ┆   ┆ Arab       ┆            ┆ s          ┆          │\n",
       "│ Emirates   ┆            ┆        ┆         ┆   ┆ Emirates   ┆            ┆            ┆          │\n",
       "│ Sri Lanka  ┆ Australia  ┆ male   ┆ 2016    ┆ … ┆ Sri Lanka  ┆ field      ┆ Australia  ┆ 995467   │\n",
       "│ Sri Lanka  ┆ Australia  ┆ male   ┆ 2016    ┆ … ┆ Sri Lanka  ┆ bat        ┆ Australia  ┆ 995469   │\n",
       "└────────────┴────────────┴────────┴─────────┴───┴────────────┴────────────┴────────────┴──────────┘"
      ]
     },
     "execution_count": 23,
     "metadata": {},
     "output_type": "execute_result"
    }
   ],
   "source": [
    "match_ids=[]\n",
    "for csv_file in matches:\n",
    "    match_ids.append(csv_file.split('_')[0])\n",
    "    \n",
    "# Define the initial and final schemas\n",
    "initial_schema = {'col1': pl.String, 'attributes': pl.String, 'values': pl.String, 'players': pl.String, 'code': pl.String}\n",
    "final_schema = [\n",
    "    ('team1', pl.String),\n",
    "    ('team2', pl.String),\n",
    "    ('gender', pl.String),\n",
    "    ('season', pl.String),\n",
    "    ('date', pl.String),\n",
    "    ('venue', pl.String),\n",
    "    ('city', pl.String),\n",
    "    ('toss_winner', pl.String),\n",
    "    ('toss_decision', pl.String),\n",
    "    ('winner', pl.String),\n",
    "]\n",
    "\n",
    "# Create a dictionary from the final schema\n",
    "final_schema_dict = {key: value for key, value in final_schema}\n",
    "\n",
    "# Initialize an empty DataFrame with the final schema\n",
    "matches_data = pl.DataFrame(schema=final_schema_dict)\n",
    "\n",
    "# List to store recalculated match IDs\n",
    "recalculated_matchids = match_ids[:]\n",
    "\n",
    "# Iterate over matches and process each one\n",
    "for idx, match in enumerate(matches):\n",
    "    try:\n",
    "        match_df = pl.read_csv(f'./t20s_csv2/{match}', schema=initial_schema)\n",
    "        \n",
    "        # Extract team names\n",
    "        team1_name = match_df[1, 'values']\n",
    "        team2_name = match_df[2, 'values']\n",
    "        \n",
    "        # Replace team names\n",
    "        match_df = match_df.with_columns([\n",
    "            pl.when((pl.col('attributes') == 'team') & (pl.col('values') == team1_name))\n",
    "            .then(pl.lit('team1'))\n",
    "            .when((pl.col('attributes') == 'team') & (pl.col('values') == team2_name))\n",
    "            .then(pl.lit('team2'))\n",
    "            .otherwise(pl.col('attributes'))\n",
    "            .alias('attributes')\n",
    "        ])\n",
    "        \n",
    "        # Select and transpose the DataFrame\n",
    "        match_transposed = match_df.select(\"attributes\", \"values\").transpose(include_header=True, column_names=\"attributes\").drop(\"column\")\n",
    "        \n",
    "        # Ensure all columns in final_schema_dict are present\n",
    "        missing_cols = [col for col in final_schema_dict.keys() if col not in match_transposed.columns]\n",
    "        if missing_cols:\n",
    "            raise ValueError(f\"Missing columns: {missing_cols}\")\n",
    "\n",
    "        # Select the required columns and append to matches_data\n",
    "        match_transposed = match_transposed.select(final_schema_dict.keys())\n",
    "        matches_data = matches_data.vstack(match_transposed)\n",
    "    except Exception as e:\n",
    "        recalculated_matchids.remove(match_ids[idx])\n",
    "matches_data=matches_data.with_columns(pl.Series(recalculated_matchids).alias(\"match_id\").cast(pl.Int64))\n",
    "matches_data"
   ]
  },
  {
   "cell_type": "code",
   "execution_count": 24,
   "metadata": {},
   "outputs": [
    {
     "data": {
      "text/html": [
       "<div><style>\n",
       ".dataframe > thead > tr,\n",
       ".dataframe > tbody > tr {\n",
       "  text-align: right;\n",
       "  white-space: pre-wrap;\n",
       "}\n",
       "</style>\n",
       "<small>shape: (3_463, 22)</small><table border=\"1\" class=\"dataframe\"><thead><tr><th>team1_player1</th><th>team1_player2</th><th>team1_player3</th><th>team1_player4</th><th>team1_player5</th><th>team1_player6</th><th>team1_player7</th><th>team1_player8</th><th>team1_player9</th><th>team1_player10</th><th>team1_player11</th><th>team2_players1</th><th>team2_players2</th><th>team2_players3</th><th>team2_players4</th><th>team2_players5</th><th>team2_players6</th><th>team2_players7</th><th>team2_players8</th><th>team2_players9</th><th>team2_players10</th><th>team2_players11</th></tr><tr><td>str</td><td>str</td><td>str</td><td>str</td><td>str</td><td>str</td><td>str</td><td>str</td><td>str</td><td>str</td><td>str</td><td>str</td><td>str</td><td>str</td><td>str</td><td>str</td><td>str</td><td>str</td><td>str</td><td>str</td><td>str</td><td>str</td></tr></thead><tbody><tr><td>&quot;AJ Finch&quot;</td><td>&quot;M Klinger&quot;</td><td>&quot;TM Head&quot;</td><td>&quot;MC Henriques&quot;</td><td>&quot;AJ Turner&quot;</td><td>&quot;JP Faulkner&quot;</td><td>&quot;TD Paine&quot;</td><td>&quot;PJ Cummins&quot;</td><td>&quot;A Zampa&quot;</td><td>&quot;B Stanlake&quot;</td><td>&quot;AJ Tye&quot;</td><td>&quot;N Dickwella&quot;</td><td>&quot;WU Tharanga&quot;</td><td>&quot;EMDY Munaweera&quot;</td><td>&quot;DAS Gunaratne&quot;</td><td>&quot;TAM Siriwardana&quot;</td><td>&quot;CK Kapugedera&quot;</td><td>&quot;S Prasanna&quot;</td><td>&quot;JRMVB Sanjaya&quot;</td><td>&quot;SL Malinga&quot;</td><td>&quot;KMDN Kulasekara&quot;</td><td>&quot;PADLR Sandakan&quot;</td></tr><tr><td>&quot;M Klinger&quot;</td><td>&quot;AJ Finch&quot;</td><td>&quot;BR Dunk&quot;</td><td>&quot;MC Henriques&quot;</td><td>&quot;TM Head&quot;</td><td>&quot;AJ Turner&quot;</td><td>&quot;JP Faulkner&quot;</td><td>&quot;TD Paine&quot;</td><td>&quot;PJ Cummins&quot;</td><td>&quot;AJ Tye&quot;</td><td>&quot;JA Richardson&quot;</td><td>&quot;N Dickwella&quot;</td><td>&quot;WU Tharanga&quot;</td><td>&quot;EMDY Munaweera&quot;</td><td>&quot;BKG Mendis&quot;</td><td>&quot;DAS Gunaratne&quot;</td><td>&quot;TAM Siriwardana&quot;</td><td>&quot;CK Kapugedera&quot;</td><td>&quot;S Prasanna&quot;</td><td>&quot;KMDN Kulasekara&quot;</td><td>&quot;SL Malinga&quot;</td><td>&quot;JRMVB Sanjaya&quot;</td></tr><tr><td>&quot;AJ Finch&quot;</td><td>&quot;M Klinger&quot;</td><td>&quot;BR Dunk&quot;</td><td>&quot;TM Head&quot;</td><td>&quot;MC Henriques&quot;</td><td>&quot;AJ Turner&quot;</td><td>&quot;JP Faulkner&quot;</td><td>&quot;TD Paine&quot;</td><td>&quot;PJ Cummins&quot;</td><td>&quot;JA Richardson&quot;</td><td>&quot;A Zampa&quot;</td><td>&quot;EMDY Munaweera&quot;</td><td>&quot;WU Tharanga&quot;</td><td>&quot;BKG Mendis&quot;</td><td>&quot;DAS Gunaratne&quot;</td><td>&quot;TAM Siriwardana&quot;</td><td>&quot;CK Kapugedera&quot;</td><td>&quot;MD Shanaka&quot;</td><td>&quot;S Prasanna&quot;</td><td>&quot;KMDN Kulasekara&quot;</td><td>&quot;SL Malinga&quot;</td><td>&quot;JRMVB Sanjaya&quot;</td></tr><tr><td>&quot;Nizakat Khan&quot;</td><td>&quot;Aizaz Khan&quot;</td><td>&quot;Babar Hayat&quot;</td><td>&quot;Anshuman Rath&quot;</td><td>&quot;Ehsan Khan&quot;</td><td>&quot;Tanwir Afzal&quot;</td><td>&quot;Shahid Wasif&quot;</td><td>&quot;Tanveer Ahmed&quot;</td><td>&quot;Ehsan Nawaz&quot;</td><td>&quot;Nadeem Ahmed&quot;</td><td>&quot;C Carter&quot;</td><td>&quot;WTS Porterfield&quot;</td><td>&quot;DA Rankin&quot;</td><td>&quot;SP Terry&quot;</td><td>&quot;JNK Shannon&quot;</td><td>&quot;KJ O&#x27;Brien&quot;</td><td>&quot;GJ Thompson&quot;</td><td>&quot;AR McBrine&quot;</td><td>&quot;L Tucker&quot;</td><td>&quot;J Mulder&quot;</td><td>&quot;J Little&quot;</td><td>&quot;CA Young&quot;</td></tr><tr><td>&quot;KL Rahul&quot;</td><td>&quot;Mandeep Singh&quot;</td><td>&quot;AT Rayudu&quot;</td><td>&quot;MK Pandey&quot;</td><td>&quot;KM Jadhav&quot;</td><td>&quot;MS Dhoni&quot;</td><td>&quot;AR Patel&quot;</td><td>&quot;R Dhawan&quot;</td><td>&quot;JJ Bumrah&quot;</td><td>&quot;JD Unadkat&quot;</td><td>&quot;YS Chahal&quot;</td><td>&quot;CJ Chibhabha&quot;</td><td>&quot;H Masakadza&quot;</td><td>&quot;R Mutumbami&quot;</td><td>&quot;Sikandar Raza&quot;</td><td>&quot;MN Waller&quot;</td><td>&quot;CT Mutombodzi&quot;</td><td>&quot;E Chigumbura&quot;</td><td>&quot;AG Cremer&quot;</td><td>&quot;N Madziva&quot;</td><td>&quot;T Muzarabani&quot;</td><td>&quot;DT Tiripano&quot;</td></tr><tr><td>&hellip;</td><td>&hellip;</td><td>&hellip;</td><td>&hellip;</td><td>&hellip;</td><td>&hellip;</td><td>&hellip;</td><td>&hellip;</td><td>&hellip;</td><td>&hellip;</td><td>&hellip;</td><td>&hellip;</td><td>&hellip;</td><td>&hellip;</td><td>&hellip;</td><td>&hellip;</td><td>&hellip;</td><td>&hellip;</td><td>&hellip;</td><td>&hellip;</td><td>&hellip;</td><td>&hellip;</td></tr><tr><td>&quot;Sharjeel Khan&quot;</td><td>&quot;Mohammad Hafeez&quot;</td><td>&quot;Sarfraz Ahmed&quot;</td><td>&quot;Umar Akmal&quot;</td><td>&quot;Shoaib Malik&quot;</td><td>&quot;Iftikhar Ahmed&quot;</td><td>&quot;Shahid Afridi&quot;</td><td>&quot;Mohammad Amir&quot;</td><td>&quot;Wahab Riaz&quot;</td><td>&quot;Mohammad Irfan&quot;</td><td>&quot;Mohammad Nawaz (3)&quot;</td><td>&quot;LD Chandimal&quot;</td><td>&quot;TM Dilshan&quot;</td><td>&quot;GSNFG Jayasuriya&quot;</td><td>&quot;CK Kapugedera&quot;</td><td>&quot;MD Shanaka&quot;</td><td>&quot;TAM Siriwardana&quot;</td><td>&quot;N Dickwella&quot;</td><td>&quot;NLTC Perera&quot;</td><td>&quot;KMDN Kulasekara&quot;</td><td>&quot;HMRKB Herath&quot;</td><td>&quot;PVD Chameera&quot;</td></tr><tr><td>&quot;Tamim Iqbal&quot;</td><td>&quot;Soumya Sarkar&quot;</td><td>&quot;Sabbir Rahman&quot;</td><td>&quot;Shakib Al Hasan&quot;</td><td>&quot;Mushfiqur Rahim&quot;</td><td>&quot;Mashrafe Mortaza&quot;</td><td>&quot;Mahmudullah&quot;</td><td>&quot;Nasir Hossain&quot;</td><td>&quot;Al-Amin Hossain&quot;</td><td>&quot;Abu Hider&quot;</td><td>&quot;Taskin Ahmed&quot;</td><td>&quot;RG Sharma&quot;</td><td>&quot;S Dhawan&quot;</td><td>&quot;V Kohli&quot;</td><td>&quot;MS Dhoni&quot;</td><td>&quot;SK Raina&quot;</td><td>&quot;Yuvraj Singh&quot;</td><td>&quot;HH Pandya&quot;</td><td>&quot;RA Jadeja&quot;</td><td>&quot;R Ashwin&quot;</td><td>&quot;JJ Bumrah&quot;</td><td>&quot;A Nehra&quot;</td></tr><tr><td>&quot;MR Swart&quot;</td><td>&quot;SJ Myburgh&quot;</td><td>&quot;W Barresi&quot;</td><td>&quot;PW Borren&quot;</td><td>&quot;PM Seelaar&quot;</td><td>&quot;MP O&#x27;Dowd&quot;</td><td>&quot;Mudassar Bukhari&quot;</td><td>&quot;MJG Rippon&quot;</td><td>&quot;Sikander Zulfiqar&quot;</td><td>&quot;PA van Meekeren&quot;</td><td>&quot;Ahsan Malik&quot;</td><td>&quot;Hafiz Qaleem&quot;</td><td>&quot;Mohammad Shahzad (2)&quot;</td><td>&quot;Shaiman Anwar&quot;</td><td>&quot;SP Patil&quot;</td><td>&quot;Mohammad Usman&quot;</td><td>&quot;Fahad Tariq&quot;</td><td>&quot;Rohan Mustafa&quot;</td><td>&quot;Mohammad Naveed&quot;</td><td>&quot;Ahmed Raza&quot;</td><td>&quot;Farhan Ahmed&quot;</td><td>&quot;Qadeer Ahmed&quot;</td></tr><tr><td>&quot;GJ Maxwell&quot;</td><td>&quot;DA Warner&quot;</td><td>&quot;UT Khawaja&quot;</td><td>&quot;TM Head&quot;</td><td>&quot;GJ Bailey&quot;</td><td>&quot;MC Henriques&quot;</td><td>&quot;PM Nevill&quot;</td><td>&quot;JP Faulkner&quot;</td><td>&quot;MA Starc&quot;</td><td>&quot;A Zampa&quot;</td><td>&quot;SM Boland&quot;</td><td>&quot;MDKJ Perera&quot;</td><td>&quot;TM Dilshan&quot;</td><td>&quot;DM de Silva&quot;</td><td>&quot;LD Chandimal&quot;</td><td>&quot;BKG Mendis&quot;</td><td>&quot;NLTC Perera&quot;</td><td>&quot;CK Kapugedera&quot;</td><td>&quot;SS Pathirana&quot;</td><td>&quot;SMSM Senanayake&quot;</td><td>&quot;RAS Lakmal&quot;</td><td>&quot;CAK Rajitha&quot;</td></tr><tr><td>&quot;DA Warner&quot;</td><td>&quot;GJ Maxwell&quot;</td><td>&quot;MC Henriques&quot;</td><td>&quot;JP Faulkner&quot;</td><td>&quot;MS Wade&quot;</td><td>&quot;UT Khawaja&quot;</td><td>&quot;TM Head&quot;</td><td>&quot;PM Nevill&quot;</td><td>&quot;MA Starc&quot;</td><td>&quot;A Zampa&quot;</td><td>&quot;JW Hastings&quot;</td><td>&quot;MDKJ Perera&quot;</td><td>&quot;TM Dilshan&quot;</td><td>&quot;DM de Silva&quot;</td><td>&quot;LD Chandimal&quot;</td><td>&quot;BKG Mendis&quot;</td><td>&quot;CK Kapugedera&quot;</td><td>&quot;NLTC Perera&quot;</td><td>&quot;SS Pathirana&quot;</td><td>&quot;S Prasanna&quot;</td><td>&quot;SMSM Senanayake&quot;</td><td>&quot;RAS Lakmal&quot;</td></tr></tbody></table></div>"
      ],
      "text/plain": [
       "shape: (3_463, 22)\n",
       "┌───────────┬───────────┬───────────┬───────────┬───┬───────────┬───────────┬───────────┬──────────┐\n",
       "│ team1_pla ┆ team1_pla ┆ team1_pla ┆ team1_pla ┆ … ┆ team2_pla ┆ team2_pla ┆ team2_pla ┆ team2_pl │\n",
       "│ yer1      ┆ yer2      ┆ yer3      ┆ yer4      ┆   ┆ yers8     ┆ yers9     ┆ yers10    ┆ ayers11  │\n",
       "│ ---       ┆ ---       ┆ ---       ┆ ---       ┆   ┆ ---       ┆ ---       ┆ ---       ┆ ---      │\n",
       "│ str       ┆ str       ┆ str       ┆ str       ┆   ┆ str       ┆ str       ┆ str       ┆ str      │\n",
       "╞═══════════╪═══════════╪═══════════╪═══════════╪═══╪═══════════╪═══════════╪═══════════╪══════════╡\n",
       "│ AJ Finch  ┆ M Klinger ┆ TM Head   ┆ MC        ┆ … ┆ JRMVB     ┆ SL        ┆ KMDN Kula ┆ PADLR    │\n",
       "│           ┆           ┆           ┆ Henriques ┆   ┆ Sanjaya   ┆ Malinga   ┆ sekara    ┆ Sandakan │\n",
       "│ M Klinger ┆ AJ Finch  ┆ BR Dunk   ┆ MC        ┆ … ┆ S         ┆ KMDN Kula ┆ SL        ┆ JRMVB    │\n",
       "│           ┆           ┆           ┆ Henriques ┆   ┆ Prasanna  ┆ sekara    ┆ Malinga   ┆ Sanjaya  │\n",
       "│ AJ Finch  ┆ M Klinger ┆ BR Dunk   ┆ TM Head   ┆ … ┆ S         ┆ KMDN Kula ┆ SL        ┆ JRMVB    │\n",
       "│           ┆           ┆           ┆           ┆   ┆ Prasanna  ┆ sekara    ┆ Malinga   ┆ Sanjaya  │\n",
       "│ Nizakat   ┆ Aizaz     ┆ Babar     ┆ Anshuman  ┆ … ┆ L Tucker  ┆ J Mulder  ┆ J Little  ┆ CA Young │\n",
       "│ Khan      ┆ Khan      ┆ Hayat     ┆ Rath      ┆   ┆           ┆           ┆           ┆          │\n",
       "│ KL Rahul  ┆ Mandeep   ┆ AT Rayudu ┆ MK Pandey ┆ … ┆ AG Cremer ┆ N Madziva ┆ T Muzarab ┆ DT       │\n",
       "│           ┆ Singh     ┆           ┆           ┆   ┆           ┆           ┆ ani       ┆ Tiripano │\n",
       "│ …         ┆ …         ┆ …         ┆ …         ┆ … ┆ …         ┆ …         ┆ …         ┆ …        │\n",
       "│ Sharjeel  ┆ Mohammad  ┆ Sarfraz   ┆ Umar      ┆ … ┆ NLTC      ┆ KMDN Kula ┆ HMRKB     ┆ PVD      │\n",
       "│ Khan      ┆ Hafeez    ┆ Ahmed     ┆ Akmal     ┆   ┆ Perera    ┆ sekara    ┆ Herath    ┆ Chameera │\n",
       "│ Tamim     ┆ Soumya    ┆ Sabbir    ┆ Shakib Al ┆ … ┆ RA Jadeja ┆ R Ashwin  ┆ JJ Bumrah ┆ A Nehra  │\n",
       "│ Iqbal     ┆ Sarkar    ┆ Rahman    ┆ Hasan     ┆   ┆           ┆           ┆           ┆          │\n",
       "│ MR Swart  ┆ SJ        ┆ W Barresi ┆ PW Borren ┆ … ┆ Mohammad  ┆ Ahmed     ┆ Farhan    ┆ Qadeer   │\n",
       "│           ┆ Myburgh   ┆           ┆           ┆   ┆ Naveed    ┆ Raza      ┆ Ahmed     ┆ Ahmed    │\n",
       "│ GJ        ┆ DA Warner ┆ UT        ┆ TM Head   ┆ … ┆ SS        ┆ SMSM Sena ┆ RAS       ┆ CAK      │\n",
       "│ Maxwell   ┆           ┆ Khawaja   ┆           ┆   ┆ Pathirana ┆ nayake    ┆ Lakmal    ┆ Rajitha  │\n",
       "│ DA Warner ┆ GJ        ┆ MC        ┆ JP        ┆ … ┆ SS        ┆ S         ┆ SMSM Sena ┆ RAS      │\n",
       "│           ┆ Maxwell   ┆ Henriques ┆ Faulkner  ┆   ┆ Pathirana ┆ Prasanna  ┆ nayake    ┆ Lakmal   │\n",
       "└───────────┴───────────┴───────────┴───────────┴───┴───────────┴───────────┴───────────┴──────────┘"
      ]
     },
     "execution_count": 24,
     "metadata": {},
     "output_type": "execute_result"
    }
   ],
   "source": [
    "players_schema=([('team1_player1', pl.String),\n",
    "             ('team1_player2', pl.String),\n",
    "             ('team1_player3', pl.String),\n",
    "             ('team1_player4', pl.String),\n",
    "             ('team1_player5', pl.String),\n",
    "             ('team1_player6', pl.String),\n",
    "             ('team1_player7', pl.String),\n",
    "             ('team1_player8', pl.String),\n",
    "             ('team1_player9', pl.String),\n",
    "             ('team1_player10', pl.String),\n",
    "             ('team1_player11', pl.String),\n",
    "             ('team2_players1', pl.String),\n",
    "             ('team2_players2', pl.String),\n",
    "             ('team2_players3', pl.String),\n",
    "             ('team2_players4', pl.String),\n",
    "             ('team2_players5', pl.String),\n",
    "             ('team2_players6', pl.String),\n",
    "             ('team2_players7', pl.String),\n",
    "             ('team2_players8', pl.String),\n",
    "             ('team2_players9', pl.String),\n",
    "             ('team2_players10', pl.String),\n",
    "             ('team2_players11', pl.String)])\n",
    "players_data=pl.DataFrame(schema=players_schema)\n",
    "injured_matches=[]\n",
    "for match_id in recalculated_matchids:\n",
    "    try:\n",
    "        match=pl.read_csv(f'./t20s_csv2/{match_id}_info.csv',schema=initial_schema)\n",
    "        match= match.select(\"attributes\",\"values\",\"players\")\n",
    "        team1_players=match.filter((match['attributes']==\"player\"))[:11][\"players\"]\n",
    "        team2_players=match.filter((match['attributes']==\"player\"))[11:][\"players\"]\n",
    "        match_players=pl.DataFrame(team1_players).transpose(column_names=[f\"team1_player{i}\" for i in range(1,12)])\n",
    "        match_players=match_players.hstack(pl.DataFrame(team2_players).transpose(column_names=[f\"team2_players{i}\" for i in range(1,12)]))\n",
    "        players_data=players_data.vstack(match_players)\n",
    "    except:\n",
    "        injured_matches.append(match_id)\n",
    "        continue\n",
    "players_data"
   ]
  },
  {
   "cell_type": "code",
   "execution_count": 27,
   "metadata": {},
   "outputs": [
    {
     "data": {
      "text/plain": [
       "3463"
      ]
     },
     "execution_count": 27,
     "metadata": {},
     "output_type": "execute_result"
    }
   ],
   "source": [
    "non_injured_matches = [int(match) for match in recalculated_matchids if match not in injured_matches]\n",
    "len(non_injured_matches)"
   ]
  },
  {
   "cell_type": "code",
   "execution_count": 29,
   "metadata": {},
   "outputs": [
    {
     "data": {
      "text/html": [
       "<div><style>\n",
       ".dataframe > thead > tr,\n",
       ".dataframe > tbody > tr {\n",
       "  text-align: right;\n",
       "  white-space: pre-wrap;\n",
       "}\n",
       "</style>\n",
       "<small>shape: (3_463, 11)</small><table border=\"1\" class=\"dataframe\"><thead><tr><th>team1</th><th>team2</th><th>gender</th><th>season</th><th>date</th><th>venue</th><th>city</th><th>toss_winner</th><th>toss_decision</th><th>winner</th><th>match_id</th></tr><tr><td>str</td><td>str</td><td>str</td><td>str</td><td>str</td><td>str</td><td>str</td><td>str</td><td>str</td><td>str</td><td>i64</td></tr></thead><tbody><tr><td>&quot;Australia&quot;</td><td>&quot;Sri Lanka&quot;</td><td>&quot;male&quot;</td><td>&quot;2016/17&quot;</td><td>&quot;2017/02/17&quot;</td><td>&quot;Melbourne Cricket Ground&quot;</td><td>null</td><td>&quot;Sri Lanka&quot;</td><td>&quot;field&quot;</td><td>&quot;Sri Lanka&quot;</td><td>1001349</td></tr><tr><td>&quot;Australia&quot;</td><td>&quot;Sri Lanka&quot;</td><td>&quot;male&quot;</td><td>&quot;2016/17&quot;</td><td>&quot;2017/02/19&quot;</td><td>&quot;Simonds Stadium, South Geelong&quot;</td><td>&quot;Victoria&quot;</td><td>&quot;Sri Lanka&quot;</td><td>&quot;field&quot;</td><td>&quot;Sri Lanka&quot;</td><td>1001351</td></tr><tr><td>&quot;Australia&quot;</td><td>&quot;Sri Lanka&quot;</td><td>&quot;male&quot;</td><td>&quot;2016/17&quot;</td><td>&quot;2017/02/22&quot;</td><td>&quot;Adelaide Oval&quot;</td><td>null</td><td>&quot;Sri Lanka&quot;</td><td>&quot;field&quot;</td><td>&quot;Australia&quot;</td><td>1001353</td></tr><tr><td>&quot;Ireland&quot;</td><td>&quot;Hong Kong&quot;</td><td>&quot;male&quot;</td><td>&quot;2016&quot;</td><td>&quot;2016/09/05&quot;</td><td>&quot;Bready Cricket Club, Magherama…</td><td>&quot;Londonderry&quot;</td><td>&quot;Hong Kong&quot;</td><td>&quot;bat&quot;</td><td>&quot;Hong Kong&quot;</td><td>1004729</td></tr><tr><td>&quot;Zimbabwe&quot;</td><td>&quot;India&quot;</td><td>&quot;male&quot;</td><td>&quot;2016&quot;</td><td>&quot;2016/06/18&quot;</td><td>&quot;Harare Sports Club&quot;</td><td>null</td><td>&quot;India&quot;</td><td>&quot;field&quot;</td><td>&quot;Zimbabwe&quot;</td><td>1007655</td></tr><tr><td>&hellip;</td><td>&hellip;</td><td>&hellip;</td><td>&hellip;</td><td>&hellip;</td><td>&hellip;</td><td>&hellip;</td><td>&hellip;</td><td>&hellip;</td><td>&hellip;</td><td>&hellip;</td></tr><tr><td>&quot;Pakistan&quot;</td><td>&quot;Sri Lanka&quot;</td><td>&quot;male&quot;</td><td>&quot;2015/16&quot;</td><td>&quot;2016/03/04&quot;</td><td>&quot;Shere Bangla National Stadium&quot;</td><td>&quot;Mirpur&quot;</td><td>&quot;Pakistan&quot;</td><td>&quot;field&quot;</td><td>&quot;Pakistan&quot;</td><td>966763</td></tr><tr><td>&quot;Bangladesh&quot;</td><td>&quot;India&quot;</td><td>&quot;male&quot;</td><td>&quot;2015/16&quot;</td><td>&quot;2016/03/06&quot;</td><td>&quot;Shere Bangla National Stadium&quot;</td><td>&quot;Mirpur&quot;</td><td>&quot;India&quot;</td><td>&quot;field&quot;</td><td>&quot;India&quot;</td><td>966765</td></tr><tr><td>&quot;United Arab Emirates&quot;</td><td>&quot;Netherlands&quot;</td><td>&quot;male&quot;</td><td>&quot;2015/16&quot;</td><td>&quot;2016/02/03&quot;</td><td>&quot;ICC Academy&quot;</td><td>&quot;Dubai&quot;</td><td>&quot;United Arab Emirates&quot;</td><td>&quot;field&quot;</td><td>&quot;Netherlands&quot;</td><td>967081</td></tr><tr><td>&quot;Sri Lanka&quot;</td><td>&quot;Australia&quot;</td><td>&quot;male&quot;</td><td>&quot;2016&quot;</td><td>&quot;2016/09/06&quot;</td><td>&quot;Pallekele International Cricke…</td><td>null</td><td>&quot;Sri Lanka&quot;</td><td>&quot;field&quot;</td><td>&quot;Australia&quot;</td><td>995467</td></tr><tr><td>&quot;Sri Lanka&quot;</td><td>&quot;Australia&quot;</td><td>&quot;male&quot;</td><td>&quot;2016&quot;</td><td>&quot;2016/09/09&quot;</td><td>&quot;R Premadasa Stadium&quot;</td><td>&quot;Colombo&quot;</td><td>&quot;Sri Lanka&quot;</td><td>&quot;bat&quot;</td><td>&quot;Australia&quot;</td><td>995469</td></tr></tbody></table></div>"
      ],
      "text/plain": [
       "shape: (3_463, 11)\n",
       "┌────────────┬────────────┬────────┬─────────┬───┬────────────┬────────────┬────────────┬──────────┐\n",
       "│ team1      ┆ team2      ┆ gender ┆ season  ┆ … ┆ toss_winne ┆ toss_decis ┆ winner     ┆ match_id │\n",
       "│ ---        ┆ ---        ┆ ---    ┆ ---     ┆   ┆ r          ┆ ion        ┆ ---        ┆ ---      │\n",
       "│ str        ┆ str        ┆ str    ┆ str     ┆   ┆ ---        ┆ ---        ┆ str        ┆ i64      │\n",
       "│            ┆            ┆        ┆         ┆   ┆ str        ┆ str        ┆            ┆          │\n",
       "╞════════════╪════════════╪════════╪═════════╪═══╪════════════╪════════════╪════════════╪══════════╡\n",
       "│ Australia  ┆ Sri Lanka  ┆ male   ┆ 2016/17 ┆ … ┆ Sri Lanka  ┆ field      ┆ Sri Lanka  ┆ 1001349  │\n",
       "│ Australia  ┆ Sri Lanka  ┆ male   ┆ 2016/17 ┆ … ┆ Sri Lanka  ┆ field      ┆ Sri Lanka  ┆ 1001351  │\n",
       "│ Australia  ┆ Sri Lanka  ┆ male   ┆ 2016/17 ┆ … ┆ Sri Lanka  ┆ field      ┆ Australia  ┆ 1001353  │\n",
       "│ Ireland    ┆ Hong Kong  ┆ male   ┆ 2016    ┆ … ┆ Hong Kong  ┆ bat        ┆ Hong Kong  ┆ 1004729  │\n",
       "│ Zimbabwe   ┆ India      ┆ male   ┆ 2016    ┆ … ┆ India      ┆ field      ┆ Zimbabwe   ┆ 1007655  │\n",
       "│ …          ┆ …          ┆ …      ┆ …       ┆ … ┆ …          ┆ …          ┆ …          ┆ …        │\n",
       "│ Pakistan   ┆ Sri Lanka  ┆ male   ┆ 2015/16 ┆ … ┆ Pakistan   ┆ field      ┆ Pakistan   ┆ 966763   │\n",
       "│ Bangladesh ┆ India      ┆ male   ┆ 2015/16 ┆ … ┆ India      ┆ field      ┆ India      ┆ 966765   │\n",
       "│ United     ┆ Netherland ┆ male   ┆ 2015/16 ┆ … ┆ United     ┆ field      ┆ Netherland ┆ 967081   │\n",
       "│ Arab       ┆ s          ┆        ┆         ┆   ┆ Arab       ┆            ┆ s          ┆          │\n",
       "│ Emirates   ┆            ┆        ┆         ┆   ┆ Emirates   ┆            ┆            ┆          │\n",
       "│ Sri Lanka  ┆ Australia  ┆ male   ┆ 2016    ┆ … ┆ Sri Lanka  ┆ field      ┆ Australia  ┆ 995467   │\n",
       "│ Sri Lanka  ┆ Australia  ┆ male   ┆ 2016    ┆ … ┆ Sri Lanka  ┆ bat        ┆ Australia  ┆ 995469   │\n",
       "└────────────┴────────────┴────────┴─────────┴───┴────────────┴────────────┴────────────┴──────────┘"
      ]
     },
     "execution_count": 29,
     "metadata": {},
     "output_type": "execute_result"
    }
   ],
   "source": [
    "matches_data=matches_data.filter(matches_data['match_id'].is_in(non_injured_matches))\n",
    "matches_data"
   ]
  },
  {
   "cell_type": "code",
   "execution_count": 30,
   "metadata": {},
   "outputs": [
    {
     "data": {
      "text/html": [
       "<div><style>\n",
       ".dataframe > thead > tr,\n",
       ".dataframe > tbody > tr {\n",
       "  text-align: right;\n",
       "  white-space: pre-wrap;\n",
       "}\n",
       "</style>\n",
       "<small>shape: (3_463, 23)</small><table border=\"1\" class=\"dataframe\"><thead><tr><th>team1_player1</th><th>team1_player2</th><th>team1_player3</th><th>team1_player4</th><th>team1_player5</th><th>team1_player6</th><th>team1_player7</th><th>team1_player8</th><th>team1_player9</th><th>team1_player10</th><th>team1_player11</th><th>team2_players1</th><th>team2_players2</th><th>team2_players3</th><th>team2_players4</th><th>team2_players5</th><th>team2_players6</th><th>team2_players7</th><th>team2_players8</th><th>team2_players9</th><th>team2_players10</th><th>team2_players11</th><th>match_id</th></tr><tr><td>str</td><td>str</td><td>str</td><td>str</td><td>str</td><td>str</td><td>str</td><td>str</td><td>str</td><td>str</td><td>str</td><td>str</td><td>str</td><td>str</td><td>str</td><td>str</td><td>str</td><td>str</td><td>str</td><td>str</td><td>str</td><td>str</td><td>i64</td></tr></thead><tbody><tr><td>&quot;AJ Finch&quot;</td><td>&quot;M Klinger&quot;</td><td>&quot;TM Head&quot;</td><td>&quot;MC Henriques&quot;</td><td>&quot;AJ Turner&quot;</td><td>&quot;JP Faulkner&quot;</td><td>&quot;TD Paine&quot;</td><td>&quot;PJ Cummins&quot;</td><td>&quot;A Zampa&quot;</td><td>&quot;B Stanlake&quot;</td><td>&quot;AJ Tye&quot;</td><td>&quot;N Dickwella&quot;</td><td>&quot;WU Tharanga&quot;</td><td>&quot;EMDY Munaweera&quot;</td><td>&quot;DAS Gunaratne&quot;</td><td>&quot;TAM Siriwardana&quot;</td><td>&quot;CK Kapugedera&quot;</td><td>&quot;S Prasanna&quot;</td><td>&quot;JRMVB Sanjaya&quot;</td><td>&quot;SL Malinga&quot;</td><td>&quot;KMDN Kulasekara&quot;</td><td>&quot;PADLR Sandakan&quot;</td><td>1001349</td></tr><tr><td>&quot;M Klinger&quot;</td><td>&quot;AJ Finch&quot;</td><td>&quot;BR Dunk&quot;</td><td>&quot;MC Henriques&quot;</td><td>&quot;TM Head&quot;</td><td>&quot;AJ Turner&quot;</td><td>&quot;JP Faulkner&quot;</td><td>&quot;TD Paine&quot;</td><td>&quot;PJ Cummins&quot;</td><td>&quot;AJ Tye&quot;</td><td>&quot;JA Richardson&quot;</td><td>&quot;N Dickwella&quot;</td><td>&quot;WU Tharanga&quot;</td><td>&quot;EMDY Munaweera&quot;</td><td>&quot;BKG Mendis&quot;</td><td>&quot;DAS Gunaratne&quot;</td><td>&quot;TAM Siriwardana&quot;</td><td>&quot;CK Kapugedera&quot;</td><td>&quot;S Prasanna&quot;</td><td>&quot;KMDN Kulasekara&quot;</td><td>&quot;SL Malinga&quot;</td><td>&quot;JRMVB Sanjaya&quot;</td><td>1001351</td></tr><tr><td>&quot;AJ Finch&quot;</td><td>&quot;M Klinger&quot;</td><td>&quot;BR Dunk&quot;</td><td>&quot;TM Head&quot;</td><td>&quot;MC Henriques&quot;</td><td>&quot;AJ Turner&quot;</td><td>&quot;JP Faulkner&quot;</td><td>&quot;TD Paine&quot;</td><td>&quot;PJ Cummins&quot;</td><td>&quot;JA Richardson&quot;</td><td>&quot;A Zampa&quot;</td><td>&quot;EMDY Munaweera&quot;</td><td>&quot;WU Tharanga&quot;</td><td>&quot;BKG Mendis&quot;</td><td>&quot;DAS Gunaratne&quot;</td><td>&quot;TAM Siriwardana&quot;</td><td>&quot;CK Kapugedera&quot;</td><td>&quot;MD Shanaka&quot;</td><td>&quot;S Prasanna&quot;</td><td>&quot;KMDN Kulasekara&quot;</td><td>&quot;SL Malinga&quot;</td><td>&quot;JRMVB Sanjaya&quot;</td><td>1001353</td></tr><tr><td>&quot;Nizakat Khan&quot;</td><td>&quot;Aizaz Khan&quot;</td><td>&quot;Babar Hayat&quot;</td><td>&quot;Anshuman Rath&quot;</td><td>&quot;Ehsan Khan&quot;</td><td>&quot;Tanwir Afzal&quot;</td><td>&quot;Shahid Wasif&quot;</td><td>&quot;Tanveer Ahmed&quot;</td><td>&quot;Ehsan Nawaz&quot;</td><td>&quot;Nadeem Ahmed&quot;</td><td>&quot;C Carter&quot;</td><td>&quot;WTS Porterfield&quot;</td><td>&quot;DA Rankin&quot;</td><td>&quot;SP Terry&quot;</td><td>&quot;JNK Shannon&quot;</td><td>&quot;KJ O&#x27;Brien&quot;</td><td>&quot;GJ Thompson&quot;</td><td>&quot;AR McBrine&quot;</td><td>&quot;L Tucker&quot;</td><td>&quot;J Mulder&quot;</td><td>&quot;J Little&quot;</td><td>&quot;CA Young&quot;</td><td>1004729</td></tr><tr><td>&quot;KL Rahul&quot;</td><td>&quot;Mandeep Singh&quot;</td><td>&quot;AT Rayudu&quot;</td><td>&quot;MK Pandey&quot;</td><td>&quot;KM Jadhav&quot;</td><td>&quot;MS Dhoni&quot;</td><td>&quot;AR Patel&quot;</td><td>&quot;R Dhawan&quot;</td><td>&quot;JJ Bumrah&quot;</td><td>&quot;JD Unadkat&quot;</td><td>&quot;YS Chahal&quot;</td><td>&quot;CJ Chibhabha&quot;</td><td>&quot;H Masakadza&quot;</td><td>&quot;R Mutumbami&quot;</td><td>&quot;Sikandar Raza&quot;</td><td>&quot;MN Waller&quot;</td><td>&quot;CT Mutombodzi&quot;</td><td>&quot;E Chigumbura&quot;</td><td>&quot;AG Cremer&quot;</td><td>&quot;N Madziva&quot;</td><td>&quot;T Muzarabani&quot;</td><td>&quot;DT Tiripano&quot;</td><td>1007655</td></tr><tr><td>&hellip;</td><td>&hellip;</td><td>&hellip;</td><td>&hellip;</td><td>&hellip;</td><td>&hellip;</td><td>&hellip;</td><td>&hellip;</td><td>&hellip;</td><td>&hellip;</td><td>&hellip;</td><td>&hellip;</td><td>&hellip;</td><td>&hellip;</td><td>&hellip;</td><td>&hellip;</td><td>&hellip;</td><td>&hellip;</td><td>&hellip;</td><td>&hellip;</td><td>&hellip;</td><td>&hellip;</td><td>&hellip;</td></tr><tr><td>&quot;Sharjeel Khan&quot;</td><td>&quot;Mohammad Hafeez&quot;</td><td>&quot;Sarfraz Ahmed&quot;</td><td>&quot;Umar Akmal&quot;</td><td>&quot;Shoaib Malik&quot;</td><td>&quot;Iftikhar Ahmed&quot;</td><td>&quot;Shahid Afridi&quot;</td><td>&quot;Mohammad Amir&quot;</td><td>&quot;Wahab Riaz&quot;</td><td>&quot;Mohammad Irfan&quot;</td><td>&quot;Mohammad Nawaz (3)&quot;</td><td>&quot;LD Chandimal&quot;</td><td>&quot;TM Dilshan&quot;</td><td>&quot;GSNFG Jayasuriya&quot;</td><td>&quot;CK Kapugedera&quot;</td><td>&quot;MD Shanaka&quot;</td><td>&quot;TAM Siriwardana&quot;</td><td>&quot;N Dickwella&quot;</td><td>&quot;NLTC Perera&quot;</td><td>&quot;KMDN Kulasekara&quot;</td><td>&quot;HMRKB Herath&quot;</td><td>&quot;PVD Chameera&quot;</td><td>966763</td></tr><tr><td>&quot;Tamim Iqbal&quot;</td><td>&quot;Soumya Sarkar&quot;</td><td>&quot;Sabbir Rahman&quot;</td><td>&quot;Shakib Al Hasan&quot;</td><td>&quot;Mushfiqur Rahim&quot;</td><td>&quot;Mashrafe Mortaza&quot;</td><td>&quot;Mahmudullah&quot;</td><td>&quot;Nasir Hossain&quot;</td><td>&quot;Al-Amin Hossain&quot;</td><td>&quot;Abu Hider&quot;</td><td>&quot;Taskin Ahmed&quot;</td><td>&quot;RG Sharma&quot;</td><td>&quot;S Dhawan&quot;</td><td>&quot;V Kohli&quot;</td><td>&quot;MS Dhoni&quot;</td><td>&quot;SK Raina&quot;</td><td>&quot;Yuvraj Singh&quot;</td><td>&quot;HH Pandya&quot;</td><td>&quot;RA Jadeja&quot;</td><td>&quot;R Ashwin&quot;</td><td>&quot;JJ Bumrah&quot;</td><td>&quot;A Nehra&quot;</td><td>966765</td></tr><tr><td>&quot;MR Swart&quot;</td><td>&quot;SJ Myburgh&quot;</td><td>&quot;W Barresi&quot;</td><td>&quot;PW Borren&quot;</td><td>&quot;PM Seelaar&quot;</td><td>&quot;MP O&#x27;Dowd&quot;</td><td>&quot;Mudassar Bukhari&quot;</td><td>&quot;MJG Rippon&quot;</td><td>&quot;Sikander Zulfiqar&quot;</td><td>&quot;PA van Meekeren&quot;</td><td>&quot;Ahsan Malik&quot;</td><td>&quot;Hafiz Qaleem&quot;</td><td>&quot;Mohammad Shahzad (2)&quot;</td><td>&quot;Shaiman Anwar&quot;</td><td>&quot;SP Patil&quot;</td><td>&quot;Mohammad Usman&quot;</td><td>&quot;Fahad Tariq&quot;</td><td>&quot;Rohan Mustafa&quot;</td><td>&quot;Mohammad Naveed&quot;</td><td>&quot;Ahmed Raza&quot;</td><td>&quot;Farhan Ahmed&quot;</td><td>&quot;Qadeer Ahmed&quot;</td><td>967081</td></tr><tr><td>&quot;GJ Maxwell&quot;</td><td>&quot;DA Warner&quot;</td><td>&quot;UT Khawaja&quot;</td><td>&quot;TM Head&quot;</td><td>&quot;GJ Bailey&quot;</td><td>&quot;MC Henriques&quot;</td><td>&quot;PM Nevill&quot;</td><td>&quot;JP Faulkner&quot;</td><td>&quot;MA Starc&quot;</td><td>&quot;A Zampa&quot;</td><td>&quot;SM Boland&quot;</td><td>&quot;MDKJ Perera&quot;</td><td>&quot;TM Dilshan&quot;</td><td>&quot;DM de Silva&quot;</td><td>&quot;LD Chandimal&quot;</td><td>&quot;BKG Mendis&quot;</td><td>&quot;NLTC Perera&quot;</td><td>&quot;CK Kapugedera&quot;</td><td>&quot;SS Pathirana&quot;</td><td>&quot;SMSM Senanayake&quot;</td><td>&quot;RAS Lakmal&quot;</td><td>&quot;CAK Rajitha&quot;</td><td>995467</td></tr><tr><td>&quot;DA Warner&quot;</td><td>&quot;GJ Maxwell&quot;</td><td>&quot;MC Henriques&quot;</td><td>&quot;JP Faulkner&quot;</td><td>&quot;MS Wade&quot;</td><td>&quot;UT Khawaja&quot;</td><td>&quot;TM Head&quot;</td><td>&quot;PM Nevill&quot;</td><td>&quot;MA Starc&quot;</td><td>&quot;A Zampa&quot;</td><td>&quot;JW Hastings&quot;</td><td>&quot;MDKJ Perera&quot;</td><td>&quot;TM Dilshan&quot;</td><td>&quot;DM de Silva&quot;</td><td>&quot;LD Chandimal&quot;</td><td>&quot;BKG Mendis&quot;</td><td>&quot;CK Kapugedera&quot;</td><td>&quot;NLTC Perera&quot;</td><td>&quot;SS Pathirana&quot;</td><td>&quot;S Prasanna&quot;</td><td>&quot;SMSM Senanayake&quot;</td><td>&quot;RAS Lakmal&quot;</td><td>995469</td></tr></tbody></table></div>"
      ],
      "text/plain": [
       "shape: (3_463, 23)\n",
       "┌───────────┬───────────┬───────────┬───────────┬───┬───────────┬───────────┬───────────┬──────────┐\n",
       "│ team1_pla ┆ team1_pla ┆ team1_pla ┆ team1_pla ┆ … ┆ team2_pla ┆ team2_pla ┆ team2_pla ┆ match_id │\n",
       "│ yer1      ┆ yer2      ┆ yer3      ┆ yer4      ┆   ┆ yers9     ┆ yers10    ┆ yers11    ┆ ---      │\n",
       "│ ---       ┆ ---       ┆ ---       ┆ ---       ┆   ┆ ---       ┆ ---       ┆ ---       ┆ i64      │\n",
       "│ str       ┆ str       ┆ str       ┆ str       ┆   ┆ str       ┆ str       ┆ str       ┆          │\n",
       "╞═══════════╪═══════════╪═══════════╪═══════════╪═══╪═══════════╪═══════════╪═══════════╪══════════╡\n",
       "│ AJ Finch  ┆ M Klinger ┆ TM Head   ┆ MC        ┆ … ┆ SL        ┆ KMDN Kula ┆ PADLR     ┆ 1001349  │\n",
       "│           ┆           ┆           ┆ Henriques ┆   ┆ Malinga   ┆ sekara    ┆ Sandakan  ┆          │\n",
       "│ M Klinger ┆ AJ Finch  ┆ BR Dunk   ┆ MC        ┆ … ┆ KMDN Kula ┆ SL        ┆ JRMVB     ┆ 1001351  │\n",
       "│           ┆           ┆           ┆ Henriques ┆   ┆ sekara    ┆ Malinga   ┆ Sanjaya   ┆          │\n",
       "│ AJ Finch  ┆ M Klinger ┆ BR Dunk   ┆ TM Head   ┆ … ┆ KMDN Kula ┆ SL        ┆ JRMVB     ┆ 1001353  │\n",
       "│           ┆           ┆           ┆           ┆   ┆ sekara    ┆ Malinga   ┆ Sanjaya   ┆          │\n",
       "│ Nizakat   ┆ Aizaz     ┆ Babar     ┆ Anshuman  ┆ … ┆ J Mulder  ┆ J Little  ┆ CA Young  ┆ 1004729  │\n",
       "│ Khan      ┆ Khan      ┆ Hayat     ┆ Rath      ┆   ┆           ┆           ┆           ┆          │\n",
       "│ KL Rahul  ┆ Mandeep   ┆ AT Rayudu ┆ MK Pandey ┆ … ┆ N Madziva ┆ T Muzarab ┆ DT        ┆ 1007655  │\n",
       "│           ┆ Singh     ┆           ┆           ┆   ┆           ┆ ani       ┆ Tiripano  ┆          │\n",
       "│ …         ┆ …         ┆ …         ┆ …         ┆ … ┆ …         ┆ …         ┆ …         ┆ …        │\n",
       "│ Sharjeel  ┆ Mohammad  ┆ Sarfraz   ┆ Umar      ┆ … ┆ KMDN Kula ┆ HMRKB     ┆ PVD       ┆ 966763   │\n",
       "│ Khan      ┆ Hafeez    ┆ Ahmed     ┆ Akmal     ┆   ┆ sekara    ┆ Herath    ┆ Chameera  ┆          │\n",
       "│ Tamim     ┆ Soumya    ┆ Sabbir    ┆ Shakib Al ┆ … ┆ R Ashwin  ┆ JJ Bumrah ┆ A Nehra   ┆ 966765   │\n",
       "│ Iqbal     ┆ Sarkar    ┆ Rahman    ┆ Hasan     ┆   ┆           ┆           ┆           ┆          │\n",
       "│ MR Swart  ┆ SJ        ┆ W Barresi ┆ PW Borren ┆ … ┆ Ahmed     ┆ Farhan    ┆ Qadeer    ┆ 967081   │\n",
       "│           ┆ Myburgh   ┆           ┆           ┆   ┆ Raza      ┆ Ahmed     ┆ Ahmed     ┆          │\n",
       "│ GJ        ┆ DA Warner ┆ UT        ┆ TM Head   ┆ … ┆ SMSM Sena ┆ RAS       ┆ CAK       ┆ 995467   │\n",
       "│ Maxwell   ┆           ┆ Khawaja   ┆           ┆   ┆ nayake    ┆ Lakmal    ┆ Rajitha   ┆          │\n",
       "│ DA Warner ┆ GJ        ┆ MC        ┆ JP        ┆ … ┆ S         ┆ SMSM Sena ┆ RAS       ┆ 995469   │\n",
       "│           ┆ Maxwell   ┆ Henriques ┆ Faulkner  ┆   ┆ Prasanna  ┆ nayake    ┆ Lakmal    ┆          │\n",
       "└───────────┴───────────┴───────────┴───────────┴───┴───────────┴───────────┴───────────┴──────────┘"
      ]
     },
     "execution_count": 30,
     "metadata": {},
     "output_type": "execute_result"
    }
   ],
   "source": [
    "players_data=players_data.with_columns(pl.Series(non_injured_matches).alias(\"match_id\").cast(pl.Int64))\n",
    "players_data"
   ]
  },
  {
   "cell_type": "code",
   "execution_count": 32,
   "metadata": {},
   "outputs": [
    {
     "data": {
      "text/html": [
       "<div><style>\n",
       ".dataframe > thead > tr,\n",
       ".dataframe > tbody > tr {\n",
       "  text-align: right;\n",
       "  white-space: pre-wrap;\n",
       "}\n",
       "</style>\n",
       "<small>shape: (794_009, 22)</small><table border=\"1\" class=\"dataframe\"><thead><tr><th>match_id</th><th>season</th><th>start_date</th><th>venue</th><th>innings</th><th>ball</th><th>batting_team</th><th>bowling_team</th><th>striker</th><th>non_striker</th><th>bowler</th><th>runs_off_bat</th><th>extras</th><th>wides</th><th>noballs</th><th>byes</th><th>legbyes</th><th>penalty</th><th>wicket_type</th><th>player_dismissed</th><th>other_wicket_type</th><th>other_player_dismissed</th></tr><tr><td>i64</td><td>str</td><td>str</td><td>str</td><td>i64</td><td>f64</td><td>str</td><td>str</td><td>str</td><td>str</td><td>str</td><td>i64</td><td>i64</td><td>i64</td><td>str</td><td>i64</td><td>i64</td><td>str</td><td>str</td><td>str</td><td>str</td><td>str</td></tr></thead><tbody><tr><td>1001349</td><td>&quot;2016/17&quot;</td><td>&quot;2017-02-17&quot;</td><td>&quot;Melbourne Cricket Ground&quot;</td><td>1</td><td>0.1</td><td>&quot;Australia&quot;</td><td>&quot;Sri Lanka&quot;</td><td>&quot;AJ Finch&quot;</td><td>&quot;M Klinger&quot;</td><td>&quot;SL Malinga&quot;</td><td>0</td><td>0</td><td>null</td><td>null</td><td>null</td><td>null</td><td>null</td><td>null</td><td>null</td><td>null</td><td>null</td></tr><tr><td>1001349</td><td>&quot;2016/17&quot;</td><td>&quot;2017-02-17&quot;</td><td>&quot;Melbourne Cricket Ground&quot;</td><td>1</td><td>0.2</td><td>&quot;Australia&quot;</td><td>&quot;Sri Lanka&quot;</td><td>&quot;AJ Finch&quot;</td><td>&quot;M Klinger&quot;</td><td>&quot;SL Malinga&quot;</td><td>0</td><td>0</td><td>null</td><td>null</td><td>null</td><td>null</td><td>null</td><td>null</td><td>null</td><td>null</td><td>null</td></tr><tr><td>1001349</td><td>&quot;2016/17&quot;</td><td>&quot;2017-02-17&quot;</td><td>&quot;Melbourne Cricket Ground&quot;</td><td>1</td><td>0.3</td><td>&quot;Australia&quot;</td><td>&quot;Sri Lanka&quot;</td><td>&quot;AJ Finch&quot;</td><td>&quot;M Klinger&quot;</td><td>&quot;SL Malinga&quot;</td><td>1</td><td>0</td><td>null</td><td>null</td><td>null</td><td>null</td><td>null</td><td>null</td><td>null</td><td>null</td><td>null</td></tr><tr><td>1001349</td><td>&quot;2016/17&quot;</td><td>&quot;2017-02-17&quot;</td><td>&quot;Melbourne Cricket Ground&quot;</td><td>1</td><td>0.4</td><td>&quot;Australia&quot;</td><td>&quot;Sri Lanka&quot;</td><td>&quot;M Klinger&quot;</td><td>&quot;AJ Finch&quot;</td><td>&quot;SL Malinga&quot;</td><td>2</td><td>0</td><td>null</td><td>null</td><td>null</td><td>null</td><td>null</td><td>null</td><td>null</td><td>null</td><td>null</td></tr><tr><td>1001349</td><td>&quot;2016/17&quot;</td><td>&quot;2017-02-17&quot;</td><td>&quot;Melbourne Cricket Ground&quot;</td><td>1</td><td>0.5</td><td>&quot;Australia&quot;</td><td>&quot;Sri Lanka&quot;</td><td>&quot;M Klinger&quot;</td><td>&quot;AJ Finch&quot;</td><td>&quot;SL Malinga&quot;</td><td>0</td><td>0</td><td>null</td><td>null</td><td>null</td><td>null</td><td>null</td><td>null</td><td>null</td><td>null</td><td>null</td></tr><tr><td>&hellip;</td><td>&hellip;</td><td>&hellip;</td><td>&hellip;</td><td>&hellip;</td><td>&hellip;</td><td>&hellip;</td><td>&hellip;</td><td>&hellip;</td><td>&hellip;</td><td>&hellip;</td><td>&hellip;</td><td>&hellip;</td><td>&hellip;</td><td>&hellip;</td><td>&hellip;</td><td>&hellip;</td><td>&hellip;</td><td>&hellip;</td><td>&hellip;</td><td>&hellip;</td><td>&hellip;</td></tr><tr><td>995469</td><td>&quot;2016&quot;</td><td>&quot;2016-09-09&quot;</td><td>&quot;R Premadasa Stadium&quot;</td><td>2</td><td>17.1</td><td>&quot;Australia&quot;</td><td>&quot;Sri Lanka&quot;</td><td>&quot;TM Head&quot;</td><td>&quot;PM Nevill&quot;</td><td>&quot;SS Pathirana&quot;</td><td>1</td><td>0</td><td>null</td><td>null</td><td>null</td><td>null</td><td>null</td><td>null</td><td>null</td><td>null</td><td>null</td></tr><tr><td>995469</td><td>&quot;2016&quot;</td><td>&quot;2016-09-09&quot;</td><td>&quot;R Premadasa Stadium&quot;</td><td>2</td><td>17.2</td><td>&quot;Australia&quot;</td><td>&quot;Sri Lanka&quot;</td><td>&quot;PM Nevill&quot;</td><td>&quot;TM Head&quot;</td><td>&quot;SS Pathirana&quot;</td><td>3</td><td>0</td><td>null</td><td>null</td><td>null</td><td>null</td><td>null</td><td>null</td><td>null</td><td>null</td><td>null</td></tr><tr><td>995469</td><td>&quot;2016&quot;</td><td>&quot;2016-09-09&quot;</td><td>&quot;R Premadasa Stadium&quot;</td><td>2</td><td>17.3</td><td>&quot;Australia&quot;</td><td>&quot;Sri Lanka&quot;</td><td>&quot;TM Head&quot;</td><td>&quot;PM Nevill&quot;</td><td>&quot;SS Pathirana&quot;</td><td>0</td><td>0</td><td>null</td><td>null</td><td>null</td><td>null</td><td>null</td><td>null</td><td>null</td><td>null</td><td>null</td></tr><tr><td>995469</td><td>&quot;2016&quot;</td><td>&quot;2016-09-09&quot;</td><td>&quot;R Premadasa Stadium&quot;</td><td>2</td><td>17.4</td><td>&quot;Australia&quot;</td><td>&quot;Sri Lanka&quot;</td><td>&quot;TM Head&quot;</td><td>&quot;PM Nevill&quot;</td><td>&quot;SS Pathirana&quot;</td><td>0</td><td>0</td><td>null</td><td>null</td><td>null</td><td>null</td><td>null</td><td>null</td><td>null</td><td>null</td><td>null</td></tr><tr><td>995469</td><td>&quot;2016&quot;</td><td>&quot;2016-09-09&quot;</td><td>&quot;R Premadasa Stadium&quot;</td><td>2</td><td>17.5</td><td>&quot;Australia&quot;</td><td>&quot;Sri Lanka&quot;</td><td>&quot;TM Head&quot;</td><td>&quot;PM Nevill&quot;</td><td>&quot;SS Pathirana&quot;</td><td>6</td><td>0</td><td>null</td><td>null</td><td>null</td><td>null</td><td>null</td><td>null</td><td>null</td><td>null</td><td>null</td></tr></tbody></table></div>"
      ],
      "text/plain": [
       "shape: (794_009, 22)\n",
       "┌──────────┬─────────┬────────────┬────────────┬───┬───────────┬───────────┬───────────┬───────────┐\n",
       "│ match_id ┆ season  ┆ start_date ┆ venue      ┆ … ┆ wicket_ty ┆ player_di ┆ other_wic ┆ other_pla │\n",
       "│ ---      ┆ ---     ┆ ---        ┆ ---        ┆   ┆ pe        ┆ smissed   ┆ ket_type  ┆ yer_dismi │\n",
       "│ i64      ┆ str     ┆ str        ┆ str        ┆   ┆ ---       ┆ ---       ┆ ---       ┆ ssed      │\n",
       "│          ┆         ┆            ┆            ┆   ┆ str       ┆ str       ┆ str       ┆ ---       │\n",
       "│          ┆         ┆            ┆            ┆   ┆           ┆           ┆           ┆ str       │\n",
       "╞══════════╪═════════╪════════════╪════════════╪═══╪═══════════╪═══════════╪═══════════╪═══════════╡\n",
       "│ 1001349  ┆ 2016/17 ┆ 2017-02-17 ┆ Melbourne  ┆ … ┆ null      ┆ null      ┆ null      ┆ null      │\n",
       "│          ┆         ┆            ┆ Cricket    ┆   ┆           ┆           ┆           ┆           │\n",
       "│          ┆         ┆            ┆ Ground     ┆   ┆           ┆           ┆           ┆           │\n",
       "│ 1001349  ┆ 2016/17 ┆ 2017-02-17 ┆ Melbourne  ┆ … ┆ null      ┆ null      ┆ null      ┆ null      │\n",
       "│          ┆         ┆            ┆ Cricket    ┆   ┆           ┆           ┆           ┆           │\n",
       "│          ┆         ┆            ┆ Ground     ┆   ┆           ┆           ┆           ┆           │\n",
       "│ 1001349  ┆ 2016/17 ┆ 2017-02-17 ┆ Melbourne  ┆ … ┆ null      ┆ null      ┆ null      ┆ null      │\n",
       "│          ┆         ┆            ┆ Cricket    ┆   ┆           ┆           ┆           ┆           │\n",
       "│          ┆         ┆            ┆ Ground     ┆   ┆           ┆           ┆           ┆           │\n",
       "│ 1001349  ┆ 2016/17 ┆ 2017-02-17 ┆ Melbourne  ┆ … ┆ null      ┆ null      ┆ null      ┆ null      │\n",
       "│          ┆         ┆            ┆ Cricket    ┆   ┆           ┆           ┆           ┆           │\n",
       "│          ┆         ┆            ┆ Ground     ┆   ┆           ┆           ┆           ┆           │\n",
       "│ 1001349  ┆ 2016/17 ┆ 2017-02-17 ┆ Melbourne  ┆ … ┆ null      ┆ null      ┆ null      ┆ null      │\n",
       "│          ┆         ┆            ┆ Cricket    ┆   ┆           ┆           ┆           ┆           │\n",
       "│          ┆         ┆            ┆ Ground     ┆   ┆           ┆           ┆           ┆           │\n",
       "│ …        ┆ …       ┆ …          ┆ …          ┆ … ┆ …         ┆ …         ┆ …         ┆ …         │\n",
       "│ 995469   ┆ 2016    ┆ 2016-09-09 ┆ R          ┆ … ┆ null      ┆ null      ┆ null      ┆ null      │\n",
       "│          ┆         ┆            ┆ Premadasa  ┆   ┆           ┆           ┆           ┆           │\n",
       "│          ┆         ┆            ┆ Stadium    ┆   ┆           ┆           ┆           ┆           │\n",
       "│ 995469   ┆ 2016    ┆ 2016-09-09 ┆ R          ┆ … ┆ null      ┆ null      ┆ null      ┆ null      │\n",
       "│          ┆         ┆            ┆ Premadasa  ┆   ┆           ┆           ┆           ┆           │\n",
       "│          ┆         ┆            ┆ Stadium    ┆   ┆           ┆           ┆           ┆           │\n",
       "│ 995469   ┆ 2016    ┆ 2016-09-09 ┆ R          ┆ … ┆ null      ┆ null      ┆ null      ┆ null      │\n",
       "│          ┆         ┆            ┆ Premadasa  ┆   ┆           ┆           ┆           ┆           │\n",
       "│          ┆         ┆            ┆ Stadium    ┆   ┆           ┆           ┆           ┆           │\n",
       "│ 995469   ┆ 2016    ┆ 2016-09-09 ┆ R          ┆ … ┆ null      ┆ null      ┆ null      ┆ null      │\n",
       "│          ┆         ┆            ┆ Premadasa  ┆   ┆           ┆           ┆           ┆           │\n",
       "│          ┆         ┆            ┆ Stadium    ┆   ┆           ┆           ┆           ┆           │\n",
       "│ 995469   ┆ 2016    ┆ 2016-09-09 ┆ R          ┆ … ┆ null      ┆ null      ┆ null      ┆ null      │\n",
       "│          ┆         ┆            ┆ Premadasa  ┆   ┆           ┆           ┆           ┆           │\n",
       "│          ┆         ┆            ┆ Stadium    ┆   ┆           ┆           ┆           ┆           │\n",
       "└──────────┴─────────┴────────────┴────────────┴───┴───────────┴───────────┴───────────┴───────────┘"
      ]
     },
     "execution_count": 32,
     "metadata": {},
     "output_type": "execute_result"
    }
   ],
   "source": [
    "delivery_schema=([('match_id', pl.Int64),\n",
    "                ('season', pl.String),\n",
    "                ('start_date', pl.String),\n",
    "                ('venue', pl.String),\n",
    "                ('innings', pl.Int64),\n",
    "                ('ball', pl.Float64),\n",
    "                ('batting_team', pl.String),\n",
    "                ('bowling_team', pl.String),\n",
    "                ('striker', pl.String),\n",
    "                ('non_striker', pl.String),\n",
    "                ('bowler', pl.String),\n",
    "                ('runs_off_bat', pl.Int64),\n",
    "                ('extras', pl.Int64),\n",
    "                ('wides', pl.Int64),\n",
    "                ('noballs', pl.String),\n",
    "                ('byes', pl.Int64),\n",
    "                ('legbyes', pl.Int64),\n",
    "                ('penalty', pl.String),\n",
    "                ('wicket_type', pl.String),\n",
    "                ('player_dismissed', pl.String),\n",
    "                ('other_wicket_type', pl.String),\n",
    "                ('other_player_dismissed', pl.String)])\n",
    "delivery_schema_dict = {key : value for key,value in delivery_schema}\n",
    "deliveries_data = pl.DataFrame(schema=delivery_schema_dict)\n",
    "for delivery in deliveries:\n",
    "    delivery=pl.read_csv('./t20s_csv2/'+delivery,schema=delivery_schema_dict)\n",
    "    if delivery[\"match_id\"][0] in non_injured_matches:\n",
    "        deliveries_data=deliveries_data.vstack(delivery)\n",
    "    else:\n",
    "        continue\n",
    "deliveries_data"
   ]
  },
  {
   "cell_type": "code",
   "execution_count": 36,
   "metadata": {},
   "outputs": [],
   "source": [
    "deliveries_data.write_parquet(\"./historical_data/cricsheetSource/deliveries.parquet\")\n",
    "matches_data.write_parquet('./historical_data/cricsheetSource/matches.parquet')\n",
    "players_data.write_parquet('./historical_data/cricsheetSource/match_players.parquet')"
   ]
  },
  {
   "cell_type": "code",
   "execution_count": 33,
   "metadata": {},
   "outputs": [
    {
     "data": {
      "text/plain": [
       "((794009, 22), (3463, 11), (3463, 23))"
      ]
     },
     "execution_count": 33,
     "metadata": {},
     "output_type": "execute_result"
    }
   ],
   "source": [
    "deliveries_data.shape,matches_data.shape,players_data.shape"
   ]
  },
  {
   "cell_type": "code",
   "execution_count": 34,
   "metadata": {},
   "outputs": [
    {
     "data": {
      "text/html": [
       "<div><style>\n",
       ".dataframe > thead > tr,\n",
       ".dataframe > tbody > tr {\n",
       "  text-align: right;\n",
       "  white-space: pre-wrap;\n",
       "}\n",
       "</style>\n",
       "<small>shape: (3_448, 7)</small><table border=\"1\" class=\"dataframe\"><thead><tr><th>team1</th><th>team2</th><th>gender</th><th>date</th><th>toss_winner</th><th>toss_decision</th><th>winner</th></tr><tr><td>str</td><td>str</td><td>str</td><td>str</td><td>str</td><td>str</td><td>str</td></tr></thead><tbody><tr><td>&quot;West Indies&quot;</td><td>&quot;New Zealand&quot;</td><td>&quot;male&quot;</td><td>&quot;2014/07/06&quot;</td><td>&quot;New Zealand&quot;</td><td>&quot;field&quot;</td><td>&quot;West Indies&quot;</td></tr><tr><td>&quot;Australia&quot;</td><td>&quot;South Africa&quot;</td><td>&quot;male&quot;</td><td>&quot;2009/01/13&quot;</td><td>&quot;South Africa&quot;</td><td>&quot;bat&quot;</td><td>&quot;Australia&quot;</td></tr><tr><td>&quot;Panama&quot;</td><td>&quot;Cayman Islands&quot;</td><td>&quot;male&quot;</td><td>&quot;2023/09/30&quot;</td><td>&quot;Panama&quot;</td><td>&quot;bat&quot;</td><td>&quot;Cayman Islands&quot;</td></tr><tr><td>&quot;United States of America&quot;</td><td>&quot;Brazil&quot;</td><td>&quot;female&quot;</td><td>&quot;2023/09/05&quot;</td><td>&quot;Brazil&quot;</td><td>&quot;field&quot;</td><td>&quot;United States of America&quot;</td></tr><tr><td>&quot;Czech Republic&quot;</td><td>&quot;Austria&quot;</td><td>&quot;male&quot;</td><td>&quot;2022/07/09&quot;</td><td>&quot;Austria&quot;</td><td>&quot;field&quot;</td><td>&quot;Austria&quot;</td></tr><tr><td>&hellip;</td><td>&hellip;</td><td>&hellip;</td><td>&hellip;</td><td>&hellip;</td><td>&hellip;</td><td>&hellip;</td></tr><tr><td>&quot;Tanzania&quot;</td><td>&quot;Hong Kong&quot;</td><td>&quot;female&quot;</td><td>&quot;2023/11/18&quot;</td><td>&quot;Tanzania&quot;</td><td>&quot;bat&quot;</td><td>&quot;Hong Kong&quot;</td></tr><tr><td>&quot;Italy&quot;</td><td>&quot;Jersey&quot;</td><td>&quot;male&quot;</td><td>&quot;2023/07/23&quot;</td><td>&quot;Jersey&quot;</td><td>&quot;field&quot;</td><td>&quot;Italy&quot;</td></tr><tr><td>&quot;England&quot;</td><td>&quot;Pakistan&quot;</td><td>&quot;male&quot;</td><td>&quot;2012/02/23&quot;</td><td>&quot;England&quot;</td><td>&quot;field&quot;</td><td>&quot;Pakistan&quot;</td></tr><tr><td>&quot;Australia&quot;</td><td>&quot;New Zealand&quot;</td><td>&quot;male&quot;</td><td>&quot;2016/03/18&quot;</td><td>&quot;New Zealand&quot;</td><td>&quot;bat&quot;</td><td>&quot;New Zealand&quot;</td></tr><tr><td>&quot;England&quot;</td><td>&quot;West Indies&quot;</td><td>&quot;male&quot;</td><td>&quot;2007/06/29&quot;</td><td>&quot;West Indies&quot;</td><td>&quot;bat&quot;</td><td>&quot;England&quot;</td></tr></tbody></table></div>"
      ],
      "text/plain": [
       "shape: (3_448, 7)\n",
       "┌───────────────┬───────────────┬────────┬────────────┬──────────────┬──────────────┬──────────────┐\n",
       "│ team1         ┆ team2         ┆ gender ┆ date       ┆ toss_winner  ┆ toss_decisio ┆ winner       │\n",
       "│ ---           ┆ ---           ┆ ---    ┆ ---        ┆ ---          ┆ n            ┆ ---          │\n",
       "│ str           ┆ str           ┆ str    ┆ str        ┆ str          ┆ ---          ┆ str          │\n",
       "│               ┆               ┆        ┆            ┆              ┆ str          ┆              │\n",
       "╞═══════════════╪═══════════════╪════════╪════════════╪══════════════╪══════════════╪══════════════╡\n",
       "│ West Indies   ┆ New Zealand   ┆ male   ┆ 2014/07/06 ┆ New Zealand  ┆ field        ┆ West Indies  │\n",
       "│ Australia     ┆ South Africa  ┆ male   ┆ 2009/01/13 ┆ South Africa ┆ bat          ┆ Australia    │\n",
       "│ Panama        ┆ Cayman        ┆ male   ┆ 2023/09/30 ┆ Panama       ┆ bat          ┆ Cayman       │\n",
       "│               ┆ Islands       ┆        ┆            ┆              ┆              ┆ Islands      │\n",
       "│ United States ┆ Brazil        ┆ female ┆ 2023/09/05 ┆ Brazil       ┆ field        ┆ United       │\n",
       "│ of America    ┆               ┆        ┆            ┆              ┆              ┆ States of    │\n",
       "│               ┆               ┆        ┆            ┆              ┆              ┆ America      │\n",
       "│ Czech         ┆ Austria       ┆ male   ┆ 2022/07/09 ┆ Austria      ┆ field        ┆ Austria      │\n",
       "│ Republic      ┆               ┆        ┆            ┆              ┆              ┆              │\n",
       "│ …             ┆ …             ┆ …      ┆ …          ┆ …            ┆ …            ┆ …            │\n",
       "│ Tanzania      ┆ Hong Kong     ┆ female ┆ 2023/11/18 ┆ Tanzania     ┆ bat          ┆ Hong Kong    │\n",
       "│ Italy         ┆ Jersey        ┆ male   ┆ 2023/07/23 ┆ Jersey       ┆ field        ┆ Italy        │\n",
       "│ England       ┆ Pakistan      ┆ male   ┆ 2012/02/23 ┆ England      ┆ field        ┆ Pakistan     │\n",
       "│ Australia     ┆ New Zealand   ┆ male   ┆ 2016/03/18 ┆ New Zealand  ┆ bat          ┆ New Zealand  │\n",
       "│ England       ┆ West Indies   ┆ male   ┆ 2007/06/29 ┆ West Indies  ┆ bat          ┆ England      │\n",
       "└───────────────┴───────────────┴────────┴────────────┴──────────────┴──────────────┴──────────────┘"
      ]
     },
     "execution_count": 34,
     "metadata": {},
     "output_type": "execute_result"
    }
   ],
   "source": [
    "matches_data[['team1','team2','gender','date','toss_winner','toss_decision','winner']].unique()"
   ]
  }
 ],
 "metadata": {
  "kernelspec": {
   "display_name": "eda",
   "language": "python",
   "name": "python3"
  },
  "language_info": {
   "codemirror_mode": {
    "name": "ipython",
    "version": 3
   },
   "file_extension": ".py",
   "mimetype": "text/x-python",
   "name": "python",
   "nbconvert_exporter": "python",
   "pygments_lexer": "ipython3",
   "version": "3.8.19"
  }
 },
 "nbformat": 4,
 "nbformat_minor": 2
}
