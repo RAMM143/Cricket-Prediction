{
 "cells": [
  {
   "cell_type": "code",
   "execution_count": 2,
   "metadata": {},
   "outputs": [],
   "source": [
    "import polars as pl"
   ]
  },
  {
   "cell_type": "code",
   "execution_count": 3,
   "metadata": {},
   "outputs": [
    {
     "data": {
      "text/html": [
       "<div><style>\n",
       ".dataframe > thead > tr,\n",
       ".dataframe > tbody > tr {\n",
       "  text-align: right;\n",
       "  white-space: pre-wrap;\n",
       "}\n",
       "</style>\n",
       "<small>shape: (816_781, 22)</small><table border=\"1\" class=\"dataframe\"><thead><tr><th>match_id</th><th>season</th><th>start_date</th><th>venue</th><th>innings</th><th>ball</th><th>batting_team</th><th>bowling_team</th><th>striker</th><th>non_striker</th><th>bowler</th><th>runs_off_bat</th><th>extras</th><th>wides</th><th>noballs</th><th>byes</th><th>legbyes</th><th>penalty</th><th>wicket_type</th><th>player_dismissed</th><th>other_wicket_type</th><th>other_player_dismissed</th></tr><tr><td>i64</td><td>str</td><td>str</td><td>str</td><td>i64</td><td>f64</td><td>str</td><td>str</td><td>str</td><td>str</td><td>str</td><td>i64</td><td>i64</td><td>i64</td><td>str</td><td>i64</td><td>i64</td><td>str</td><td>str</td><td>str</td><td>str</td><td>str</td></tr></thead><tbody><tr><td>1001349</td><td>&quot;2016/17&quot;</td><td>&quot;2017-02-17&quot;</td><td>&quot;Melbourne Cricket Ground&quot;</td><td>1</td><td>0.1</td><td>&quot;Australia&quot;</td><td>&quot;Sri Lanka&quot;</td><td>&quot;AJ Finch&quot;</td><td>&quot;M Klinger&quot;</td><td>&quot;SL Malinga&quot;</td><td>0</td><td>0</td><td>null</td><td>null</td><td>null</td><td>null</td><td>null</td><td>null</td><td>null</td><td>null</td><td>null</td></tr><tr><td>1001349</td><td>&quot;2016/17&quot;</td><td>&quot;2017-02-17&quot;</td><td>&quot;Melbourne Cricket Ground&quot;</td><td>1</td><td>0.2</td><td>&quot;Australia&quot;</td><td>&quot;Sri Lanka&quot;</td><td>&quot;AJ Finch&quot;</td><td>&quot;M Klinger&quot;</td><td>&quot;SL Malinga&quot;</td><td>0</td><td>0</td><td>null</td><td>null</td><td>null</td><td>null</td><td>null</td><td>null</td><td>null</td><td>null</td><td>null</td></tr><tr><td>1001349</td><td>&quot;2016/17&quot;</td><td>&quot;2017-02-17&quot;</td><td>&quot;Melbourne Cricket Ground&quot;</td><td>1</td><td>0.3</td><td>&quot;Australia&quot;</td><td>&quot;Sri Lanka&quot;</td><td>&quot;AJ Finch&quot;</td><td>&quot;M Klinger&quot;</td><td>&quot;SL Malinga&quot;</td><td>1</td><td>0</td><td>null</td><td>null</td><td>null</td><td>null</td><td>null</td><td>null</td><td>null</td><td>null</td><td>null</td></tr><tr><td>1001349</td><td>&quot;2016/17&quot;</td><td>&quot;2017-02-17&quot;</td><td>&quot;Melbourne Cricket Ground&quot;</td><td>1</td><td>0.4</td><td>&quot;Australia&quot;</td><td>&quot;Sri Lanka&quot;</td><td>&quot;M Klinger&quot;</td><td>&quot;AJ Finch&quot;</td><td>&quot;SL Malinga&quot;</td><td>2</td><td>0</td><td>null</td><td>null</td><td>null</td><td>null</td><td>null</td><td>null</td><td>null</td><td>null</td><td>null</td></tr><tr><td>1001349</td><td>&quot;2016/17&quot;</td><td>&quot;2017-02-17&quot;</td><td>&quot;Melbourne Cricket Ground&quot;</td><td>1</td><td>0.5</td><td>&quot;Australia&quot;</td><td>&quot;Sri Lanka&quot;</td><td>&quot;M Klinger&quot;</td><td>&quot;AJ Finch&quot;</td><td>&quot;SL Malinga&quot;</td><td>0</td><td>0</td><td>null</td><td>null</td><td>null</td><td>null</td><td>null</td><td>null</td><td>null</td><td>null</td><td>null</td></tr><tr><td>&hellip;</td><td>&hellip;</td><td>&hellip;</td><td>&hellip;</td><td>&hellip;</td><td>&hellip;</td><td>&hellip;</td><td>&hellip;</td><td>&hellip;</td><td>&hellip;</td><td>&hellip;</td><td>&hellip;</td><td>&hellip;</td><td>&hellip;</td><td>&hellip;</td><td>&hellip;</td><td>&hellip;</td><td>&hellip;</td><td>&hellip;</td><td>&hellip;</td><td>&hellip;</td><td>&hellip;</td></tr><tr><td>995469</td><td>&quot;2016&quot;</td><td>&quot;2016-09-09&quot;</td><td>&quot;R Premadasa Stadium&quot;</td><td>2</td><td>17.1</td><td>&quot;Australia&quot;</td><td>&quot;Sri Lanka&quot;</td><td>&quot;TM Head&quot;</td><td>&quot;PM Nevill&quot;</td><td>&quot;SS Pathirana&quot;</td><td>1</td><td>0</td><td>null</td><td>null</td><td>null</td><td>null</td><td>null</td><td>null</td><td>null</td><td>null</td><td>null</td></tr><tr><td>995469</td><td>&quot;2016&quot;</td><td>&quot;2016-09-09&quot;</td><td>&quot;R Premadasa Stadium&quot;</td><td>2</td><td>17.2</td><td>&quot;Australia&quot;</td><td>&quot;Sri Lanka&quot;</td><td>&quot;PM Nevill&quot;</td><td>&quot;TM Head&quot;</td><td>&quot;SS Pathirana&quot;</td><td>3</td><td>0</td><td>null</td><td>null</td><td>null</td><td>null</td><td>null</td><td>null</td><td>null</td><td>null</td><td>null</td></tr><tr><td>995469</td><td>&quot;2016&quot;</td><td>&quot;2016-09-09&quot;</td><td>&quot;R Premadasa Stadium&quot;</td><td>2</td><td>17.3</td><td>&quot;Australia&quot;</td><td>&quot;Sri Lanka&quot;</td><td>&quot;TM Head&quot;</td><td>&quot;PM Nevill&quot;</td><td>&quot;SS Pathirana&quot;</td><td>0</td><td>0</td><td>null</td><td>null</td><td>null</td><td>null</td><td>null</td><td>null</td><td>null</td><td>null</td><td>null</td></tr><tr><td>995469</td><td>&quot;2016&quot;</td><td>&quot;2016-09-09&quot;</td><td>&quot;R Premadasa Stadium&quot;</td><td>2</td><td>17.4</td><td>&quot;Australia&quot;</td><td>&quot;Sri Lanka&quot;</td><td>&quot;TM Head&quot;</td><td>&quot;PM Nevill&quot;</td><td>&quot;SS Pathirana&quot;</td><td>0</td><td>0</td><td>null</td><td>null</td><td>null</td><td>null</td><td>null</td><td>null</td><td>null</td><td>null</td><td>null</td></tr><tr><td>995469</td><td>&quot;2016&quot;</td><td>&quot;2016-09-09&quot;</td><td>&quot;R Premadasa Stadium&quot;</td><td>2</td><td>17.5</td><td>&quot;Australia&quot;</td><td>&quot;Sri Lanka&quot;</td><td>&quot;TM Head&quot;</td><td>&quot;PM Nevill&quot;</td><td>&quot;SS Pathirana&quot;</td><td>6</td><td>0</td><td>null</td><td>null</td><td>null</td><td>null</td><td>null</td><td>null</td><td>null</td><td>null</td><td>null</td></tr></tbody></table></div>"
      ],
      "text/plain": [
       "shape: (816_781, 22)\n",
       "┌──────────┬─────────┬────────────┬────────────┬───┬───────────┬───────────┬───────────┬───────────┐\n",
       "│ match_id ┆ season  ┆ start_date ┆ venue      ┆ … ┆ wicket_ty ┆ player_di ┆ other_wic ┆ other_pla │\n",
       "│ ---      ┆ ---     ┆ ---        ┆ ---        ┆   ┆ pe        ┆ smissed   ┆ ket_type  ┆ yer_dismi │\n",
       "│ i64      ┆ str     ┆ str        ┆ str        ┆   ┆ ---       ┆ ---       ┆ ---       ┆ ssed      │\n",
       "│          ┆         ┆            ┆            ┆   ┆ str       ┆ str       ┆ str       ┆ ---       │\n",
       "│          ┆         ┆            ┆            ┆   ┆           ┆           ┆           ┆ str       │\n",
       "╞══════════╪═════════╪════════════╪════════════╪═══╪═══════════╪═══════════╪═══════════╪═══════════╡\n",
       "│ 1001349  ┆ 2016/17 ┆ 2017-02-17 ┆ Melbourne  ┆ … ┆ null      ┆ null      ┆ null      ┆ null      │\n",
       "│          ┆         ┆            ┆ Cricket    ┆   ┆           ┆           ┆           ┆           │\n",
       "│          ┆         ┆            ┆ Ground     ┆   ┆           ┆           ┆           ┆           │\n",
       "│ 1001349  ┆ 2016/17 ┆ 2017-02-17 ┆ Melbourne  ┆ … ┆ null      ┆ null      ┆ null      ┆ null      │\n",
       "│          ┆         ┆            ┆ Cricket    ┆   ┆           ┆           ┆           ┆           │\n",
       "│          ┆         ┆            ┆ Ground     ┆   ┆           ┆           ┆           ┆           │\n",
       "│ 1001349  ┆ 2016/17 ┆ 2017-02-17 ┆ Melbourne  ┆ … ┆ null      ┆ null      ┆ null      ┆ null      │\n",
       "│          ┆         ┆            ┆ Cricket    ┆   ┆           ┆           ┆           ┆           │\n",
       "│          ┆         ┆            ┆ Ground     ┆   ┆           ┆           ┆           ┆           │\n",
       "│ 1001349  ┆ 2016/17 ┆ 2017-02-17 ┆ Melbourne  ┆ … ┆ null      ┆ null      ┆ null      ┆ null      │\n",
       "│          ┆         ┆            ┆ Cricket    ┆   ┆           ┆           ┆           ┆           │\n",
       "│          ┆         ┆            ┆ Ground     ┆   ┆           ┆           ┆           ┆           │\n",
       "│ 1001349  ┆ 2016/17 ┆ 2017-02-17 ┆ Melbourne  ┆ … ┆ null      ┆ null      ┆ null      ┆ null      │\n",
       "│          ┆         ┆            ┆ Cricket    ┆   ┆           ┆           ┆           ┆           │\n",
       "│          ┆         ┆            ┆ Ground     ┆   ┆           ┆           ┆           ┆           │\n",
       "│ …        ┆ …       ┆ …          ┆ …          ┆ … ┆ …         ┆ …         ┆ …         ┆ …         │\n",
       "│ 995469   ┆ 2016    ┆ 2016-09-09 ┆ R          ┆ … ┆ null      ┆ null      ┆ null      ┆ null      │\n",
       "│          ┆         ┆            ┆ Premadasa  ┆   ┆           ┆           ┆           ┆           │\n",
       "│          ┆         ┆            ┆ Stadium    ┆   ┆           ┆           ┆           ┆           │\n",
       "│ 995469   ┆ 2016    ┆ 2016-09-09 ┆ R          ┆ … ┆ null      ┆ null      ┆ null      ┆ null      │\n",
       "│          ┆         ┆            ┆ Premadasa  ┆   ┆           ┆           ┆           ┆           │\n",
       "│          ┆         ┆            ┆ Stadium    ┆   ┆           ┆           ┆           ┆           │\n",
       "│ 995469   ┆ 2016    ┆ 2016-09-09 ┆ R          ┆ … ┆ null      ┆ null      ┆ null      ┆ null      │\n",
       "│          ┆         ┆            ┆ Premadasa  ┆   ┆           ┆           ┆           ┆           │\n",
       "│          ┆         ┆            ┆ Stadium    ┆   ┆           ┆           ┆           ┆           │\n",
       "│ 995469   ┆ 2016    ┆ 2016-09-09 ┆ R          ┆ … ┆ null      ┆ null      ┆ null      ┆ null      │\n",
       "│          ┆         ┆            ┆ Premadasa  ┆   ┆           ┆           ┆           ┆           │\n",
       "│          ┆         ┆            ┆ Stadium    ┆   ┆           ┆           ┆           ┆           │\n",
       "│ 995469   ┆ 2016    ┆ 2016-09-09 ┆ R          ┆ … ┆ null      ┆ null      ┆ null      ┆ null      │\n",
       "│          ┆         ┆            ┆ Premadasa  ┆   ┆           ┆           ┆           ┆           │\n",
       "│          ┆         ┆            ┆ Stadium    ┆   ┆           ┆           ┆           ┆           │\n",
       "└──────────┴─────────┴────────────┴────────────┴───┴───────────┴───────────┴───────────┴───────────┘"
      ]
     },
     "execution_count": 3,
     "metadata": {},
     "output_type": "execute_result"
    }
   ],
   "source": [
    "deliveries= pl.read_parquet(\"./historical_data/deliveries.parquet\")\n",
    "deliveries"
   ]
  },
  {
   "cell_type": "code",
   "execution_count": 4,
   "metadata": {},
   "outputs": [
    {
     "data": {
      "text/html": [
       "<div><style>\n",
       ".dataframe > thead > tr,\n",
       ".dataframe > tbody > tr {\n",
       "  text-align: right;\n",
       "  white-space: pre-wrap;\n",
       "}\n",
       "</style>\n",
       "<small>shape: (3_571, 10)</small><table border=\"1\" class=\"dataframe\"><thead><tr><th>team1</th><th>team2</th><th>gender</th><th>season</th><th>date</th><th>venue</th><th>city</th><th>toss_winner</th><th>toss_decision</th><th>match_id</th></tr><tr><td>str</td><td>str</td><td>str</td><td>str</td><td>str</td><td>str</td><td>str</td><td>str</td><td>str</td><td>i64</td></tr></thead><tbody><tr><td>&quot;Australia&quot;</td><td>&quot;Sri Lanka&quot;</td><td>&quot;male&quot;</td><td>&quot;2016/17&quot;</td><td>&quot;2017/02/17&quot;</td><td>&quot;Melbourne Cricket Ground&quot;</td><td>null</td><td>&quot;Sri Lanka&quot;</td><td>&quot;field&quot;</td><td>1001349</td></tr><tr><td>&quot;Australia&quot;</td><td>&quot;Sri Lanka&quot;</td><td>&quot;male&quot;</td><td>&quot;2016/17&quot;</td><td>&quot;2017/02/19&quot;</td><td>&quot;Simonds Stadium, South Geelong&quot;</td><td>&quot;Victoria&quot;</td><td>&quot;Sri Lanka&quot;</td><td>&quot;field&quot;</td><td>1001351</td></tr><tr><td>&quot;Australia&quot;</td><td>&quot;Sri Lanka&quot;</td><td>&quot;male&quot;</td><td>&quot;2016/17&quot;</td><td>&quot;2017/02/22&quot;</td><td>&quot;Adelaide Oval&quot;</td><td>null</td><td>&quot;Sri Lanka&quot;</td><td>&quot;field&quot;</td><td>1001353</td></tr><tr><td>&quot;Ireland&quot;</td><td>&quot;Hong Kong&quot;</td><td>&quot;male&quot;</td><td>&quot;2016&quot;</td><td>&quot;2016/09/05&quot;</td><td>&quot;Bready Cricket Club, Magherama…</td><td>&quot;Londonderry&quot;</td><td>&quot;Hong Kong&quot;</td><td>&quot;bat&quot;</td><td>1004729</td></tr><tr><td>&quot;Zimbabwe&quot;</td><td>&quot;India&quot;</td><td>&quot;male&quot;</td><td>&quot;2016&quot;</td><td>&quot;2016/06/18&quot;</td><td>&quot;Harare Sports Club&quot;</td><td>null</td><td>&quot;India&quot;</td><td>&quot;field&quot;</td><td>1007655</td></tr><tr><td>&hellip;</td><td>&hellip;</td><td>&hellip;</td><td>&hellip;</td><td>&hellip;</td><td>&hellip;</td><td>&hellip;</td><td>&hellip;</td><td>&hellip;</td><td>&hellip;</td></tr><tr><td>&quot;Pakistan&quot;</td><td>&quot;Sri Lanka&quot;</td><td>&quot;male&quot;</td><td>&quot;2015/16&quot;</td><td>&quot;2016/03/04&quot;</td><td>&quot;Shere Bangla National Stadium&quot;</td><td>&quot;Mirpur&quot;</td><td>&quot;Pakistan&quot;</td><td>&quot;field&quot;</td><td>966763</td></tr><tr><td>&quot;Bangladesh&quot;</td><td>&quot;India&quot;</td><td>&quot;male&quot;</td><td>&quot;2015/16&quot;</td><td>&quot;2016/03/06&quot;</td><td>&quot;Shere Bangla National Stadium&quot;</td><td>&quot;Mirpur&quot;</td><td>&quot;India&quot;</td><td>&quot;field&quot;</td><td>966765</td></tr><tr><td>&quot;United Arab Emirates&quot;</td><td>&quot;Netherlands&quot;</td><td>&quot;male&quot;</td><td>&quot;2015/16&quot;</td><td>&quot;2016/02/03&quot;</td><td>&quot;ICC Academy&quot;</td><td>&quot;Dubai&quot;</td><td>&quot;United Arab Emirates&quot;</td><td>&quot;field&quot;</td><td>967081</td></tr><tr><td>&quot;Sri Lanka&quot;</td><td>&quot;Australia&quot;</td><td>&quot;male&quot;</td><td>&quot;2016&quot;</td><td>&quot;2016/09/06&quot;</td><td>&quot;Pallekele International Cricke…</td><td>null</td><td>&quot;Sri Lanka&quot;</td><td>&quot;field&quot;</td><td>995467</td></tr><tr><td>&quot;Sri Lanka&quot;</td><td>&quot;Australia&quot;</td><td>&quot;male&quot;</td><td>&quot;2016&quot;</td><td>&quot;2016/09/09&quot;</td><td>&quot;R Premadasa Stadium&quot;</td><td>&quot;Colombo&quot;</td><td>&quot;Sri Lanka&quot;</td><td>&quot;bat&quot;</td><td>995469</td></tr></tbody></table></div>"
      ],
      "text/plain": [
       "shape: (3_571, 10)\n",
       "┌────────────┬────────────┬────────┬─────────┬───┬────────────┬────────────┬────────────┬──────────┐\n",
       "│ team1      ┆ team2      ┆ gender ┆ season  ┆ … ┆ city       ┆ toss_winne ┆ toss_decis ┆ match_id │\n",
       "│ ---        ┆ ---        ┆ ---    ┆ ---     ┆   ┆ ---        ┆ r          ┆ ion        ┆ ---      │\n",
       "│ str        ┆ str        ┆ str    ┆ str     ┆   ┆ str        ┆ ---        ┆ ---        ┆ i64      │\n",
       "│            ┆            ┆        ┆         ┆   ┆            ┆ str        ┆ str        ┆          │\n",
       "╞════════════╪════════════╪════════╪═════════╪═══╪════════════╪════════════╪════════════╪══════════╡\n",
       "│ Australia  ┆ Sri Lanka  ┆ male   ┆ 2016/17 ┆ … ┆ null       ┆ Sri Lanka  ┆ field      ┆ 1001349  │\n",
       "│ Australia  ┆ Sri Lanka  ┆ male   ┆ 2016/17 ┆ … ┆ Victoria   ┆ Sri Lanka  ┆ field      ┆ 1001351  │\n",
       "│ Australia  ┆ Sri Lanka  ┆ male   ┆ 2016/17 ┆ … ┆ null       ┆ Sri Lanka  ┆ field      ┆ 1001353  │\n",
       "│ Ireland    ┆ Hong Kong  ┆ male   ┆ 2016    ┆ … ┆ Londonderr ┆ Hong Kong  ┆ bat        ┆ 1004729  │\n",
       "│            ┆            ┆        ┆         ┆   ┆ y          ┆            ┆            ┆          │\n",
       "│ Zimbabwe   ┆ India      ┆ male   ┆ 2016    ┆ … ┆ null       ┆ India      ┆ field      ┆ 1007655  │\n",
       "│ …          ┆ …          ┆ …      ┆ …       ┆ … ┆ …          ┆ …          ┆ …          ┆ …        │\n",
       "│ Pakistan   ┆ Sri Lanka  ┆ male   ┆ 2015/16 ┆ … ┆ Mirpur     ┆ Pakistan   ┆ field      ┆ 966763   │\n",
       "│ Bangladesh ┆ India      ┆ male   ┆ 2015/16 ┆ … ┆ Mirpur     ┆ India      ┆ field      ┆ 966765   │\n",
       "│ United     ┆ Netherland ┆ male   ┆ 2015/16 ┆ … ┆ Dubai      ┆ United     ┆ field      ┆ 967081   │\n",
       "│ Arab       ┆ s          ┆        ┆         ┆   ┆            ┆ Arab       ┆            ┆          │\n",
       "│ Emirates   ┆            ┆        ┆         ┆   ┆            ┆ Emirates   ┆            ┆          │\n",
       "│ Sri Lanka  ┆ Australia  ┆ male   ┆ 2016    ┆ … ┆ null       ┆ Sri Lanka  ┆ field      ┆ 995467   │\n",
       "│ Sri Lanka  ┆ Australia  ┆ male   ┆ 2016    ┆ … ┆ Colombo    ┆ Sri Lanka  ┆ bat        ┆ 995469   │\n",
       "└────────────┴────────────┴────────┴─────────┴───┴────────────┴────────────┴────────────┴──────────┘"
      ]
     },
     "execution_count": 4,
     "metadata": {},
     "output_type": "execute_result"
    }
   ],
   "source": [
    "matches= pl.read_parquet(\"./historical_data/matches.parquet\")\n",
    "matches"
   ]
  },
  {
   "cell_type": "code",
   "execution_count": 5,
   "metadata": {},
   "outputs": [
    {
     "data": {
      "text/html": [
       "<div><style>\n",
       ".dataframe > thead > tr,\n",
       ".dataframe > tbody > tr {\n",
       "  text-align: right;\n",
       "  white-space: pre-wrap;\n",
       "}\n",
       "</style>\n",
       "<small>shape: (3_571, 23)</small><table border=\"1\" class=\"dataframe\"><thead><tr><th>team1_player1</th><th>team1_player2</th><th>team1_player3</th><th>team1_player4</th><th>team1_player5</th><th>team1_player6</th><th>team1_player7</th><th>team1_player8</th><th>team1_player9</th><th>team1_player10</th><th>team1_player11</th><th>team2_players1</th><th>team2_players2</th><th>team2_players3</th><th>team2_players4</th><th>team2_players5</th><th>team2_players6</th><th>team2_players7</th><th>team2_players8</th><th>team2_players9</th><th>team2_players10</th><th>team2_players11</th><th>match_id</th></tr><tr><td>str</td><td>str</td><td>str</td><td>str</td><td>str</td><td>str</td><td>str</td><td>str</td><td>str</td><td>str</td><td>str</td><td>str</td><td>str</td><td>str</td><td>str</td><td>str</td><td>str</td><td>str</td><td>str</td><td>str</td><td>str</td><td>str</td><td>i64</td></tr></thead><tbody><tr><td>&quot;AJ Finch&quot;</td><td>&quot;M Klinger&quot;</td><td>&quot;TM Head&quot;</td><td>&quot;MC Henriques&quot;</td><td>&quot;AJ Turner&quot;</td><td>&quot;JP Faulkner&quot;</td><td>&quot;TD Paine&quot;</td><td>&quot;PJ Cummins&quot;</td><td>&quot;A Zampa&quot;</td><td>&quot;B Stanlake&quot;</td><td>&quot;AJ Tye&quot;</td><td>&quot;N Dickwella&quot;</td><td>&quot;WU Tharanga&quot;</td><td>&quot;EMDY Munaweera&quot;</td><td>&quot;DAS Gunaratne&quot;</td><td>&quot;TAM Siriwardana&quot;</td><td>&quot;CK Kapugedera&quot;</td><td>&quot;S Prasanna&quot;</td><td>&quot;JRMVB Sanjaya&quot;</td><td>&quot;SL Malinga&quot;</td><td>&quot;KMDN Kulasekara&quot;</td><td>&quot;PADLR Sandakan&quot;</td><td>1001349</td></tr><tr><td>&quot;M Klinger&quot;</td><td>&quot;AJ Finch&quot;</td><td>&quot;BR Dunk&quot;</td><td>&quot;MC Henriques&quot;</td><td>&quot;TM Head&quot;</td><td>&quot;AJ Turner&quot;</td><td>&quot;JP Faulkner&quot;</td><td>&quot;TD Paine&quot;</td><td>&quot;PJ Cummins&quot;</td><td>&quot;AJ Tye&quot;</td><td>&quot;JA Richardson&quot;</td><td>&quot;N Dickwella&quot;</td><td>&quot;WU Tharanga&quot;</td><td>&quot;EMDY Munaweera&quot;</td><td>&quot;BKG Mendis&quot;</td><td>&quot;DAS Gunaratne&quot;</td><td>&quot;TAM Siriwardana&quot;</td><td>&quot;CK Kapugedera&quot;</td><td>&quot;S Prasanna&quot;</td><td>&quot;KMDN Kulasekara&quot;</td><td>&quot;SL Malinga&quot;</td><td>&quot;JRMVB Sanjaya&quot;</td><td>1001351</td></tr><tr><td>&quot;AJ Finch&quot;</td><td>&quot;M Klinger&quot;</td><td>&quot;BR Dunk&quot;</td><td>&quot;TM Head&quot;</td><td>&quot;MC Henriques&quot;</td><td>&quot;AJ Turner&quot;</td><td>&quot;JP Faulkner&quot;</td><td>&quot;TD Paine&quot;</td><td>&quot;PJ Cummins&quot;</td><td>&quot;JA Richardson&quot;</td><td>&quot;A Zampa&quot;</td><td>&quot;EMDY Munaweera&quot;</td><td>&quot;WU Tharanga&quot;</td><td>&quot;BKG Mendis&quot;</td><td>&quot;DAS Gunaratne&quot;</td><td>&quot;TAM Siriwardana&quot;</td><td>&quot;CK Kapugedera&quot;</td><td>&quot;MD Shanaka&quot;</td><td>&quot;S Prasanna&quot;</td><td>&quot;KMDN Kulasekara&quot;</td><td>&quot;SL Malinga&quot;</td><td>&quot;JRMVB Sanjaya&quot;</td><td>1001353</td></tr><tr><td>&quot;Nizakat Khan&quot;</td><td>&quot;Aizaz Khan&quot;</td><td>&quot;Babar Hayat&quot;</td><td>&quot;Anshuman Rath&quot;</td><td>&quot;Ehsan Khan&quot;</td><td>&quot;Tanwir Afzal&quot;</td><td>&quot;Shahid Wasif&quot;</td><td>&quot;Tanveer Ahmed&quot;</td><td>&quot;Ehsan Nawaz&quot;</td><td>&quot;Nadeem Ahmed&quot;</td><td>&quot;C Carter&quot;</td><td>&quot;WTS Porterfield&quot;</td><td>&quot;DA Rankin&quot;</td><td>&quot;SP Terry&quot;</td><td>&quot;JNK Shannon&quot;</td><td>&quot;KJ O&#x27;Brien&quot;</td><td>&quot;GJ Thompson&quot;</td><td>&quot;AR McBrine&quot;</td><td>&quot;L Tucker&quot;</td><td>&quot;J Mulder&quot;</td><td>&quot;J Little&quot;</td><td>&quot;CA Young&quot;</td><td>1004729</td></tr><tr><td>&quot;KL Rahul&quot;</td><td>&quot;Mandeep Singh&quot;</td><td>&quot;AT Rayudu&quot;</td><td>&quot;MK Pandey&quot;</td><td>&quot;KM Jadhav&quot;</td><td>&quot;MS Dhoni&quot;</td><td>&quot;AR Patel&quot;</td><td>&quot;R Dhawan&quot;</td><td>&quot;JJ Bumrah&quot;</td><td>&quot;JD Unadkat&quot;</td><td>&quot;YS Chahal&quot;</td><td>&quot;CJ Chibhabha&quot;</td><td>&quot;H Masakadza&quot;</td><td>&quot;R Mutumbami&quot;</td><td>&quot;Sikandar Raza&quot;</td><td>&quot;MN Waller&quot;</td><td>&quot;CT Mutombodzi&quot;</td><td>&quot;E Chigumbura&quot;</td><td>&quot;AG Cremer&quot;</td><td>&quot;N Madziva&quot;</td><td>&quot;T Muzarabani&quot;</td><td>&quot;DT Tiripano&quot;</td><td>1007655</td></tr><tr><td>&hellip;</td><td>&hellip;</td><td>&hellip;</td><td>&hellip;</td><td>&hellip;</td><td>&hellip;</td><td>&hellip;</td><td>&hellip;</td><td>&hellip;</td><td>&hellip;</td><td>&hellip;</td><td>&hellip;</td><td>&hellip;</td><td>&hellip;</td><td>&hellip;</td><td>&hellip;</td><td>&hellip;</td><td>&hellip;</td><td>&hellip;</td><td>&hellip;</td><td>&hellip;</td><td>&hellip;</td><td>&hellip;</td></tr><tr><td>&quot;Sharjeel Khan&quot;</td><td>&quot;Mohammad Hafeez&quot;</td><td>&quot;Sarfraz Ahmed&quot;</td><td>&quot;Umar Akmal&quot;</td><td>&quot;Shoaib Malik&quot;</td><td>&quot;Iftikhar Ahmed&quot;</td><td>&quot;Shahid Afridi&quot;</td><td>&quot;Mohammad Amir&quot;</td><td>&quot;Wahab Riaz&quot;</td><td>&quot;Mohammad Irfan&quot;</td><td>&quot;Mohammad Nawaz (3)&quot;</td><td>&quot;LD Chandimal&quot;</td><td>&quot;TM Dilshan&quot;</td><td>&quot;GSNFG Jayasuriya&quot;</td><td>&quot;CK Kapugedera&quot;</td><td>&quot;MD Shanaka&quot;</td><td>&quot;TAM Siriwardana&quot;</td><td>&quot;N Dickwella&quot;</td><td>&quot;NLTC Perera&quot;</td><td>&quot;KMDN Kulasekara&quot;</td><td>&quot;HMRKB Herath&quot;</td><td>&quot;PVD Chameera&quot;</td><td>966763</td></tr><tr><td>&quot;Tamim Iqbal&quot;</td><td>&quot;Soumya Sarkar&quot;</td><td>&quot;Sabbir Rahman&quot;</td><td>&quot;Shakib Al Hasan&quot;</td><td>&quot;Mushfiqur Rahim&quot;</td><td>&quot;Mashrafe Mortaza&quot;</td><td>&quot;Mahmudullah&quot;</td><td>&quot;Nasir Hossain&quot;</td><td>&quot;Al-Amin Hossain&quot;</td><td>&quot;Abu Hider&quot;</td><td>&quot;Taskin Ahmed&quot;</td><td>&quot;RG Sharma&quot;</td><td>&quot;S Dhawan&quot;</td><td>&quot;V Kohli&quot;</td><td>&quot;MS Dhoni&quot;</td><td>&quot;SK Raina&quot;</td><td>&quot;Yuvraj Singh&quot;</td><td>&quot;HH Pandya&quot;</td><td>&quot;RA Jadeja&quot;</td><td>&quot;R Ashwin&quot;</td><td>&quot;JJ Bumrah&quot;</td><td>&quot;A Nehra&quot;</td><td>966765</td></tr><tr><td>&quot;MR Swart&quot;</td><td>&quot;SJ Myburgh&quot;</td><td>&quot;W Barresi&quot;</td><td>&quot;PW Borren&quot;</td><td>&quot;PM Seelaar&quot;</td><td>&quot;MP O&#x27;Dowd&quot;</td><td>&quot;Mudassar Bukhari&quot;</td><td>&quot;MJG Rippon&quot;</td><td>&quot;Sikander Zulfiqar&quot;</td><td>&quot;PA van Meekeren&quot;</td><td>&quot;Ahsan Malik&quot;</td><td>&quot;Hafiz Qaleem&quot;</td><td>&quot;Mohammad Shahzad (2)&quot;</td><td>&quot;Shaiman Anwar&quot;</td><td>&quot;SP Patil&quot;</td><td>&quot;Mohammad Usman&quot;</td><td>&quot;Fahad Tariq&quot;</td><td>&quot;Rohan Mustafa&quot;</td><td>&quot;Mohammad Naveed&quot;</td><td>&quot;Ahmed Raza&quot;</td><td>&quot;Farhan Ahmed&quot;</td><td>&quot;Qadeer Ahmed&quot;</td><td>967081</td></tr><tr><td>&quot;GJ Maxwell&quot;</td><td>&quot;DA Warner&quot;</td><td>&quot;UT Khawaja&quot;</td><td>&quot;TM Head&quot;</td><td>&quot;GJ Bailey&quot;</td><td>&quot;MC Henriques&quot;</td><td>&quot;PM Nevill&quot;</td><td>&quot;JP Faulkner&quot;</td><td>&quot;MA Starc&quot;</td><td>&quot;A Zampa&quot;</td><td>&quot;SM Boland&quot;</td><td>&quot;MDKJ Perera&quot;</td><td>&quot;TM Dilshan&quot;</td><td>&quot;DM de Silva&quot;</td><td>&quot;LD Chandimal&quot;</td><td>&quot;BKG Mendis&quot;</td><td>&quot;NLTC Perera&quot;</td><td>&quot;CK Kapugedera&quot;</td><td>&quot;SS Pathirana&quot;</td><td>&quot;SMSM Senanayake&quot;</td><td>&quot;RAS Lakmal&quot;</td><td>&quot;CAK Rajitha&quot;</td><td>995467</td></tr><tr><td>&quot;DA Warner&quot;</td><td>&quot;GJ Maxwell&quot;</td><td>&quot;MC Henriques&quot;</td><td>&quot;JP Faulkner&quot;</td><td>&quot;MS Wade&quot;</td><td>&quot;UT Khawaja&quot;</td><td>&quot;TM Head&quot;</td><td>&quot;PM Nevill&quot;</td><td>&quot;MA Starc&quot;</td><td>&quot;A Zampa&quot;</td><td>&quot;JW Hastings&quot;</td><td>&quot;MDKJ Perera&quot;</td><td>&quot;TM Dilshan&quot;</td><td>&quot;DM de Silva&quot;</td><td>&quot;LD Chandimal&quot;</td><td>&quot;BKG Mendis&quot;</td><td>&quot;CK Kapugedera&quot;</td><td>&quot;NLTC Perera&quot;</td><td>&quot;SS Pathirana&quot;</td><td>&quot;S Prasanna&quot;</td><td>&quot;SMSM Senanayake&quot;</td><td>&quot;RAS Lakmal&quot;</td><td>995469</td></tr></tbody></table></div>"
      ],
      "text/plain": [
       "shape: (3_571, 23)\n",
       "┌───────────┬───────────┬───────────┬───────────┬───┬───────────┬───────────┬───────────┬──────────┐\n",
       "│ team1_pla ┆ team1_pla ┆ team1_pla ┆ team1_pla ┆ … ┆ team2_pla ┆ team2_pla ┆ team2_pla ┆ match_id │\n",
       "│ yer1      ┆ yer2      ┆ yer3      ┆ yer4      ┆   ┆ yers9     ┆ yers10    ┆ yers11    ┆ ---      │\n",
       "│ ---       ┆ ---       ┆ ---       ┆ ---       ┆   ┆ ---       ┆ ---       ┆ ---       ┆ i64      │\n",
       "│ str       ┆ str       ┆ str       ┆ str       ┆   ┆ str       ┆ str       ┆ str       ┆          │\n",
       "╞═══════════╪═══════════╪═══════════╪═══════════╪═══╪═══════════╪═══════════╪═══════════╪══════════╡\n",
       "│ AJ Finch  ┆ M Klinger ┆ TM Head   ┆ MC        ┆ … ┆ SL        ┆ KMDN Kula ┆ PADLR     ┆ 1001349  │\n",
       "│           ┆           ┆           ┆ Henriques ┆   ┆ Malinga   ┆ sekara    ┆ Sandakan  ┆          │\n",
       "│ M Klinger ┆ AJ Finch  ┆ BR Dunk   ┆ MC        ┆ … ┆ KMDN Kula ┆ SL        ┆ JRMVB     ┆ 1001351  │\n",
       "│           ┆           ┆           ┆ Henriques ┆   ┆ sekara    ┆ Malinga   ┆ Sanjaya   ┆          │\n",
       "│ AJ Finch  ┆ M Klinger ┆ BR Dunk   ┆ TM Head   ┆ … ┆ KMDN Kula ┆ SL        ┆ JRMVB     ┆ 1001353  │\n",
       "│           ┆           ┆           ┆           ┆   ┆ sekara    ┆ Malinga   ┆ Sanjaya   ┆          │\n",
       "│ Nizakat   ┆ Aizaz     ┆ Babar     ┆ Anshuman  ┆ … ┆ J Mulder  ┆ J Little  ┆ CA Young  ┆ 1004729  │\n",
       "│ Khan      ┆ Khan      ┆ Hayat     ┆ Rath      ┆   ┆           ┆           ┆           ┆          │\n",
       "│ KL Rahul  ┆ Mandeep   ┆ AT Rayudu ┆ MK Pandey ┆ … ┆ N Madziva ┆ T Muzarab ┆ DT        ┆ 1007655  │\n",
       "│           ┆ Singh     ┆           ┆           ┆   ┆           ┆ ani       ┆ Tiripano  ┆          │\n",
       "│ …         ┆ …         ┆ …         ┆ …         ┆ … ┆ …         ┆ …         ┆ …         ┆ …        │\n",
       "│ Sharjeel  ┆ Mohammad  ┆ Sarfraz   ┆ Umar      ┆ … ┆ KMDN Kula ┆ HMRKB     ┆ PVD       ┆ 966763   │\n",
       "│ Khan      ┆ Hafeez    ┆ Ahmed     ┆ Akmal     ┆   ┆ sekara    ┆ Herath    ┆ Chameera  ┆          │\n",
       "│ Tamim     ┆ Soumya    ┆ Sabbir    ┆ Shakib Al ┆ … ┆ R Ashwin  ┆ JJ Bumrah ┆ A Nehra   ┆ 966765   │\n",
       "│ Iqbal     ┆ Sarkar    ┆ Rahman    ┆ Hasan     ┆   ┆           ┆           ┆           ┆          │\n",
       "│ MR Swart  ┆ SJ        ┆ W Barresi ┆ PW Borren ┆ … ┆ Ahmed     ┆ Farhan    ┆ Qadeer    ┆ 967081   │\n",
       "│           ┆ Myburgh   ┆           ┆           ┆   ┆ Raza      ┆ Ahmed     ┆ Ahmed     ┆          │\n",
       "│ GJ        ┆ DA Warner ┆ UT        ┆ TM Head   ┆ … ┆ SMSM Sena ┆ RAS       ┆ CAK       ┆ 995467   │\n",
       "│ Maxwell   ┆           ┆ Khawaja   ┆           ┆   ┆ nayake    ┆ Lakmal    ┆ Rajitha   ┆          │\n",
       "│ DA Warner ┆ GJ        ┆ MC        ┆ JP        ┆ … ┆ S         ┆ SMSM Sena ┆ RAS       ┆ 995469   │\n",
       "│           ┆ Maxwell   ┆ Henriques ┆ Faulkner  ┆   ┆ Prasanna  ┆ nayake    ┆ Lakmal    ┆          │\n",
       "└───────────┴───────────┴───────────┴───────────┴───┴───────────┴───────────┴───────────┴──────────┘"
      ]
     },
     "execution_count": 5,
     "metadata": {},
     "output_type": "execute_result"
    }
   ],
   "source": [
    "players_data= pl.read_parquet(\"./historical_data/players_data.parquet\")\n",
    "players_data"
   ]
  },
  {
   "cell_type": "code",
   "execution_count": 7,
   "metadata": {},
   "outputs": [
    {
     "data": {
      "text/html": [
       "<div><style>\n",
       ".dataframe > thead > tr,\n",
       ".dataframe > tbody > tr {\n",
       "  text-align: right;\n",
       "  white-space: pre-wrap;\n",
       "}\n",
       "</style>\n",
       "<small>shape: (3_958, 15)</small><table border=\"1\" class=\"dataframe\"><thead><tr><th>Player</th><th>Span</th><th>Mat</th><th>Inns</th><th>NO</th><th>Runs</th><th>HS</th><th>Ave</th><th>BF</th><th>SR</th><th>100</th><th>50</th><th>0</th><th>4s</th><th>6s</th></tr><tr><td>str</td><td>str</td><td>f64</td><td>f64</td><td>f64</td><td>f64</td><td>f64</td><td>f64</td><td>f64</td><td>f64</td><td>f64</td><td>f64</td><td>f64</td><td>f64</td><td>f64</td></tr></thead><tbody><tr><td>&quot;K Yamamoto-Lake (JPN)&quot;</td><td>&quot;2024-2024&quot;</td><td>4.0</td><td>0.0</td><td>0.0</td><td>0.0</td><td>0.0</td><td>0.0</td><td>0.0</td><td>0.0</td><td>0.0</td><td>0.0</td><td>0.0</td><td>0.0</td><td>0.0</td></tr><tr><td>&quot;Yash Talati (KENYA)&quot;</td><td>&quot;2022-2022&quot;</td><td>2.0</td><td>0.0</td><td>0.0</td><td>0.0</td><td>0.0</td><td>0.0</td><td>0.0</td><td>0.0</td><td>0.0</td><td>0.0</td><td>0.0</td><td>0.0</td><td>0.0</td></tr><tr><td>&quot;Zabiullah Ibrahimkhel (Aut)&quot;</td><td>&quot;2021-2021&quot;</td><td>1.0</td><td>0.0</td><td>0.0</td><td>0.0</td><td>0.0</td><td>0.0</td><td>0.0</td><td>0.0</td><td>0.0</td><td>0.0</td><td>0.0</td><td>0.0</td><td>0.0</td></tr><tr><td>&quot;Zahid Mahmood (PAK)&quot;</td><td>&quot;2021-2021&quot;</td><td>1.0</td><td>0.0</td><td>0.0</td><td>0.0</td><td>0.0</td><td>0.0</td><td>0.0</td><td>0.0</td><td>0.0</td><td>0.0</td><td>0.0</td><td>0.0</td><td>0.0</td></tr><tr><td>&quot;Zamir Khan (AFG)&quot;</td><td>&quot;2012-2012&quot;</td><td>1.0</td><td>0.0</td><td>0.0</td><td>0.0</td><td>0.0</td><td>0.0</td><td>0.0</td><td>0.0</td><td>0.0</td><td>0.0</td><td>0.0</td><td>0.0</td><td>0.0</td></tr><tr><td>&hellip;</td><td>&hellip;</td><td>&hellip;</td><td>&hellip;</td><td>&hellip;</td><td>&hellip;</td><td>&hellip;</td><td>&hellip;</td><td>&hellip;</td><td>&hellip;</td><td>&hellip;</td><td>&hellip;</td><td>&hellip;</td><td>&hellip;</td><td>&hellip;</td></tr><tr><td>&quot;S Dhawan (IND)&quot;</td><td>&quot;2011-2021&quot;</td><td>68.0</td><td>66.0</td><td>3.0</td><td>1759.0</td><td>92.0</td><td>27.92</td><td>1392.0</td><td>126.36</td><td>0.0</td><td>11.0</td><td>2.0</td><td>191.0</td><td>50.0</td></tr><tr><td>&quot;Tamim Iqbal (BAN/ICC/World)&quot;</td><td>&quot;2007-2020&quot;</td><td>78.0</td><td>78.0</td><td>5.0</td><td>1758.0</td><td>103.0</td><td>24.08</td><td>1503.0</td><td>116.96</td><td>1.0</td><td>7.0</td><td>6.0</td><td>188.0</td><td>45.0</td></tr><tr><td>&quot;MDKJ Perera (SL)&quot;</td><td>&quot;2013-2024&quot;</td><td>68.0</td><td>67.0</td><td>2.0</td><td>1750.0</td><td>84.0</td><td>26.92</td><td>1334.0</td><td>131.18</td><td>0.0</td><td>14.0</td><td>3.0</td><td>164.0</td><td>57.0</td></tr><tr><td>&quot;CO Obuya (KENYA)&quot;</td><td>&quot;2007-2024&quot;</td><td>75.0</td><td>70.0</td><td>12.0</td><td>1742.0</td><td>96.0</td><td>30.03</td><td>1460.0</td><td>119.31</td><td>0.0</td><td>9.0</td><td>6.0</td><td>127.0</td><td>84.0</td></tr><tr><td>&quot;C Munro (NZ)&quot;</td><td>&quot;2012-2020&quot;</td><td>65.0</td><td>62.0</td><td>7.0</td><td>1724.0</td><td>109.0</td><td>31.34</td><td>1102.0</td><td>156.44</td><td>3.0</td><td>11.0</td><td>5.0</td><td>132.0</td><td>107.0</td></tr></tbody></table></div>"
      ],
      "text/plain": [
       "shape: (3_958, 15)\n",
       "┌─────────────────────────────┬───────────┬──────┬──────┬───┬──────┬─────┬───────┬───────┐\n",
       "│ Player                      ┆ Span      ┆ Mat  ┆ Inns ┆ … ┆ 50   ┆ 0   ┆ 4s    ┆ 6s    │\n",
       "│ ---                         ┆ ---       ┆ ---  ┆ ---  ┆   ┆ ---  ┆ --- ┆ ---   ┆ ---   │\n",
       "│ str                         ┆ str       ┆ f64  ┆ f64  ┆   ┆ f64  ┆ f64 ┆ f64   ┆ f64   │\n",
       "╞═════════════════════════════╪═══════════╪══════╪══════╪═══╪══════╪═════╪═══════╪═══════╡\n",
       "│ K Yamamoto-Lake (JPN)       ┆ 2024-2024 ┆ 4.0  ┆ 0.0  ┆ … ┆ 0.0  ┆ 0.0 ┆ 0.0   ┆ 0.0   │\n",
       "│ Yash Talati (KENYA)         ┆ 2022-2022 ┆ 2.0  ┆ 0.0  ┆ … ┆ 0.0  ┆ 0.0 ┆ 0.0   ┆ 0.0   │\n",
       "│ Zabiullah Ibrahimkhel (Aut) ┆ 2021-2021 ┆ 1.0  ┆ 0.0  ┆ … ┆ 0.0  ┆ 0.0 ┆ 0.0   ┆ 0.0   │\n",
       "│ Zahid Mahmood (PAK)         ┆ 2021-2021 ┆ 1.0  ┆ 0.0  ┆ … ┆ 0.0  ┆ 0.0 ┆ 0.0   ┆ 0.0   │\n",
       "│ Zamir Khan (AFG)            ┆ 2012-2012 ┆ 1.0  ┆ 0.0  ┆ … ┆ 0.0  ┆ 0.0 ┆ 0.0   ┆ 0.0   │\n",
       "│ …                           ┆ …         ┆ …    ┆ …    ┆ … ┆ …    ┆ …   ┆ …     ┆ …     │\n",
       "│ S Dhawan (IND)              ┆ 2011-2021 ┆ 68.0 ┆ 66.0 ┆ … ┆ 11.0 ┆ 2.0 ┆ 191.0 ┆ 50.0  │\n",
       "│ Tamim Iqbal (BAN/ICC/World) ┆ 2007-2020 ┆ 78.0 ┆ 78.0 ┆ … ┆ 7.0  ┆ 6.0 ┆ 188.0 ┆ 45.0  │\n",
       "│ MDKJ Perera (SL)            ┆ 2013-2024 ┆ 68.0 ┆ 67.0 ┆ … ┆ 14.0 ┆ 3.0 ┆ 164.0 ┆ 57.0  │\n",
       "│ CO Obuya (KENYA)            ┆ 2007-2024 ┆ 75.0 ┆ 70.0 ┆ … ┆ 9.0  ┆ 6.0 ┆ 127.0 ┆ 84.0  │\n",
       "│ C Munro (NZ)                ┆ 2012-2020 ┆ 65.0 ┆ 62.0 ┆ … ┆ 11.0 ┆ 5.0 ┆ 132.0 ┆ 107.0 │\n",
       "└─────────────────────────────┴───────────┴──────┴──────┴───┴──────┴─────┴───────┴───────┘"
      ]
     },
     "execution_count": 7,
     "metadata": {},
     "output_type": "execute_result"
    }
   ],
   "source": [
    "batting_players= pl.read_parquet(\"./historical_data/player_stats_batting.parquet\")\n",
    "batting_players"
   ]
  },
  {
   "cell_type": "code",
   "execution_count": 8,
   "metadata": {},
   "outputs": [
    {
     "data": {
      "text/html": [
       "<div><style>\n",
       ".dataframe > thead > tr,\n",
       ".dataframe > tbody > tr {\n",
       "  text-align: right;\n",
       "  white-space: pre-wrap;\n",
       "}\n",
       "</style>\n",
       "<small>shape: (3_958, 14)</small><table border=\"1\" class=\"dataframe\"><thead><tr><th>Player</th><th>Span</th><th>Mat</th><th>Inns</th><th>Overs</th><th>Mdns</th><th>Runs</th><th>Wkts</th><th>BBI</th><th>Ave</th><th>Econ</th><th>SR</th><th>4</th><th>5</th></tr><tr><td>str</td><td>str</td><td>i64</td><td>i32</td><td>f64</td><td>i32</td><td>i32</td><td>i32</td><td>str</td><td>f64</td><td>f64</td><td>f64</td><td>i32</td><td>i32</td></tr></thead><tbody><tr><td>&quot;Zubaidi Zulkifle (MAS)&quot;</td><td>&quot;2019-2024&quot;</td><td>52</td><td>0</td><td>0.0</td><td>0</td><td>0</td><td>0</td><td>&quot;0&quot;</td><td>0.0</td><td>0.0</td><td>0.0</td><td>0</td><td>0</td></tr><tr><td>&quot;Zubaid Akbari (AFG)&quot;</td><td>&quot;2023-2023&quot;</td><td>1</td><td>0</td><td>0.0</td><td>0</td><td>0</td><td>0</td><td>&quot;0&quot;</td><td>0.0</td><td>0.0</td><td>0.0</td><td>0</td><td>0</td></tr><tr><td>&quot;Zuhair Muhammad (KSA)&quot;</td><td>&quot;2024-2024&quot;</td><td>2</td><td>0</td><td>0.0</td><td>0</td><td>0</td><td>0</td><td>&quot;0&quot;</td><td>0.0</td><td>0.0</td><td>0.0</td><td>0</td><td>0</td></tr><tr><td>&quot;B Zuiderent (NED)&quot;</td><td>&quot;2009-2010&quot;</td><td>6</td><td>0</td><td>0.0</td><td>0</td><td>0</td><td>0</td><td>&quot;0&quot;</td><td>0.0</td><td>0.0</td><td>0.0</td><td>0</td><td>0</td></tr><tr><td>&quot;Zulfiqar Ali Shah (PORT)&quot;</td><td>&quot;2021-2021&quot;</td><td>1</td><td>0</td><td>0.0</td><td>0</td><td>0</td><td>0</td><td>&quot;0&quot;</td><td>0.0</td><td>0.0</td><td>0.0</td><td>0</td><td>0</td></tr><tr><td>&hellip;</td><td>&hellip;</td><td>&hellip;</td><td>&hellip;</td><td>&hellip;</td><td>&hellip;</td><td>&hellip;</td><td>&hellip;</td><td>&hellip;</td><td>&hellip;</td><td>&hellip;</td><td>&hellip;</td><td>&hellip;</td><td>&hellip;</td></tr><tr><td>&quot;M Akayezu (RWN)&quot;</td><td>&quot;2021-2024&quot;</td><td>74</td><td>64</td><td>191.0</td><td>3</td><td>1528</td><td>72</td><td>&quot;4/9&quot;</td><td>21.22</td><td>8.0</td><td>15.9</td><td>3</td><td>0</td></tr><tr><td>&quot;R Ashwin (IND)&quot;</td><td>&quot;2010-2022&quot;</td><td>65</td><td>65</td><td>242.0</td><td>3</td><td>1672</td><td>72</td><td>&quot;4/8&quot;</td><td>23.22</td><td>6.9</td><td>20.1</td><td>2</td><td>0</td></tr><tr><td>&quot;Junaid Siddique (UAE)&quot;</td><td>&quot;2019-2024&quot;</td><td>55</td><td>55</td><td>202.5</td><td>2</td><td>1540</td><td>72</td><td>&quot;4/12&quot;</td><td>21.38</td><td>7.59</td><td>16.9</td><td>3</td><td>0</td></tr><tr><td>&quot;Taskin Ahmed (BAN)&quot;</td><td>&quot;2014-2024&quot;</td><td>67</td><td>65</td><td>232.0</td><td>4</td><td>1724</td><td>72</td><td>&quot;4/16&quot;</td><td>23.94</td><td>7.43</td><td>19.3</td><td>2</td><td>0</td></tr><tr><td>&quot;Zahoor Khan (UAE)&quot;</td><td>&quot;2017-2023&quot;</td><td>57</td><td>57</td><td>206.3</td><td>1</td><td>1406</td><td>72</td><td>&quot;4/16&quot;</td><td>19.52</td><td>6.8</td><td>17.2</td><td>2</td><td>0</td></tr></tbody></table></div>"
      ],
      "text/plain": [
       "shape: (3_958, 14)\n",
       "┌──────────────────────────┬───────────┬─────┬──────┬───┬──────┬──────┬─────┬─────┐\n",
       "│ Player                   ┆ Span      ┆ Mat ┆ Inns ┆ … ┆ Econ ┆ SR   ┆ 4   ┆ 5   │\n",
       "│ ---                      ┆ ---       ┆ --- ┆ ---  ┆   ┆ ---  ┆ ---  ┆ --- ┆ --- │\n",
       "│ str                      ┆ str       ┆ i64 ┆ i32  ┆   ┆ f64  ┆ f64  ┆ i32 ┆ i32 │\n",
       "╞══════════════════════════╪═══════════╪═════╪══════╪═══╪══════╪══════╪═════╪═════╡\n",
       "│ Zubaidi Zulkifle (MAS)   ┆ 2019-2024 ┆ 52  ┆ 0    ┆ … ┆ 0.0  ┆ 0.0  ┆ 0   ┆ 0   │\n",
       "│ Zubaid Akbari (AFG)      ┆ 2023-2023 ┆ 1   ┆ 0    ┆ … ┆ 0.0  ┆ 0.0  ┆ 0   ┆ 0   │\n",
       "│ Zuhair Muhammad (KSA)    ┆ 2024-2024 ┆ 2   ┆ 0    ┆ … ┆ 0.0  ┆ 0.0  ┆ 0   ┆ 0   │\n",
       "│ B Zuiderent (NED)        ┆ 2009-2010 ┆ 6   ┆ 0    ┆ … ┆ 0.0  ┆ 0.0  ┆ 0   ┆ 0   │\n",
       "│ Zulfiqar Ali Shah (PORT) ┆ 2021-2021 ┆ 1   ┆ 0    ┆ … ┆ 0.0  ┆ 0.0  ┆ 0   ┆ 0   │\n",
       "│ …                        ┆ …         ┆ …   ┆ …    ┆ … ┆ …    ┆ …    ┆ …   ┆ …   │\n",
       "│ M Akayezu (RWN)          ┆ 2021-2024 ┆ 74  ┆ 64   ┆ … ┆ 8.0  ┆ 15.9 ┆ 3   ┆ 0   │\n",
       "│ R Ashwin (IND)           ┆ 2010-2022 ┆ 65  ┆ 65   ┆ … ┆ 6.9  ┆ 20.1 ┆ 2   ┆ 0   │\n",
       "│ Junaid Siddique (UAE)    ┆ 2019-2024 ┆ 55  ┆ 55   ┆ … ┆ 7.59 ┆ 16.9 ┆ 3   ┆ 0   │\n",
       "│ Taskin Ahmed (BAN)       ┆ 2014-2024 ┆ 67  ┆ 65   ┆ … ┆ 7.43 ┆ 19.3 ┆ 2   ┆ 0   │\n",
       "│ Zahoor Khan (UAE)        ┆ 2017-2023 ┆ 57  ┆ 57   ┆ … ┆ 6.8  ┆ 17.2 ┆ 2   ┆ 0   │\n",
       "└──────────────────────────┴───────────┴─────┴──────┴───┴──────┴──────┴─────┴─────┘"
      ]
     },
     "execution_count": 8,
     "metadata": {},
     "output_type": "execute_result"
    }
   ],
   "source": [
    "bowling_players= pl.read_parquet(\"./historical_data/player_stats_bowling.parquet\")\n",
    "bowling_players"
   ]
  },
  {
   "cell_type": "code",
   "execution_count": 9,
   "metadata": {},
   "outputs": [
    {
     "data": {
      "text/html": [
       "<div><style>\n",
       ".dataframe > thead > tr,\n",
       ".dataframe > tbody > tr {\n",
       "  text-align: right;\n",
       "  white-space: pre-wrap;\n",
       "}\n",
       "</style>\n",
       "<small>shape: (3_958, 14)</small><table border=\"1\" class=\"dataframe\"><thead><tr><th>Player</th><th>Span</th><th>Mat</th><th>Runs</th><th>HS</th><th>Bat Av</th><th>100</th><th>Wkts</th><th>BBI</th><th>Bowl Av</th><th>5</th><th>Ct</th><th>St</th><th>Ave Diff</th></tr><tr><td>str</td><td>str</td><td>i32</td><td>i32</td><td>f64</td><td>f64</td><td>i32</td><td>i32</td><td>str</td><td>f64</td><td>i32</td><td>f64</td><td>f64</td><td>f64</td></tr></thead><tbody><tr><td>&quot;Zahid Mahmood (PAK)&quot;</td><td>&quot;2021-2021&quot;</td><td>1</td><td>0</td><td>0.0</td><td>0.0</td><td>0</td><td>3</td><td>&quot;3/40&quot;</td><td>13.33</td><td>0</td><td>0.0</td><td>0.0</td><td>0.0</td></tr><tr><td>&quot;Zamir Khan (AFG)&quot;</td><td>&quot;2012-2012&quot;</td><td>1</td><td>0</td><td>0.0</td><td>0.0</td><td>0</td><td>1</td><td>&quot;1/26&quot;</td><td>26.0</td><td>0</td><td>0.0</td><td>0.0</td><td>0.0</td></tr><tr><td>&quot;S Zargar (Mex)&quot;</td><td>&quot;2019-2019&quot;</td><td>1</td><td>0</td><td>0.0</td><td>0.0</td><td>0</td><td>2</td><td>&quot;2/22&quot;</td><td>11.0</td><td>0</td><td>0.0</td><td>0.0</td><td>0.0</td></tr><tr><td>&quot;Ziaur Rahman (AFG)&quot;</td><td>&quot;2019-2019&quot;</td><td>1</td><td>0</td><td>0.0</td><td>0.0</td><td>0</td><td>2</td><td>&quot;2/42&quot;</td><td>21.0</td><td>0</td><td>0.0</td><td>0.0</td><td>0.0</td></tr><tr><td>&quot;Zoheb Malek (MLT)&quot;</td><td>&quot;2021-2021&quot;</td><td>1</td><td>0</td><td>0.0</td><td>0.0</td><td>0</td><td>0</td><td>&quot;0&quot;</td><td>0.0</td><td>0</td><td>1.0</td><td>0.0</td><td>0.0</td></tr><tr><td>&hellip;</td><td>&hellip;</td><td>&hellip;</td><td>&hellip;</td><td>&hellip;</td><td>&hellip;</td><td>&hellip;</td><td>&hellip;</td><td>&hellip;</td><td>&hellip;</td><td>&hellip;</td><td>&hellip;</td><td>&hellip;</td><td>&hellip;</td></tr><tr><td>&quot;Sikandar Raza (ZIM)&quot;</td><td>&quot;2013-2024&quot;</td><td>91</td><td>2037</td><td>87.0</td><td>24.84</td><td>0</td><td>66</td><td>&quot;4/8&quot;</td><td>24.59</td><td>0</td><td>40.0</td><td>0.0</td><td>0.25</td></tr><tr><td>&quot;AD Mathews (SL)&quot;</td><td>&quot;2009-2024&quot;</td><td>90</td><td>1416</td><td>81.0</td><td>27.76</td><td>0</td><td>45</td><td>&quot;3/16&quot;</td><td>30.86</td><td>0</td><td>27.0</td><td>0.0</td><td>-3.1</td></tr><tr><td>&quot;Litton Das (BAN)&quot;</td><td>&quot;2015-2024&quot;</td><td>89</td><td>1943</td><td>83.0</td><td>23.13</td><td>0</td><td>0</td><td>&quot;0&quot;</td><td>0.0</td><td>0</td><td>50.0</td><td>8.0</td><td>0.0</td></tr><tr><td>&quot;Nizakat Khan (HKG)&quot;</td><td>&quot;2014-2024&quot;</td><td>88</td><td>1679</td><td>81.0</td><td>20.22</td><td>0</td><td>9</td><td>&quot;3/19&quot;</td><td>20.55</td><td>0</td><td>40.0</td><td>0.0</td><td>-0.32</td></tr><tr><td>&quot;B Kumar (IND)&quot;</td><td>&quot;2012-2022&quot;</td><td>87</td><td>67</td><td>16.0</td><td>8.37</td><td>0</td><td>90</td><td>&quot;5/4&quot;</td><td>23.1</td><td>2</td><td>15.0</td><td>0.0</td><td>-14.72</td></tr></tbody></table></div>"
      ],
      "text/plain": [
       "shape: (3_958, 14)\n",
       "┌─────────────────────┬───────────┬─────┬──────┬───┬─────┬──────┬─────┬──────────┐\n",
       "│ Player              ┆ Span      ┆ Mat ┆ Runs ┆ … ┆ 5   ┆ Ct   ┆ St  ┆ Ave Diff │\n",
       "│ ---                 ┆ ---       ┆ --- ┆ ---  ┆   ┆ --- ┆ ---  ┆ --- ┆ ---      │\n",
       "│ str                 ┆ str       ┆ i32 ┆ i32  ┆   ┆ i32 ┆ f64  ┆ f64 ┆ f64      │\n",
       "╞═════════════════════╪═══════════╪═════╪══════╪═══╪═════╪══════╪═════╪══════════╡\n",
       "│ Zahid Mahmood (PAK) ┆ 2021-2021 ┆ 1   ┆ 0    ┆ … ┆ 0   ┆ 0.0  ┆ 0.0 ┆ 0.0      │\n",
       "│ Zamir Khan (AFG)    ┆ 2012-2012 ┆ 1   ┆ 0    ┆ … ┆ 0   ┆ 0.0  ┆ 0.0 ┆ 0.0      │\n",
       "│ S Zargar (Mex)      ┆ 2019-2019 ┆ 1   ┆ 0    ┆ … ┆ 0   ┆ 0.0  ┆ 0.0 ┆ 0.0      │\n",
       "│ Ziaur Rahman (AFG)  ┆ 2019-2019 ┆ 1   ┆ 0    ┆ … ┆ 0   ┆ 0.0  ┆ 0.0 ┆ 0.0      │\n",
       "│ Zoheb Malek (MLT)   ┆ 2021-2021 ┆ 1   ┆ 0    ┆ … ┆ 0   ┆ 1.0  ┆ 0.0 ┆ 0.0      │\n",
       "│ …                   ┆ …         ┆ …   ┆ …    ┆ … ┆ …   ┆ …    ┆ …   ┆ …        │\n",
       "│ Sikandar Raza (ZIM) ┆ 2013-2024 ┆ 91  ┆ 2037 ┆ … ┆ 0   ┆ 40.0 ┆ 0.0 ┆ 0.25     │\n",
       "│ AD Mathews (SL)     ┆ 2009-2024 ┆ 90  ┆ 1416 ┆ … ┆ 0   ┆ 27.0 ┆ 0.0 ┆ -3.1     │\n",
       "│ Litton Das (BAN)    ┆ 2015-2024 ┆ 89  ┆ 1943 ┆ … ┆ 0   ┆ 50.0 ┆ 8.0 ┆ 0.0      │\n",
       "│ Nizakat Khan (HKG)  ┆ 2014-2024 ┆ 88  ┆ 1679 ┆ … ┆ 0   ┆ 40.0 ┆ 0.0 ┆ -0.32    │\n",
       "│ B Kumar (IND)       ┆ 2012-2022 ┆ 87  ┆ 67   ┆ … ┆ 2   ┆ 15.0 ┆ 0.0 ┆ -14.72   │\n",
       "└─────────────────────┴───────────┴─────┴──────┴───┴─────┴──────┴─────┴──────────┘"
      ]
     },
     "execution_count": 9,
     "metadata": {},
     "output_type": "execute_result"
    }
   ],
   "source": [
    "allround_players= pl.read_parquet(\"./historical_data/player_stats_allround.parquet\")\n",
    "allround_players"
   ]
  },
  {
   "cell_type": "code",
   "execution_count": 11,
   "metadata": {},
   "outputs": [
    {
     "data": {
      "text/html": [
       "<div><style>\n",
       ".dataframe > thead > tr,\n",
       ".dataframe > tbody > tr {\n",
       "  text-align: right;\n",
       "  white-space: pre-wrap;\n",
       "}\n",
       "</style>\n",
       "<small>shape: (103, 13)</small><table border=\"1\" class=\"dataframe\"><thead><tr><th>Team</th><th>Span</th><th>Mat</th><th>Won</th><th>Lost</th><th>Tied</th><th>NR</th><th>W/L</th><th>Ave</th><th>RPO</th><th>Inns</th><th>HS</th><th>LS</th></tr><tr><td>str</td><td>str</td><td>i32</td><td>i32</td><td>i32</td><td>i32</td><td>i32</td><td>f64</td><td>f64</td><td>f64</td><td>i32</td><td>i32</td><td>i32</td></tr></thead><tbody><tr><td>&quot;Mali&quot;</td><td>&quot;2022-2023&quot;</td><td>10</td><td>0</td><td>8</td><td>0</td><td>2</td><td>0.0</td><td>31.84</td><td>8.58</td><td>9</td><td>165</td><td>0</td></tr><tr><td>&quot;Mongolia&quot;</td><td>&quot;2023-2024&quot;</td><td>9</td><td>0</td><td>8</td><td>0</td><td>1</td><td>0.0</td><td>49.8</td><td>11.77</td><td>9</td><td>314</td><td>0</td></tr><tr><td>&quot;South Korea&quot;</td><td>&quot;2022-2022&quot;</td><td>4</td><td>0</td><td>4</td><td>0</td><td>0</td><td>0.0</td><td>22.58</td><td>9.34</td><td>4</td><td>218</td><td>0</td></tr><tr><td>&quot;Vanuatu&quot;</td><td>&quot;2019-2024&quot;</td><td>34</td><td>16</td><td>18</td><td>0</td><td>0</td><td>0.888</td><td>18.0</td><td>7.25</td><td>34</td><td>206</td><td>94</td></tr><tr><td>&quot;Botswana&quot;</td><td>&quot;2019-2023&quot;</td><td>39</td><td>15</td><td>23</td><td>0</td><td>1</td><td>0.652</td><td>16.66</td><td>6.72</td><td>38</td><td>240</td><td>37</td></tr><tr><td>&hellip;</td><td>&hellip;</td><td>&hellip;</td><td>&hellip;</td><td>&hellip;</td><td>&hellip;</td><td>&hellip;</td><td>&hellip;</td><td>&hellip;</td><td>&hellip;</td><td>&hellip;</td><td>&hellip;</td><td>&hellip;</td></tr><tr><td>&quot;Luxembourg&quot;</td><td>&quot;2019-2024&quot;</td><td>45</td><td>17</td><td>28</td><td>0</td><td>0</td><td>0.607</td><td>22.78</td><td>7.88</td><td>45</td><td>239</td><td>28</td></tr><tr><td>&quot;Singapore&quot;</td><td>&quot;2019-2024&quot;</td><td>48</td><td>17</td><td>30</td><td>1</td><td>0</td><td>0.566</td><td>25.37</td><td>8.38</td><td>48</td><td>236</td><td>53</td></tr><tr><td>&quot;U.S.A.&quot;</td><td>&quot;2019-2024&quot;</td><td>34</td><td>17</td><td>14</td><td>2</td><td>1</td><td>1.214</td><td>20.88</td><td>7.2</td><td>34</td><td>199</td><td>69</td></tr><tr><td>&quot;Denmark&quot;</td><td>&quot;2019-2024&quot;</td><td>38</td><td>16</td><td>20</td><td>0</td><td>2</td><td>0.8</td><td>16.57</td><td>6.39</td><td>36</td><td>198</td><td>33</td></tr><tr><td>&quot;Norway&quot;</td><td>&quot;2019-2024&quot;</td><td>32</td><td>16</td><td>16</td><td>0</td><td>0</td><td>1.0</td><td>16.41</td><td>6.65</td><td>32</td><td>176</td><td>49</td></tr></tbody></table></div>"
      ],
      "text/plain": [
       "shape: (103, 13)\n",
       "┌─────────────┬───────────┬─────┬─────┬───┬───────┬──────┬─────┬─────┐\n",
       "│ Team        ┆ Span      ┆ Mat ┆ Won ┆ … ┆ RPO   ┆ Inns ┆ HS  ┆ LS  │\n",
       "│ ---         ┆ ---       ┆ --- ┆ --- ┆   ┆ ---   ┆ ---  ┆ --- ┆ --- │\n",
       "│ str         ┆ str       ┆ i32 ┆ i32 ┆   ┆ f64   ┆ i32  ┆ i32 ┆ i32 │\n",
       "╞═════════════╪═══════════╪═════╪═════╪═══╪═══════╪══════╪═════╪═════╡\n",
       "│ Mali        ┆ 2022-2023 ┆ 10  ┆ 0   ┆ … ┆ 8.58  ┆ 9    ┆ 165 ┆ 0   │\n",
       "│ Mongolia    ┆ 2023-2024 ┆ 9   ┆ 0   ┆ … ┆ 11.77 ┆ 9    ┆ 314 ┆ 0   │\n",
       "│ South Korea ┆ 2022-2022 ┆ 4   ┆ 0   ┆ … ┆ 9.34  ┆ 4    ┆ 218 ┆ 0   │\n",
       "│ Vanuatu     ┆ 2019-2024 ┆ 34  ┆ 16  ┆ … ┆ 7.25  ┆ 34   ┆ 206 ┆ 94  │\n",
       "│ Botswana    ┆ 2019-2023 ┆ 39  ┆ 15  ┆ … ┆ 6.72  ┆ 38   ┆ 240 ┆ 37  │\n",
       "│ …           ┆ …         ┆ …   ┆ …   ┆ … ┆ …     ┆ …    ┆ …   ┆ …   │\n",
       "│ Luxembourg  ┆ 2019-2024 ┆ 45  ┆ 17  ┆ … ┆ 7.88  ┆ 45   ┆ 239 ┆ 28  │\n",
       "│ Singapore   ┆ 2019-2024 ┆ 48  ┆ 17  ┆ … ┆ 8.38  ┆ 48   ┆ 236 ┆ 53  │\n",
       "│ U.S.A.      ┆ 2019-2024 ┆ 34  ┆ 17  ┆ … ┆ 7.2   ┆ 34   ┆ 199 ┆ 69  │\n",
       "│ Denmark     ┆ 2019-2024 ┆ 38  ┆ 16  ┆ … ┆ 6.39  ┆ 36   ┆ 198 ┆ 33  │\n",
       "│ Norway      ┆ 2019-2024 ┆ 32  ┆ 16  ┆ … ┆ 6.65  ┆ 32   ┆ 176 ┆ 49  │\n",
       "└─────────────┴───────────┴─────┴─────┴───┴───────┴──────┴─────┴─────┘"
      ]
     },
     "execution_count": 11,
     "metadata": {},
     "output_type": "execute_result"
    }
   ],
   "source": [
    "teams_stats= pl.read_parquet(\"./historical_data/teams_stats.parquet\")\n",
    "teams_stats"
   ]
  },
  {
   "cell_type": "code",
   "execution_count": 21,
   "metadata": {},
   "outputs": [
    {
     "data": {
      "text/plain": [
       "(True, True, True)"
      ]
     },
     "execution_count": 21,
     "metadata": {},
     "output_type": "execute_result"
    }
   ],
   "source": [
    "len(batting_players['Player'])==len(batting_players['Player'].unique()),len(bowling_players['Player'])==len(bowling_players['Player'].unique()),len(teams_stats['Team'])==len(teams_stats['Team'].unique())"
   ]
  },
  {
   "cell_type": "code",
   "execution_count": 24,
   "metadata": {},
   "outputs": [
    {
     "data": {
      "text/plain": [
       "(103, 103)"
      ]
     },
     "execution_count": 24,
     "metadata": {},
     "output_type": "execute_result"
    }
   ],
   "source": [
    "len(matches['team1'].unique()),len(teams_stats['Team'])"
   ]
  },
  {
   "cell_type": "code",
   "execution_count": null,
   "metadata": {},
   "outputs": [],
   "source": []
  }
 ],
 "metadata": {
  "kernelspec": {
   "display_name": "eda",
   "language": "python",
   "name": "python3"
  },
  "language_info": {
   "codemirror_mode": {
    "name": "ipython",
    "version": 3
   },
   "file_extension": ".py",
   "mimetype": "text/x-python",
   "name": "python",
   "nbconvert_exporter": "python",
   "pygments_lexer": "ipython3",
   "version": "3.8.19"
  }
 },
 "nbformat": 4,
 "nbformat_minor": 2
}
